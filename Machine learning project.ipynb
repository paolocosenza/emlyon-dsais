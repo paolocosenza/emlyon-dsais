{
 "cells": [
  {
   "cell_type": "markdown",
   "id": "31d714bd",
   "metadata": {},
   "source": [
    "# Summary"
   ]
  },
  {
   "cell_type": "code",
   "execution_count": 1,
   "id": "a3702fe1",
   "metadata": {},
   "outputs": [
    {
     "data": {
      "text/html": [
       " # <b><font color='blus'><h1>Machine Learning Project - Paolo COSENZA</h1></font></b>\n",
       "<script>\n",
       "function repeat_indent_string(n){\n",
       "    var a = \"\" ;\n",
       "    for ( ; n > 0 ; --n)\n",
       "        a += \"    \";\n",
       "    return a;\n",
       "}\n",
       "// look up into all sections and builds an automated menu //\n",
       "var update_menu_string = function(begin, lfirst, llast, sformat, send, keep_item, begin_format, end_format) {\n",
       "    var anchors = document.getElementsByClassName(\"section\");\n",
       "    if (anchors.length == 0) {\n",
       "        anchors = document.getElementsByClassName(\"text_cell_render rendered_html\");\n",
       "    }\n",
       "    var i,t;\n",
       "    var text_menu = begin;\n",
       "    var text_memo = \"<pre>\\nlength:\" + anchors.length + \"\\n\";\n",
       "    var ind = \"\";\n",
       "    var memo_level = 1;\n",
       "    var href;\n",
       "    var tags = [];\n",
       "    var main_item = 0;\n",
       "    var format_open = 0;\n",
       "    for (i = 0; i <= llast; i++)\n",
       "        tags.push(\"h\" + i);\n",
       "\n",
       "    for (i = 0; i < anchors.length; i++) {\n",
       "        text_memo += \"**\" + anchors[i].id + \"--\\n\";\n",
       "\n",
       "        var child = null;\n",
       "        for(t = 0; t < tags.length; t++) {\n",
       "            var r = anchors[i].getElementsByTagName(tags[t]);\n",
       "            if (r.length > 0) {\n",
       "child = r[0];\n",
       "break;\n",
       "            }\n",
       "        }\n",
       "        if (child == null) {\n",
       "            text_memo += \"null\\n\";\n",
       "            continue;\n",
       "        }\n",
       "        if (anchors[i].hasAttribute(\"id\")) {\n",
       "            // when converted in RST\n",
       "            href = anchors[i].id;\n",
       "            text_memo += \"#1-\" + href;\n",
       "            // passer à child suivant (le chercher)\n",
       "        }\n",
       "        else if (child.hasAttribute(\"id\")) {\n",
       "            // in a notebook\n",
       "            href = child.id;\n",
       "            text_memo += \"#2-\" + href;\n",
       "        }\n",
       "        else {\n",
       "            text_memo += \"#3-\" + \"*\" + \"\\n\";\n",
       "            continue;\n",
       "        }\n",
       "        var title = child.textContent;\n",
       "        var level = parseInt(child.tagName.substring(1,2));\n",
       "\n",
       "        text_memo += \"--\" + level + \"?\" + lfirst + \"--\" + title + \"\\n\";\n",
       "\n",
       "        if ((level < lfirst) || (level > llast)) {\n",
       "            continue ;\n",
       "        }\n",
       "        if (title.endsWith('¶')) {\n",
       "            title = title.substring(0,title.length-1).replace(\"<\", \"&lt;\")\n",
       "         .replace(\">\", \"&gt;\").replace(\"&\", \"&amp;\");\n",
       "        }\n",
       "        if (title.length == 0) {\n",
       "            continue;\n",
       "        }\n",
       "\n",
       "        while (level < memo_level) {\n",
       "            text_menu += end_format + \"</ul>\\n\";\n",
       "            format_open -= 1;\n",
       "            memo_level -= 1;\n",
       "        }\n",
       "        if (level == lfirst) {\n",
       "            main_item += 1;\n",
       "        }\n",
       "        if (keep_item != -1 && main_item != keep_item + 1) {\n",
       "            // alert(main_item + \" - \" + level + \" - \" + keep_item);\n",
       "            continue;\n",
       "        }\n",
       "        while (level > memo_level) {\n",
       "            text_menu += \"<ul>\\n\";\n",
       "            memo_level += 1;\n",
       "        }\n",
       "        text_menu += repeat_indent_string(level-2);\n",
       "        text_menu += begin_format + sformat.replace(\"__HREF__\", href).replace(\"__TITLE__\", title);\n",
       "        format_open += 1;\n",
       "    }\n",
       "    while (1 < memo_level) {\n",
       "        text_menu += end_format + \"</ul>\\n\";\n",
       "        memo_level -= 1;\n",
       "        format_open -= 1;\n",
       "    }\n",
       "    text_menu += send;\n",
       "    //text_menu += \"\\n\" + text_memo;\n",
       "\n",
       "    while (format_open > 0) {\n",
       "        text_menu += end_format;\n",
       "        format_open -= 1;\n",
       "    }\n",
       "    return text_menu;\n",
       "};\n",
       "var update_menu = function() {\n",
       "    var sbegin = \"\";\n",
       "    var sformat = '<a href=\"#__HREF__\">__TITLE__</a>';\n",
       "    var send = \"\";\n",
       "    var begin_format = '<li>';\n",
       "    var end_format = '</li>';\n",
       "    var keep_item = -1;\n",
       "    var text_menu = update_menu_string(sbegin, 1, 4, sformat, send, keep_item,\n",
       "       begin_format, end_format);\n",
       "    var menu = document.getElementById(\"my_id_menu_nb\");\n",
       "    menu.innerHTML=text_menu;\n",
       "};\n",
       "window.setTimeout(update_menu,2000);\n",
       "            </script>"
      ],
      "text/plain": [
       "<IPython.core.display.HTML object>"
      ]
     },
     "execution_count": 1,
     "metadata": {},
     "output_type": "execute_result"
    }
   ],
   "source": [
    "<font color='red'><h1>Machine Learning Project - Paolo COSENZA</h1></font>\")"
   ]
  },
  {
   "cell_type": "markdown",
   "id": "500a27f0",
   "metadata": {},
   "source": [
    "# 1. Libraries import and dataset path"
   ]
  },
  {
   "cell_type": "code",
   "execution_count": 2,
   "id": "fcc74895",
   "metadata": {},
   "outputs": [],
   "source": [
    "%load_ext autoreload   \n",
    "%autoreload 2\n",
    "%matplotlib inline"
   ]
  },
  {
   "cell_type": "code",
   "execution_count": 3,
   "id": "f45c667a",
   "metadata": {},
   "outputs": [],
   "source": [
    "import pandas as pd\n",
    "import numpy as np\n",
    "import os\n",
    "import sys\n",
    "import copy\n",
    "import logging\n",
    "import sklearn\n",
    "from collections import OrderedDict\n",
    "\n",
    "# for manipulating data\n",
    "import numpy as np\n",
    "import pandas as pd\n",
    "import math\n",
    "import dill\n",
    "\n",
    "# for Machine Learning\n",
    "from sklearn.ensemble import RandomForestRegressor, RandomForestClassifier, BaggingRegressor\n",
    "from sklearn.tree import DecisionTreeRegressor, DecisionTreeClassifier, plot_tree\n",
    "from sklearn import metrics\n",
    "from sklearn.linear_model import LinearRegression\n",
    "from sklearn.preprocessing import LabelEncoder\n",
    "from sklearn.model_selection import cross_val_score, KFold, GridSearchCV\n",
    "from sklearn.calibration import CalibratedClassifierCV\n",
    "from sklearn.inspection import permutation_importance\n",
    "from scipy.cluster import hierarchy\n",
    "\n",
    "# for visualization\n",
    "from IPython.display import display\n",
    "from matplotlib import pyplot as plt"
   ]
  },
  {
   "cell_type": "code",
   "execution_count": 4,
   "id": "19a7c704",
   "metadata": {},
   "outputs": [
    {
     "data": {
      "text/plain": [
       "'C:\\\\Users\\\\paolo\\\\Documents\\\\Emlyon\\\\01. First period\\\\09. Advanced machine learning\\\\main'"
      ]
     },
     "execution_count": 4,
     "metadata": {},
     "output_type": "execute_result"
    }
   ],
   "source": [
    "# path to repo\n",
    "path_to_repo = os.path.dirname(os.path.dirname(os.path.realpath('__file__')))\n",
    "path_to_repo"
   ]
  },
  {
   "cell_type": "code",
   "execution_count": 5,
   "id": "83f4bdd3",
   "metadata": {},
   "outputs": [],
   "source": [
    "sys.path.insert(0, os.path.join(path_to_repo, 'src'))\n",
    "\n",
    "# custom module\n",
    "from emlyon.utils import *"
   ]
  },
  {
   "cell_type": "code",
   "execution_count": 6,
   "id": "9b6d2af7",
   "metadata": {},
   "outputs": [
    {
     "name": "stdout",
     "output_type": "stream",
     "text": [
      "C:\\Users\\paolo\\Documents\\Emlyon\\01. First period\\09. Advanced machine learning\\main\\data\\laptop.csv\n"
     ]
    }
   ],
   "source": [
    "# define the path to dataset\n",
    "path_to_dataset = os.path.join(path_to_repo, 'data' ,'laptop.csv')\n",
    "print(path_to_dataset)"
   ]
  },
  {
   "cell_type": "markdown",
   "id": "6259fe25",
   "metadata": {},
   "source": [
    "# 2. Presentation of the dataset"
   ]
  },
  {
   "cell_type": "markdown",
   "id": "17625bfa",
   "metadata": {},
   "source": [
    "The dataset was found on Kaggle at <a href=\"https://www.kaggle.com/datasets/latoyaclarke/laptop-sales\">this</a> address. It contains many different laptop models, with their specifications and the retail price at which the laptops were sold. Other columns include:\n",
    "\n",
    "- <b>Configuration</b>: a column containing an integer for every laptop configuration, i. e. the mix of different specifications (RAM, hard disk, screen size, ...) that make a laptop unique. It can be seen as a sort of <i>laptop model</i>\n",
    "- <b>Customer X and customer Y</b>: alongside each laptop there are also two integers that identify two customers that bought the laptop\n",
    "- <b>Store X and store Y</b>: each row provides two integers to identify the stores where the laptops were sold"
   ]
  },
  {
   "cell_type": "code",
   "execution_count": 7,
   "id": "34e49093",
   "metadata": {},
   "outputs": [],
   "source": [
    "df_raw = pd.read_csv(path_to_dataset,\n",
    "                     low_memory = False)"
   ]
  },
  {
   "cell_type": "markdown",
   "id": "aa776c16",
   "metadata": {},
   "source": [
    "We are not using the parameter \"parsedates\" as the <i>Date</i> column still needs to be cleaned and as of now it would not be recognized as a timestamp object."
   ]
  },
  {
   "cell_type": "code",
   "execution_count": 8,
   "id": "14cc4ace",
   "metadata": {},
   "outputs": [
    {
     "data": {
      "text/plain": [
       "Date                       object\n",
       "Configuration               int64\n",
       "Customer Postcode          object\n",
       "Store Postcode             object\n",
       "Retail Price              float64\n",
       "Screen Size (Inches)        int64\n",
       "Battery Life (Hours)        int64\n",
       "RAM (GB)                    int64\n",
       "Processor Speeds (GHz)    float64\n",
       "Integrated Wireless?       object\n",
       "HD Size (GB)                int64\n",
       "Bundled Applications?      object\n",
       "customer X                  int64\n",
       "customer Y                  int64\n",
       "store X                   float64\n",
       "store Y                   float64\n",
       "dtype: object"
      ]
     },
     "execution_count": 8,
     "metadata": {},
     "output_type": "execute_result"
    }
   ],
   "source": [
    "df_raw.dtypes"
   ]
  },
  {
   "cell_type": "code",
   "execution_count": 9,
   "id": "8c28e7e4",
   "metadata": {},
   "outputs": [
    {
     "data": {
      "text/plain": [
       "(297572, 16)"
      ]
     },
     "execution_count": 9,
     "metadata": {},
     "output_type": "execute_result"
    }
   ],
   "source": [
    "df_raw.shape"
   ]
  },
  {
   "cell_type": "code",
   "execution_count": 10,
   "id": "cb5a4aeb",
   "metadata": {
    "scrolled": false
   },
   "outputs": [
    {
     "data": {
      "text/html": [
       "<div>\n",
       "<style scoped>\n",
       "    .dataframe tbody tr th:only-of-type {\n",
       "        vertical-align: middle;\n",
       "    }\n",
       "\n",
       "    .dataframe tbody tr th {\n",
       "        vertical-align: top;\n",
       "    }\n",
       "\n",
       "    .dataframe thead th {\n",
       "        text-align: right;\n",
       "    }\n",
       "</style>\n",
       "<table border=\"1\" class=\"dataframe\">\n",
       "  <thead>\n",
       "    <tr style=\"text-align: right;\">\n",
       "      <th></th>\n",
       "      <th>0</th>\n",
       "      <th>1</th>\n",
       "      <th>2</th>\n",
       "      <th>3</th>\n",
       "      <th>4</th>\n",
       "    </tr>\n",
       "  </thead>\n",
       "  <tbody>\n",
       "    <tr>\n",
       "      <th>Date</th>\n",
       "      <td>01/01/2008 5:47</td>\n",
       "      <td>01/02/2008 1:59</td>\n",
       "      <td>01/02/2008 21:35</td>\n",
       "      <td>01/03/2008 19:44</td>\n",
       "      <td>01/04/2008 15:02</td>\n",
       "    </tr>\n",
       "    <tr>\n",
       "      <th>Configuration</th>\n",
       "      <td>1</td>\n",
       "      <td>1</td>\n",
       "      <td>1</td>\n",
       "      <td>1</td>\n",
       "      <td>1</td>\n",
       "    </tr>\n",
       "    <tr>\n",
       "      <th>Customer Postcode</th>\n",
       "      <td>E1 6NU</td>\n",
       "      <td>SE26 5QF</td>\n",
       "      <td>SW15 1JN</td>\n",
       "      <td>W1U 2SA</td>\n",
       "      <td>SW3 2DY</td>\n",
       "    </tr>\n",
       "    <tr>\n",
       "      <th>Store Postcode</th>\n",
       "      <td>E2 0RY</td>\n",
       "      <td>SE8 3JD</td>\n",
       "      <td>SW18 1NN</td>\n",
       "      <td>NW5 2QH</td>\n",
       "      <td>SW1P 3AU</td>\n",
       "    </tr>\n",
       "    <tr>\n",
       "      <th>Retail Price</th>\n",
       "      <td>370.0</td>\n",
       "      <td>370.0</td>\n",
       "      <td>370.0</td>\n",
       "      <td>370.0</td>\n",
       "      <td>370.0</td>\n",
       "    </tr>\n",
       "    <tr>\n",
       "      <th>Screen Size (Inches)</th>\n",
       "      <td>15</td>\n",
       "      <td>15</td>\n",
       "      <td>15</td>\n",
       "      <td>15</td>\n",
       "      <td>15</td>\n",
       "    </tr>\n",
       "    <tr>\n",
       "      <th>Battery Life (Hours)</th>\n",
       "      <td>4</td>\n",
       "      <td>4</td>\n",
       "      <td>4</td>\n",
       "      <td>4</td>\n",
       "      <td>4</td>\n",
       "    </tr>\n",
       "    <tr>\n",
       "      <th>RAM (GB)</th>\n",
       "      <td>1</td>\n",
       "      <td>1</td>\n",
       "      <td>1</td>\n",
       "      <td>1</td>\n",
       "      <td>1</td>\n",
       "    </tr>\n",
       "    <tr>\n",
       "      <th>Processor Speeds (GHz)</th>\n",
       "      <td>1.5</td>\n",
       "      <td>1.5</td>\n",
       "      <td>1.5</td>\n",
       "      <td>1.5</td>\n",
       "      <td>1.5</td>\n",
       "    </tr>\n",
       "    <tr>\n",
       "      <th>Integrated Wireless?</th>\n",
       "      <td>Yes</td>\n",
       "      <td>Yes</td>\n",
       "      <td>Yes</td>\n",
       "      <td>Yes</td>\n",
       "      <td>Yes</td>\n",
       "    </tr>\n",
       "    <tr>\n",
       "      <th>HD Size (GB)</th>\n",
       "      <td>40</td>\n",
       "      <td>40</td>\n",
       "      <td>40</td>\n",
       "      <td>40</td>\n",
       "      <td>40</td>\n",
       "    </tr>\n",
       "    <tr>\n",
       "      <th>Bundled Applications?</th>\n",
       "      <td>Yes</td>\n",
       "      <td>Yes</td>\n",
       "      <td>Yes</td>\n",
       "      <td>Yes</td>\n",
       "      <td>Yes</td>\n",
       "    </tr>\n",
       "    <tr>\n",
       "      <th>customer X</th>\n",
       "      <td>533579</td>\n",
       "      <td>535546</td>\n",
       "      <td>523931</td>\n",
       "      <td>528476</td>\n",
       "      <td>527238</td>\n",
       "    </tr>\n",
       "    <tr>\n",
       "      <th>customer Y</th>\n",
       "      <td>182085</td>\n",
       "      <td>171459</td>\n",
       "      <td>175760</td>\n",
       "      <td>181338</td>\n",
       "      <td>178835</td>\n",
       "    </tr>\n",
       "    <tr>\n",
       "      <th>store X</th>\n",
       "      <td>535652.0</td>\n",
       "      <td>537175.0</td>\n",
       "      <td>525155.0</td>\n",
       "      <td>529248.0</td>\n",
       "      <td>529902.0</td>\n",
       "    </tr>\n",
       "    <tr>\n",
       "      <th>store Y</th>\n",
       "      <td>182961.0</td>\n",
       "      <td>177885.0</td>\n",
       "      <td>175180.0</td>\n",
       "      <td>185213.0</td>\n",
       "      <td>179641.0</td>\n",
       "    </tr>\n",
       "  </tbody>\n",
       "</table>\n",
       "</div>"
      ],
      "text/plain": [
       "                                      0                1                 2  \\\n",
       "Date                    01/01/2008 5:47  01/02/2008 1:59  01/02/2008 21:35   \n",
       "Configuration                         1                1                 1   \n",
       "Customer Postcode                E1 6NU         SE26 5QF          SW15 1JN   \n",
       "Store Postcode                   E2 0RY          SE8 3JD          SW18 1NN   \n",
       "Retail Price                      370.0            370.0             370.0   \n",
       "Screen Size (Inches)                 15               15                15   \n",
       "Battery Life (Hours)                  4                4                 4   \n",
       "RAM (GB)                              1                1                 1   \n",
       "Processor Speeds (GHz)              1.5              1.5               1.5   \n",
       "Integrated Wireless?                Yes              Yes               Yes   \n",
       "HD Size (GB)                         40               40                40   \n",
       "Bundled Applications?               Yes              Yes               Yes   \n",
       "customer X                       533579           535546            523931   \n",
       "customer Y                       182085           171459            175760   \n",
       "store X                        535652.0         537175.0          525155.0   \n",
       "store Y                        182961.0         177885.0          175180.0   \n",
       "\n",
       "                                       3                 4  \n",
       "Date                    01/03/2008 19:44  01/04/2008 15:02  \n",
       "Configuration                          1                 1  \n",
       "Customer Postcode                W1U 2SA           SW3 2DY  \n",
       "Store Postcode                   NW5 2QH          SW1P 3AU  \n",
       "Retail Price                       370.0             370.0  \n",
       "Screen Size (Inches)                  15                15  \n",
       "Battery Life (Hours)                   4                 4  \n",
       "RAM (GB)                               1                 1  \n",
       "Processor Speeds (GHz)               1.5               1.5  \n",
       "Integrated Wireless?                 Yes               Yes  \n",
       "HD Size (GB)                          40                40  \n",
       "Bundled Applications?                Yes               Yes  \n",
       "customer X                        528476            527238  \n",
       "customer Y                        181338            178835  \n",
       "store X                         529248.0          529902.0  \n",
       "store Y                         185213.0          179641.0  "
      ]
     },
     "execution_count": 10,
     "metadata": {},
     "output_type": "execute_result"
    }
   ],
   "source": [
    "df_raw.head().T"
   ]
  },
  {
   "cell_type": "markdown",
   "id": "7e63a03a",
   "metadata": {},
   "source": [
    "# 3. Data cleaning and preprocessing"
   ]
  },
  {
   "cell_type": "markdown",
   "id": "a623896e",
   "metadata": {},
   "source": [
    "## 3.1 Variable to predict"
   ]
  },
  {
   "cell_type": "markdown",
   "id": "5cb29a3f",
   "metadata": {},
   "source": [
    "We will be predicting the <i>Retail Price</i> variable. As we've seen in class, a great metric to assess the accuracy of a model that predicts prices is the <b>root mean squared error (RMSE)</b>. We'll use this metric for this project as well, alongside with the <i>log</i> of the prices."
   ]
  },
  {
   "cell_type": "code",
   "execution_count": 11,
   "id": "1ed51895",
   "metadata": {
    "scrolled": true
   },
   "outputs": [
    {
     "data": {
      "text/plain": [
       "count    284129.000000\n",
       "mean        508.125936\n",
       "std         104.611789\n",
       "min         168.000000\n",
       "25%         440.000000\n",
       "50%         500.000000\n",
       "75%         575.000000\n",
       "max         890.000000\n",
       "Name: Retail Price, dtype: float64"
      ]
     },
     "execution_count": 11,
     "metadata": {},
     "output_type": "execute_result"
    }
   ],
   "source": [
    "df_raw['Retail Price'].describe()"
   ]
  },
  {
   "cell_type": "code",
   "execution_count": 12,
   "id": "b170d861",
   "metadata": {},
   "outputs": [],
   "source": [
    "df_raw['Retail Price'] = np.log(df_raw['Retail Price'])"
   ]
  },
  {
   "cell_type": "code",
   "execution_count": 13,
   "id": "3a699a99",
   "metadata": {
    "scrolled": true
   },
   "outputs": [
    {
     "data": {
      "text/plain": [
       "count    284129.000000\n",
       "mean          6.208971\n",
       "std           0.211351\n",
       "min           5.123964\n",
       "25%           6.086775\n",
       "50%           6.214608\n",
       "75%           6.354370\n",
       "max           6.791221\n",
       "Name: Retail Price, dtype: float64"
      ]
     },
     "execution_count": 13,
     "metadata": {},
     "output_type": "execute_result"
    }
   ],
   "source": [
    "df_raw['Retail Price'].describe()"
   ]
  },
  {
   "cell_type": "markdown",
   "id": "a8f1e8f2",
   "metadata": {},
   "source": [
    "## 3.2 Convert date times"
   ]
  },
  {
   "cell_type": "code",
   "execution_count": 14,
   "id": "500ca833",
   "metadata": {
    "scrolled": true
   },
   "outputs": [
    {
     "data": {
      "text/plain": [
       "0          01/01/2008 5:47\n",
       "1          01/02/2008 1:59\n",
       "2         01/02/2008 21:35\n",
       "3         01/03/2008 19:44\n",
       "4         01/04/2008 15:02\n",
       "                ...       \n",
       "297567     12/29/2008 4:32\n",
       "297568     12/29/2008 9:31\n",
       "297569    12/30/2008 10:23\n",
       "297570    12/30/2008 11:20\n",
       "297571    12/30/2008 15:19\n",
       "Name: Date, Length: 297572, dtype: object"
      ]
     },
     "execution_count": 14,
     "metadata": {},
     "output_type": "execute_result"
    }
   ],
   "source": [
    "df_raw['Date']"
   ]
  },
  {
   "cell_type": "markdown",
   "id": "66468971",
   "metadata": {},
   "source": [
    "We first note that slashes (/) are used to format dates instead of dashes (-). We replace those characters."
   ]
  },
  {
   "cell_type": "code",
   "execution_count": 15,
   "id": "c781fe27",
   "metadata": {},
   "outputs": [],
   "source": [
    "df_raw['Date'] = df_raw['Date'].str.replace('/', '-')"
   ]
  },
  {
   "cell_type": "markdown",
   "id": "4d66d793",
   "metadata": {},
   "source": [
    "The function <i>add_datepart</i> doesn't take into account minutes and seconds, so we'd better remove them from the date. Also, in order to get coherent column names, we duplicate the column 'Date' in 'Date_' and delete the first one."
   ]
  },
  {
   "cell_type": "code",
   "execution_count": 16,
   "id": "24fdd992",
   "metadata": {},
   "outputs": [],
   "source": [
    "df_raw['Date_'] = df_raw['Date'].str.slice(stop = -5)"
   ]
  },
  {
   "cell_type": "code",
   "execution_count": 17,
   "id": "eafd3208",
   "metadata": {},
   "outputs": [
    {
     "name": "stderr",
     "output_type": "stream",
     "text": [
      "C:\\Users\\paolo\\Documents\\Emlyon\\01. First period\\09. Advanced machine learning\\main\\src\\emlyon\\utils.py:161: FutureWarning: Series.dt.weekofyear and Series.dt.week have been deprecated. Please use Series.dt.isocalendar().week instead.\n",
      "  for n in attr: df[targ_pre + n] = getattr(fld.dt, n.lower())      # puts the name on the df columns\n"
     ]
    }
   ],
   "source": [
    "add_datepart(df_raw, 'Date_')"
   ]
  },
  {
   "cell_type": "code",
   "execution_count": 18,
   "id": "ff13cc4e",
   "metadata": {},
   "outputs": [],
   "source": [
    "df_raw = df_raw.drop('Date', axis=1)"
   ]
  },
  {
   "cell_type": "code",
   "execution_count": 19,
   "id": "ca303035",
   "metadata": {
    "scrolled": true
   },
   "outputs": [
    {
     "data": {
      "text/plain": [
       "['Date_Year',\n",
       " 'Date_Month',\n",
       " 'Date_Week',\n",
       " 'Date_Day',\n",
       " 'Date_Dayofweek',\n",
       " 'Date_Dayofyear',\n",
       " 'Date_Is_month_end',\n",
       " 'Date_Is_month_start',\n",
       " 'Date_Is_quarter_end',\n",
       " 'Date_Is_quarter_start',\n",
       " 'Date_Is_year_end',\n",
       " 'Date_Is_year_start',\n",
       " 'Date_Elapsed']"
      ]
     },
     "execution_count": 19,
     "metadata": {},
     "output_type": "execute_result"
    }
   ],
   "source": [
    "[df_raw.columns[i] for i in range(len(df_raw.columns)) if df_raw.columns[i].startswith('Date')]"
   ]
  },
  {
   "cell_type": "code",
   "execution_count": 20,
   "id": "7cd46f9f",
   "metadata": {},
   "outputs": [
    {
     "data": {
      "text/plain": [
       "28"
      ]
     },
     "execution_count": 20,
     "metadata": {},
     "output_type": "execute_result"
    }
   ],
   "source": [
    "len(df_raw.columns)"
   ]
  },
  {
   "cell_type": "markdown",
   "id": "e1c479df",
   "metadata": {},
   "source": [
    "Our dataframe now contains 28 columns."
   ]
  },
  {
   "cell_type": "markdown",
   "id": "e96585e4",
   "metadata": {},
   "source": [
    "## 3.3 Convert strings into numbered categories"
   ]
  },
  {
   "cell_type": "code",
   "execution_count": 21,
   "id": "927d5b41",
   "metadata": {},
   "outputs": [],
   "source": [
    "train_cats(df_raw)"
   ]
  },
  {
   "cell_type": "code",
   "execution_count": 22,
   "id": "195d7bc1",
   "metadata": {},
   "outputs": [
    {
     "data": {
      "text/plain": [
       "Configuration             False\n",
       "Customer Postcode          True\n",
       "Store Postcode             True\n",
       "Retail Price              False\n",
       "Screen Size (Inches)      False\n",
       "Battery Life (Hours)      False\n",
       "RAM (GB)                  False\n",
       "Processor Speeds (GHz)    False\n",
       "Integrated Wireless?       True\n",
       "HD Size (GB)              False\n",
       "Bundled Applications?      True\n",
       "customer X                False\n",
       "customer Y                False\n",
       "store X                   False\n",
       "store Y                   False\n",
       "Date_Year                 False\n",
       "Date_Month                False\n",
       "Date_Week                 False\n",
       "Date_Day                  False\n",
       "Date_Dayofweek            False\n",
       "Date_Dayofyear            False\n",
       "Date_Is_month_end         False\n",
       "Date_Is_month_start       False\n",
       "Date_Is_quarter_end       False\n",
       "Date_Is_quarter_start     False\n",
       "Date_Is_year_end          False\n",
       "Date_Is_year_start        False\n",
       "Date_Elapsed              False\n",
       "dtype: bool"
      ]
     },
     "execution_count": 22,
     "metadata": {},
     "output_type": "execute_result"
    }
   ],
   "source": [
    "df_raw.dtypes == 'category'"
   ]
  },
  {
   "cell_type": "code",
   "execution_count": 23,
   "id": "24166a71",
   "metadata": {},
   "outputs": [
    {
     "data": {
      "text/plain": [
       "Customer Postcode        category\n",
       "Store Postcode           category\n",
       "Integrated Wireless?     category\n",
       "Bundled Applications?    category\n",
       "dtype: object"
      ]
     },
     "execution_count": 23,
     "metadata": {},
     "output_type": "execute_result"
    }
   ],
   "source": [
    "df_raw.dtypes[df_raw.dtypes == 'category']"
   ]
  },
  {
   "cell_type": "markdown",
   "id": "b7e294c2",
   "metadata": {},
   "source": [
    "None of these categories presents an inner hierarchy to be respected (like 'Low', 'Medium', 'High'), so we don't need to reorder them."
   ]
  },
  {
   "cell_type": "markdown",
   "id": "43f3677f",
   "metadata": {},
   "source": [
    "## 3.4 Inspect missing values"
   ]
  },
  {
   "cell_type": "code",
   "execution_count": 24,
   "id": "792353b1",
   "metadata": {},
   "outputs": [
    {
     "data": {
      "text/plain": [
       "Retail Price              0.045176\n",
       "Date_Year                 0.000702\n",
       "Date_Dayofyear            0.000702\n",
       "Date_Dayofweek            0.000702\n",
       "Date_Day                  0.000702\n",
       "Date_Week                 0.000702\n",
       "Date_Month                0.000702\n",
       "store Y                   0.000497\n",
       "store X                   0.000497\n",
       "Date_Is_year_start        0.000000\n",
       "Date_Is_year_end          0.000000\n",
       "Date_Is_quarter_start     0.000000\n",
       "Date_Is_quarter_end       0.000000\n",
       "Date_Is_month_start       0.000000\n",
       "Date_Is_month_end         0.000000\n",
       "Configuration             0.000000\n",
       "Customer Postcode         0.000000\n",
       "customer Y                0.000000\n",
       "customer X                0.000000\n",
       "Bundled Applications?     0.000000\n",
       "HD Size (GB)              0.000000\n",
       "Integrated Wireless?      0.000000\n",
       "Processor Speeds (GHz)    0.000000\n",
       "RAM (GB)                  0.000000\n",
       "Battery Life (Hours)      0.000000\n",
       "Screen Size (Inches)      0.000000\n",
       "Store Postcode            0.000000\n",
       "Date_Elapsed              0.000000\n",
       "dtype: float64"
      ]
     },
     "execution_count": 24,
     "metadata": {},
     "output_type": "execute_result"
    }
   ],
   "source": [
    "df_raw.isnull().sum().sort_values(ascending = False)/len(df_raw)"
   ]
  },
  {
   "cell_type": "markdown",
   "id": "94c54295",
   "metadata": {},
   "source": [
    "4.5% of Retail Price values are missing. Since this is our <b>target variable</b>, these rows become useless. Therefore, we drop them from the dataset."
   ]
  },
  {
   "cell_type": "code",
   "execution_count": 25,
   "id": "e471b8ac",
   "metadata": {},
   "outputs": [],
   "source": [
    "df_raw = df_raw[df_raw['Retail Price'].notnull()]"
   ]
  },
  {
   "cell_type": "code",
   "execution_count": 26,
   "id": "a65359b1",
   "metadata": {},
   "outputs": [
    {
     "data": {
      "text/plain": [
       "0.0"
      ]
     },
     "execution_count": 26,
     "metadata": {},
     "output_type": "execute_result"
    }
   ],
   "source": [
    "df_raw['Retail Price'].isnull().sum()/len(df_raw)"
   ]
  },
  {
   "cell_type": "markdown",
   "id": "0dc8bbec",
   "metadata": {},
   "source": [
    "## 3.5 Fully numericalize data"
   ]
  },
  {
   "cell_type": "code",
   "execution_count": 27,
   "id": "bc62440c",
   "metadata": {},
   "outputs": [],
   "source": [
    "df, y, nas = proc_df(df_raw, 'Retail Price')"
   ]
  },
  {
   "cell_type": "code",
   "execution_count": 28,
   "id": "205c2b49",
   "metadata": {},
   "outputs": [
    {
     "data": {
      "text/plain": [
       "Configuration               int64\n",
       "Customer Postcode           int16\n",
       "Store Postcode               int8\n",
       "Screen Size (Inches)        int64\n",
       "Battery Life (Hours)        int64\n",
       "RAM (GB)                    int64\n",
       "Processor Speeds (GHz)    float64\n",
       "Integrated Wireless?         int8\n",
       "HD Size (GB)                int64\n",
       "Bundled Applications?        int8\n",
       "customer X                  int64\n",
       "customer Y                  int64\n",
       "store X                   float64\n",
       "store Y                   float64\n",
       "Date_Year                 float64\n",
       "Date_Month                float64\n",
       "Date_Week                 float64\n",
       "Date_Day                  float64\n",
       "Date_Dayofweek            float64\n",
       "Date_Dayofyear            float64\n",
       "Date_Is_month_end            bool\n",
       "Date_Is_month_start          bool\n",
       "Date_Is_quarter_end          bool\n",
       "Date_Is_quarter_start        bool\n",
       "Date_Is_year_end             bool\n",
       "Date_Is_year_start           bool\n",
       "Date_Elapsed                int64\n",
       "store X_na                   bool\n",
       "store Y_na                   bool\n",
       "Date_Year_na                 bool\n",
       "Date_Month_na                bool\n",
       "Date_Week_na                 bool\n",
       "Date_Day_na                  bool\n",
       "Date_Dayofweek_na            bool\n",
       "Date_Dayofyear_na            bool\n",
       "dtype: object"
      ]
     },
     "execution_count": 28,
     "metadata": {},
     "output_type": "execute_result"
    }
   ],
   "source": [
    "df.dtypes"
   ]
  },
  {
   "cell_type": "code",
   "execution_count": 29,
   "id": "33ff9e27",
   "metadata": {},
   "outputs": [
    {
     "data": {
      "text/plain": [
       "array([5.91350301, 5.91350301, 5.91350301, ..., 6.3526294 , 6.3526294 ,\n",
       "       6.70930434])"
      ]
     },
     "execution_count": 29,
     "metadata": {},
     "output_type": "execute_result"
    }
   ],
   "source": [
    "y"
   ]
  },
  {
   "cell_type": "code",
   "execution_count": 30,
   "id": "36e3a24a",
   "metadata": {
    "scrolled": true
   },
   "outputs": [
    {
     "data": {
      "text/plain": [
       "{'store X': 529902.0,\n",
       " 'store Y': 179641.0,\n",
       " 'Date_Year': 2008.0,\n",
       " 'Date_Month': 9.0,\n",
       " 'Date_Week': 35.0,\n",
       " 'Date_Day': 16.0,\n",
       " 'Date_Dayofweek': 3.0,\n",
       " 'Date_Dayofyear': 246.0}"
      ]
     },
     "execution_count": 30,
     "metadata": {},
     "output_type": "execute_result"
    }
   ],
   "source": [
    "nas"
   ]
  },
  {
   "cell_type": "markdown",
   "id": "a2172010",
   "metadata": {},
   "source": [
    "## 3.6 Dataset split and score functions"
   ]
  },
  {
   "cell_type": "code",
   "execution_count": 31,
   "id": "6817e031",
   "metadata": {},
   "outputs": [],
   "source": [
    "def split_vals(df, n): \n",
    "    return df[:n].copy(), df[n:].copy()"
   ]
  },
  {
   "cell_type": "code",
   "execution_count": 32,
   "id": "91795c62",
   "metadata": {},
   "outputs": [
    {
     "name": "stdout",
     "output_type": "stream",
     "text": [
      "full number of data points : 284129\n",
      "number of validation data points : 28413\n",
      "number of training data points : 255716\n",
      "number of subsampled training points : 20000\n"
     ]
    }
   ],
   "source": [
    "n_total = len(df)\n",
    "n_valid = round(.1*len(df)) \n",
    "n_train = n_total - n_valid\n",
    "n_small = 20000 \n",
    "\n",
    "print('full number of data points : {}'.format(n_total))\n",
    "print('number of validation data points : {}'.format(n_valid))\n",
    "print('number of training data points : {}'.format(n_train))\n",
    "print('number of subsampled training points : {}'.format(n_small))"
   ]
  },
  {
   "cell_type": "markdown",
   "id": "0cc9f0fa",
   "metadata": {},
   "source": [
    "We decide to keep 10% of the data on the <b>validation set</b> and to leave the remaining 90% of it for the <b>training set</b>."
   ]
  },
  {
   "cell_type": "code",
   "execution_count": 33,
   "id": "598adcee",
   "metadata": {},
   "outputs": [
    {
     "name": "stdout",
     "output_type": "stream",
     "text": [
      "Number of small training data points: X = (20000, 35), y = (20000,)\n",
      "Number of full training data points: X = (255716, 35), y = (255716,)\n",
      "Number of validation data points: X = (28413, 35), y = (28413,)\n"
     ]
    }
   ],
   "source": [
    "X_train, X_valid = split_vals(df, n_train)\n",
    "y_train, y_valid = split_vals(y, n_train)\n",
    "\n",
    "X_small, _ = split_vals(X_train, n_small)\n",
    "y_small, _ = split_vals(y_train, n_small)\n",
    "\n",
    "print('Number of small training data points: X = {}, y = {}'.format(X_small.shape, y_small.shape))\n",
    "print('Number of full training data points: X = {}, y = {}'.format(X_train.shape, y_train.shape))\n",
    "print('Number of validation data points: X = {}, y = {}'.format(X_valid.shape, y_valid.shape))"
   ]
  },
  {
   "cell_type": "code",
   "execution_count": 34,
   "id": "d016f98a",
   "metadata": {},
   "outputs": [],
   "source": [
    "def rmse(y_gold, y_pred):    # y_gold = true values\n",
    "    return math.sqrt(((y_gold - y_pred)**2).mean())   # y is logged, so we don't need to log() it"
   ]
  },
  {
   "cell_type": "code",
   "execution_count": 35,
   "id": "dea18bef",
   "metadata": {},
   "outputs": [],
   "source": [
    "def print_score(m, X_train, y_train, X_valid, y_valid):\n",
    "    print('RMSE on train set: {:.4f}'.format(rmse(m.predict(X_train), y_train)))\n",
    "    print('RMSE on valid set: {:.4f}'.format(rmse(m.predict(X_valid), y_valid)))\n",
    "    print('R^2 on train set: {:.4f}'.format(m.score(X_train, y_train)))\n",
    "    print('R^2 on valid set: {:.4f}'.format(m.score(X_valid, y_valid)))\n",
    "    if hasattr(m, 'oob_score_'): print('R^2 on oob set: {:.4f}'.format(m.oob_score_))  # checks if an object as an attribute\n",
    "    return                                                                             # for the oob set, more later on"
   ]
  },
  {
   "cell_type": "markdown",
   "id": "ac277e38",
   "metadata": {},
   "source": [
    "# 4. Regression models"
   ]
  },
  {
   "cell_type": "markdown",
   "id": "e641d7a7",
   "metadata": {},
   "source": [
    "## 4.1 Random Forest Regressor"
   ]
  },
  {
   "cell_type": "markdown",
   "id": "41b29741",
   "metadata": {},
   "source": [
    "We begin by using a simple Random Forest Regressor model on the small dataset."
   ]
  },
  {
   "cell_type": "code",
   "execution_count": 36,
   "id": "58485fb9",
   "metadata": {},
   "outputs": [
    {
     "name": "stdout",
     "output_type": "stream",
     "text": [
      "CPU times: total: 1.31 s\n",
      "Wall time: 345 ms\n",
      "RMSE on train set: 0.0208\n",
      "RMSE on valid set: 0.5639\n",
      "R^2 on train set: 0.9877\n",
      "R^2 on valid set: -10.1195\n"
     ]
    }
   ],
   "source": [
    "base_model = RandomForestRegressor(n_estimators = 10, \n",
    "                                   n_jobs = -1)\n",
    "\n",
    "%time base_model.fit(X_small, y_small)\n",
    "print_score(base_model, X_small, y_small, X_valid, y_valid)"
   ]
  },
  {
   "cell_type": "markdown",
   "id": "29f265b3",
   "metadata": {},
   "source": [
    "Terrible results. Let's try the model on the training set."
   ]
  },
  {
   "cell_type": "code",
   "execution_count": 37,
   "id": "0eda6e01",
   "metadata": {},
   "outputs": [
    {
     "name": "stdout",
     "output_type": "stream",
     "text": [
      "CPU times: total: 22.2 s\n",
      "Wall time: 4.45 s\n",
      "RMSE on train set: 0.0138\n",
      "RMSE on valid set: 0.1037\n",
      "R^2 on train set: 0.9953\n",
      "R^2 on valid set: 0.6240\n"
     ]
    }
   ],
   "source": [
    "%time base_model.fit(X_train, y_train)\n",
    "print_score(base_model, X_train, y_train, X_valid, y_valid)"
   ]
  },
  {
   "cell_type": "markdown",
   "id": "77b6e51b",
   "metadata": {},
   "source": [
    "Results are much better, but the difference between the R2 of the train and validation set is still too enormous. We train the model again by adding the <b>bootstrap</b> feature and the <b>OOB score</b> to see if Training and Validation sets carry big differences."
   ]
  },
  {
   "cell_type": "code",
   "execution_count": 38,
   "id": "8756dcef",
   "metadata": {},
   "outputs": [
    {
     "name": "stdout",
     "output_type": "stream",
     "text": [
      "CPU times: total: 5.81 s\n",
      "Wall time: 1.01 s\n",
      "RMSE on train set: 0.0178\n",
      "RMSE on valid set: 0.5632\n",
      "R^2 on train set: 0.9909\n",
      "R^2 on valid set: -10.0925\n",
      "R^2 on oob set: 0.9352\n"
     ]
    }
   ],
   "source": [
    "model = RandomForestRegressor(\n",
    "    n_estimators = 40, \n",
    "    n_jobs = -1, \n",
    "    \n",
    "    bootstrap = True,\n",
    "    oob_score = True, # default = False\n",
    "    max_samples = None,\n",
    ")\n",
    "\n",
    "%time model.fit(X_small, y_small)\n",
    "print_score(model, X_small, y_small, X_valid, y_valid)"
   ]
  },
  {
   "cell_type": "markdown",
   "id": "f2cef37e",
   "metadata": {},
   "source": [
    "The R2 on the out-of-bag set is very high, while the R2 on the validation set is still terrible. This may be caused by a dishomogeneity on the small training set and the validation set.\n",
    "\n",
    "Cross validation should allow us to further investigate into this issue."
   ]
  },
  {
   "cell_type": "code",
   "execution_count": 39,
   "id": "5f9b4c0f",
   "metadata": {},
   "outputs": [
    {
     "name": "stdout",
     "output_type": "stream",
     "text": [
      "[0.57580889 0.72169987 0.80235523 0.67052776 0.77394153]\n",
      "r2 is 0.709 with a standard deviation of 0.080\n"
     ]
    }
   ],
   "source": [
    "scores = cross_val_score(model, X_small, y_small, cv = 5, n_jobs = -1)\n",
    "\n",
    "print(scores)\n",
    "print(\"r2 is {:.3f} with a standard deviation of {:.3f}\".format(scores.mean(), scores.std()))"
   ]
  },
  {
   "cell_type": "markdown",
   "id": "cabe451b",
   "metadata": {},
   "source": [
    "The R2 values calculated on the different folds are not consistent: another proof that the splitting on the dataset led to heavily unbalanced sets. This is why our model is not able to generalize."
   ]
  },
  {
   "cell_type": "markdown",
   "id": "8650c8ae",
   "metadata": {},
   "source": [
    "## 4.2 Identify source of unbalance in the dataset"
   ]
  },
  {
   "cell_type": "markdown",
   "id": "88b174ab",
   "metadata": {},
   "source": [
    "We begin by plotting the density curves for each array of the predicted variable."
   ]
  },
  {
   "cell_type": "code",
   "execution_count": 40,
   "id": "cfe808bc",
   "metadata": {
    "scrolled": false
   },
   "outputs": [
    {
     "data": {
      "image/png": "[encoded data removed]",
      "text/plain": [
       "<Figure size 640x480 with 1 Axes>"
      ]
     },
     "metadata": {},
     "output_type": "display_data"
    }
   ],
   "source": [
    "pd.Series(y).plot(kind = 'density', bw_method = 0.05, label='y')\n",
    "pd.Series(y_train).plot(kind = 'density', bw_method = 0.05, label='y_train')\n",
    "pd.Series(y_small).plot(kind = 'density', bw_method = 0.05, label='y_small')\n",
    "pd.Series(y_valid).plot(kind = 'density', bw_method = 0.05, label='y_valid')\n",
    "plt.legend(loc=\"upper left\")\n",
    "plt.show()"
   ]
  },
  {
   "cell_type": "markdown",
   "id": "5ec40361",
   "metadata": {},
   "source": [
    "The curves are very different from one another: whereas y_train follows the line of y, both y_small and y_valid do not represent the actual composition of the dataset and therefore they cannot be used to train a model.\n",
    "\n",
    "Just for comparison, this is the histogram for the bulldozer dataset used during class:"
   ]
  },
  {
   "attachments": {
    "Screenshot_20221214_100008.png": {
     "image/png": "[encoded data removed]"
    }
   },
   "cell_type": "markdown",
   "id": "ced4a18f",
   "metadata": {},
   "source": [
    "![Screenshot_20221214_100008.png](attachment:Screenshot_20221214_100008.png)"
   ]
  },
  {
   "cell_type": "markdown",
   "id": "4cb6e64f",
   "metadata": {},
   "source": [
    "The values in the dataset may be ordered in such a way that generates biases in the dataset - for instance, the vast majority of cheap computers may be gathered on the first half of the dataset.\n",
    "\n",
    "The best solution I could think of was to <b>randomly resample</b> the whole dataset, in order to make it more homogeneous."
   ]
  },
  {
   "cell_type": "code",
   "execution_count": 41,
   "id": "a44f8706",
   "metadata": {},
   "outputs": [],
   "source": [
    "df_raw = df_raw.sample(frac=1).reset_index(drop=True)"
   ]
  },
  {
   "cell_type": "code",
   "execution_count": 42,
   "id": "d1a462e6",
   "metadata": {},
   "outputs": [
    {
     "data": {
      "text/plain": [
       "(284129, 28)"
      ]
     },
     "execution_count": 42,
     "metadata": {},
     "output_type": "execute_result"
    }
   ],
   "source": [
    "df_raw.shape"
   ]
  },
  {
   "cell_type": "markdown",
   "id": "7a473338",
   "metadata": {},
   "source": [
    "I proceed by processing the dataframe once again."
   ]
  },
  {
   "cell_type": "code",
   "execution_count": 43,
   "id": "5942ff28",
   "metadata": {},
   "outputs": [],
   "source": [
    "df, y, nas = proc_df(df_raw, \"Retail Price\")"
   ]
  },
  {
   "cell_type": "code",
   "execution_count": 44,
   "id": "232c5753",
   "metadata": {},
   "outputs": [
    {
     "name": "stdout",
     "output_type": "stream",
     "text": [
      "full number of data points : 284129\n",
      "number of validation data points : 28413\n",
      "number of training data points : 255716\n",
      "number of subsampled training points : 20000\n"
     ]
    }
   ],
   "source": [
    "n_total = len(df)\n",
    "n_valid = round(.1*len(df)) \n",
    "n_train = n_total - n_valid\n",
    "n_small = 20000 \n",
    "\n",
    "print('full number of data points : {}'.format(n_total))\n",
    "print('number of validation data points : {}'.format(n_valid))\n",
    "print('number of training data points : {}'.format(n_train))\n",
    "print('number of subsampled training points : {}'.format(n_small))"
   ]
  },
  {
   "cell_type": "code",
   "execution_count": 45,
   "id": "b0af5c86",
   "metadata": {},
   "outputs": [
    {
     "name": "stdout",
     "output_type": "stream",
     "text": [
      "Number of small training data points: X = (20000, 35), y = (20000,)\n",
      "Number of full training data points: X = (255716, 35), y = (255716,)\n",
      "Number of validation data points: X = (28413, 35), y = (28413,)\n"
     ]
    }
   ],
   "source": [
    "X_train, X_valid = split_vals(df, n_train)\n",
    "y_train, y_valid = split_vals(y, n_train)\n",
    "\n",
    "X_small, _ = split_vals(X_train, n_small)\n",
    "y_small, _ = split_vals(y_train, n_small)\n",
    "\n",
    "print('Number of small training data points: X = {}, y = {}'.format(X_small.shape, y_small.shape))\n",
    "print('Number of full training data points: X = {}, y = {}'.format(X_train.shape, y_train.shape))\n",
    "print('Number of validation data points: X = {}, y = {}'.format(X_valid.shape, y_valid.shape))"
   ]
  },
  {
   "cell_type": "code",
   "execution_count": 46,
   "id": "8d776f1d",
   "metadata": {
    "scrolled": false
   },
   "outputs": [
    {
     "data": {
      "image/png": "[encoded data removed]",
      "text/plain": [
       "<Figure size 640x480 with 1 Axes>"
      ]
     },
     "metadata": {},
     "output_type": "display_data"
    }
   ],
   "source": [
    "pd.Series(y).plot(kind = 'density', bw_method = 0.05, label='y')\n",
    "pd.Series(y_train).plot(kind = 'density', bw_method = 0.05, label='y_train')\n",
    "pd.Series(y_small).plot(kind = 'density', bw_method = 0.05, label='y_small')\n",
    "pd.Series(y_valid).plot(kind = 'density', bw_method = 0.05, label='y_valid')\n",
    "plt.legend(loc=\"upper left\")\n",
    "plt.show()"
   ]
  },
  {
   "cell_type": "markdown",
   "id": "15335232",
   "metadata": {},
   "source": [
    "The curves are now homogeneous."
   ]
  },
  {
   "cell_type": "markdown",
   "id": "855366b4",
   "metadata": {},
   "source": [
    "## 4.3 Modelling on shuffled dataset"
   ]
  },
  {
   "cell_type": "code",
   "execution_count": 47,
   "id": "83c86cbc",
   "metadata": {},
   "outputs": [
    {
     "name": "stdout",
     "output_type": "stream",
     "text": [
      "CPU times: total: 9.14 s\n",
      "Wall time: 1.37 s\n",
      "RMSE on train set: 0.0284\n",
      "RMSE on valid set: 0.0735\n",
      "R^2 on train set: 0.9819\n",
      "R^2 on valid set: 0.8776\n",
      "R^2 on oob set: 0.8717\n"
     ]
    }
   ],
   "source": [
    "model = RandomForestRegressor(\n",
    "    n_estimators = 40, \n",
    "    n_jobs = -1, \n",
    "    \n",
    "    bootstrap = True,\n",
    "    oob_score = True, # default = False\n",
    "    max_samples = None,\n",
    ")\n",
    "\n",
    "%time model.fit(X_small, y_small)\n",
    "print_score(model, X_small, y_small, X_valid, y_valid)"
   ]
  },
  {
   "cell_type": "markdown",
   "id": "3f4b37a1",
   "metadata": {},
   "source": [
    "Finally our model produces some valid results. Most importantly, the <b>OOB score</b> and <b>R^2 score</b> on the valid set are finally close. \n",
    "\n",
    "Let's now introduce some <b>stopping criteria</b>, <b>data subsampling</b> and <b>features subsampling</b>."
   ]
  },
  {
   "cell_type": "code",
   "execution_count": 48,
   "id": "5de0bc7f",
   "metadata": {},
   "outputs": [
    {
     "name": "stdout",
     "output_type": "stream",
     "text": [
      "CPU times: total: 6.95 s\n",
      "Wall time: 1.39 s\n",
      "RMSE on train set: 0.0442\n",
      "RMSE on valid set: 0.0716\n",
      "R^2 on train set: 0.9564\n",
      "R^2 on valid set: 0.8839\n",
      "R^2 on oob set: 0.8827\n"
     ]
    }
   ],
   "source": [
    "model = RandomForestRegressor(\n",
    "    n_estimators = 100, \n",
    "    max_features = 0.5,                     # feature subsampling\n",
    "    n_jobs = -1, \n",
    "\n",
    "    max_depth = 20,                         # stopping criteria\n",
    "    min_samples_split = 2, \n",
    "    \n",
    "    bootstrap = True,\n",
    "    oob_score = True,\n",
    "    max_samples = 0.5,                       # data subsampling\n",
    ")\n",
    "\n",
    "%time model.fit(X_small, y_small)\n",
    "print_score(model, X_small, y_small, X_valid, y_valid)"
   ]
  },
  {
   "cell_type": "markdown",
   "id": "2fb8f29c",
   "metadata": {},
   "source": [
    "## 4.4 Hyperparameter tuning"
   ]
  },
  {
   "cell_type": "markdown",
   "id": "eff48dbb",
   "metadata": {},
   "source": [
    "After experimenting a bit with the model, we get an idea of which parameters affect the model the most. <b>Hyperparameter tuning</b> and <b>cross validation</b> through GridSearchCV allow us to try all the different combinations for this parameters on different areas of the dataset, so to generate the best possible RandomForestRegressor model."
   ]
  },
  {
   "cell_type": "code",
   "execution_count": 49,
   "id": "eab352d6",
   "metadata": {},
   "outputs": [],
   "source": [
    "param_grid = [\n",
    "    {'n_estimators': [40, 100],\n",
    "     'max_depth': [10, 20, None],\n",
    "     'min_samples_split': [2, 10],\n",
    "     'max_features': [0.4, 0.75, 1.],\n",
    "     'max_samples': [0.4, 0.75, 1.],\n",
    "    },\n",
    "]\n",
    "\n",
    "model = RandomForestRegressor(\n",
    "    bootstrap = True\n",
    ")"
   ]
  },
  {
   "cell_type": "code",
   "execution_count": 50,
   "id": "39423049",
   "metadata": {},
   "outputs": [],
   "source": [
    "tuned_model = GridSearchCV(\n",
    "    estimator = model, \n",
    "    param_grid = param_grid, \n",
    "    scoring = None, # uses estimator's default score method\n",
    "    n_jobs = -1, \n",
    "    refit = True, # keep a fitted version of the overall best model\n",
    "    cv = 5, \n",
    "    return_train_score = True,\n",
    "    verbose = 2,\n",
    ")"
   ]
  },
  {
   "cell_type": "code",
   "execution_count": 51,
   "id": "76f556c3",
   "metadata": {},
   "outputs": [
    {
     "name": "stdout",
     "output_type": "stream",
     "text": [
      "Fitting 5 folds for each of 108 candidates, totalling 540 fits\n"
     ]
    },
    {
     "data": {
      "text/html": [
       "<style>#sk-container-id-1 {color: black;background-color: white;}#sk-container-id-1 pre{padding: 0;}#sk-container-id-1 div.sk-toggleable {background-color: white;}#sk-container-id-1 label.sk-toggleable__label {cursor: pointer;display: block;width: 100%;margin-bottom: 0;padding: 0.3em;box-sizing: border-box;text-align: center;}#sk-container-id-1 label.sk-toggleable__label-arrow:before {content: \"▸\";float: left;margin-right: 0.25em;color: #696969;}#sk-container-id-1 label.sk-toggleable__label-arrow:hover:before {color: black;}#sk-container-id-1 div.sk-estimator:hover label.sk-toggleable__label-arrow:before {color: black;}#sk-container-id-1 div.sk-toggleable__content {max-height: 0;max-width: 0;overflow: hidden;text-align: left;background-color: #f0f8ff;}#sk-container-id-1 div.sk-toggleable__content pre {margin: 0.2em;color: black;border-radius: 0.25em;background-color: #f0f8ff;}#sk-container-id-1 input.sk-toggleable__control:checked~div.sk-toggleable__content {max-height: 200px;max-width: 100%;overflow: auto;}#sk-container-id-1 input.sk-toggleable__control:checked~label.sk-toggleable__label-arrow:before {content: \"▾\";}#sk-container-id-1 div.sk-estimator input.sk-toggleable__control:checked~label.sk-toggleable__label {background-color: #d4ebff;}#sk-container-id-1 div.sk-label input.sk-toggleable__control:checked~label.sk-toggleable__label {background-color: #d4ebff;}#sk-container-id-1 input.sk-hidden--visually {border: 0;clip: rect(1px 1px 1px 1px);clip: rect(1px, 1px, 1px, 1px);height: 1px;margin: -1px;overflow: hidden;padding: 0;position: absolute;width: 1px;}#sk-container-id-1 div.sk-estimator {font-family: monospace;background-color: #f0f8ff;border: 1px dotted black;border-radius: 0.25em;box-sizing: border-box;margin-bottom: 0.5em;}#sk-container-id-1 div.sk-estimator:hover {background-color: #d4ebff;}#sk-container-id-1 div.sk-parallel-item::after {content: \"\";width: 100%;border-bottom: 1px solid gray;flex-grow: 1;}#sk-container-id-1 div.sk-label:hover label.sk-toggleable__label {background-color: #d4ebff;}#sk-container-id-1 div.sk-serial::before {content: \"\";position: absolute;border-left: 1px solid gray;box-sizing: border-box;top: 0;bottom: 0;left: 50%;z-index: 0;}#sk-container-id-1 div.sk-serial {display: flex;flex-direction: column;align-items: center;background-color: white;padding-right: 0.2em;padding-left: 0.2em;position: relative;}#sk-container-id-1 div.sk-item {position: relative;z-index: 1;}#sk-container-id-1 div.sk-parallel {display: flex;align-items: stretch;justify-content: center;background-color: white;position: relative;}#sk-container-id-1 div.sk-item::before, #sk-container-id-1 div.sk-parallel-item::before {content: \"\";position: absolute;border-left: 1px solid gray;box-sizing: border-box;top: 0;bottom: 0;left: 50%;z-index: -1;}#sk-container-id-1 div.sk-parallel-item {display: flex;flex-direction: column;z-index: 1;position: relative;background-color: white;}#sk-container-id-1 div.sk-parallel-item:first-child::after {align-self: flex-end;width: 50%;}#sk-container-id-1 div.sk-parallel-item:last-child::after {align-self: flex-start;width: 50%;}#sk-container-id-1 div.sk-parallel-item:only-child::after {width: 0;}#sk-container-id-1 div.sk-dashed-wrapped {border: 1px dashed gray;margin: 0 0.4em 0.5em 0.4em;box-sizing: border-box;padding-bottom: 0.4em;background-color: white;}#sk-container-id-1 div.sk-label label {font-family: monospace;font-weight: bold;display: inline-block;line-height: 1.2em;}#sk-container-id-1 div.sk-label-container {text-align: center;}#sk-container-id-1 div.sk-container {/* jupyter's `normalize.less` sets `[hidden] { display: none; }` but bootstrap.min.css set `[hidden] { display: none !important; }` so we also need the `!important` here to be able to override the default hidden behavior on the sphinx rendered scikit-learn.org. See: https://github.com/scikit-learn/scikit-learn/issues/21755 */display: inline-block !important;position: relative;}#sk-container-id-1 div.sk-text-repr-fallback {display: none;}</style><div id=\"sk-container-id-1\" class=\"sk-top-container\"><div class=\"sk-text-repr-fallback\"><pre>GridSearchCV(cv=5, estimator=RandomForestRegressor(), n_jobs=-1,\n",
       "             param_grid=[{&#x27;max_depth&#x27;: [10, 20, None],\n",
       "                          &#x27;max_features&#x27;: [0.4, 0.75, 1.0],\n",
       "                          &#x27;max_samples&#x27;: [0.4, 0.75, 1.0],\n",
       "                          &#x27;min_samples_split&#x27;: [2, 10],\n",
       "                          &#x27;n_estimators&#x27;: [40, 100]}],\n",
       "             return_train_score=True, verbose=2)</pre><b>In a Jupyter environment, please rerun this cell to show the HTML representation or trust the notebook. <br />On GitHub, the HTML representation is unable to render, please try loading this page with nbviewer.org.</b></div><div class=\"sk-container\" hidden><div class=\"sk-item sk-dashed-wrapped\"><div class=\"sk-label-container\"><div class=\"sk-label sk-toggleable\"><input class=\"sk-toggleable__control sk-hidden--visually\" id=\"sk-estimator-id-1\" type=\"checkbox\" ><label for=\"sk-estimator-id-1\" class=\"sk-toggleable__label sk-toggleable__label-arrow\">GridSearchCV</label><div class=\"sk-toggleable__content\"><pre>GridSearchCV(cv=5, estimator=RandomForestRegressor(), n_jobs=-1,\n",
       "             param_grid=[{&#x27;max_depth&#x27;: [10, 20, None],\n",
       "                          &#x27;max_features&#x27;: [0.4, 0.75, 1.0],\n",
       "                          &#x27;max_samples&#x27;: [0.4, 0.75, 1.0],\n",
       "                          &#x27;min_samples_split&#x27;: [2, 10],\n",
       "                          &#x27;n_estimators&#x27;: [40, 100]}],\n",
       "             return_train_score=True, verbose=2)</pre></div></div></div><div class=\"sk-parallel\"><div class=\"sk-parallel-item\"><div class=\"sk-item\"><div class=\"sk-label-container\"><div class=\"sk-label sk-toggleable\"><input class=\"sk-toggleable__control sk-hidden--visually\" id=\"sk-estimator-id-2\" type=\"checkbox\" ><label for=\"sk-estimator-id-2\" class=\"sk-toggleable__label sk-toggleable__label-arrow\">estimator: RandomForestRegressor</label><div class=\"sk-toggleable__content\"><pre>RandomForestRegressor()</pre></div></div></div><div class=\"sk-serial\"><div class=\"sk-item\"><div class=\"sk-estimator sk-toggleable\"><input class=\"sk-toggleable__control sk-hidden--visually\" id=\"sk-estimator-id-3\" type=\"checkbox\" ><label for=\"sk-estimator-id-3\" class=\"sk-toggleable__label sk-toggleable__label-arrow\">RandomForestRegressor</label><div class=\"sk-toggleable__content\"><pre>RandomForestRegressor()</pre></div></div></div></div></div></div></div></div></div></div>"
      ],
      "text/plain": [
       "GridSearchCV(cv=5, estimator=RandomForestRegressor(), n_jobs=-1,\n",
       "             param_grid=[{'max_depth': [10, 20, None],\n",
       "                          'max_features': [0.4, 0.75, 1.0],\n",
       "                          'max_samples': [0.4, 0.75, 1.0],\n",
       "                          'min_samples_split': [2, 10],\n",
       "                          'n_estimators': [40, 100]}],\n",
       "             return_train_score=True, verbose=2)"
      ]
     },
     "execution_count": 51,
     "metadata": {},
     "output_type": "execute_result"
    }
   ],
   "source": [
    "tuned_model.fit(X_small, y_small)"
   ]
  },
  {
   "cell_type": "code",
   "execution_count": 52,
   "id": "8b51a96f",
   "metadata": {},
   "outputs": [
    {
     "data": {
      "text/html": [
       "<style>#sk-container-id-2 {color: black;background-color: white;}#sk-container-id-2 pre{padding: 0;}#sk-container-id-2 div.sk-toggleable {background-color: white;}#sk-container-id-2 label.sk-toggleable__label {cursor: pointer;display: block;width: 100%;margin-bottom: 0;padding: 0.3em;box-sizing: border-box;text-align: center;}#sk-container-id-2 label.sk-toggleable__label-arrow:before {content: \"▸\";float: left;margin-right: 0.25em;color: #696969;}#sk-container-id-2 label.sk-toggleable__label-arrow:hover:before {color: black;}#sk-container-id-2 div.sk-estimator:hover label.sk-toggleable__label-arrow:before {color: black;}#sk-container-id-2 div.sk-toggleable__content {max-height: 0;max-width: 0;overflow: hidden;text-align: left;background-color: #f0f8ff;}#sk-container-id-2 div.sk-toggleable__content pre {margin: 0.2em;color: black;border-radius: 0.25em;background-color: #f0f8ff;}#sk-container-id-2 input.sk-toggleable__control:checked~div.sk-toggleable__content {max-height: 200px;max-width: 100%;overflow: auto;}#sk-container-id-2 input.sk-toggleable__control:checked~label.sk-toggleable__label-arrow:before {content: \"▾\";}#sk-container-id-2 div.sk-estimator input.sk-toggleable__control:checked~label.sk-toggleable__label {background-color: #d4ebff;}#sk-container-id-2 div.sk-label input.sk-toggleable__control:checked~label.sk-toggleable__label {background-color: #d4ebff;}#sk-container-id-2 input.sk-hidden--visually {border: 0;clip: rect(1px 1px 1px 1px);clip: rect(1px, 1px, 1px, 1px);height: 1px;margin: -1px;overflow: hidden;padding: 0;position: absolute;width: 1px;}#sk-container-id-2 div.sk-estimator {font-family: monospace;background-color: #f0f8ff;border: 1px dotted black;border-radius: 0.25em;box-sizing: border-box;margin-bottom: 0.5em;}#sk-container-id-2 div.sk-estimator:hover {background-color: #d4ebff;}#sk-container-id-2 div.sk-parallel-item::after {content: \"\";width: 100%;border-bottom: 1px solid gray;flex-grow: 1;}#sk-container-id-2 div.sk-label:hover label.sk-toggleable__label {background-color: #d4ebff;}#sk-container-id-2 div.sk-serial::before {content: \"\";position: absolute;border-left: 1px solid gray;box-sizing: border-box;top: 0;bottom: 0;left: 50%;z-index: 0;}#sk-container-id-2 div.sk-serial {display: flex;flex-direction: column;align-items: center;background-color: white;padding-right: 0.2em;padding-left: 0.2em;position: relative;}#sk-container-id-2 div.sk-item {position: relative;z-index: 1;}#sk-container-id-2 div.sk-parallel {display: flex;align-items: stretch;justify-content: center;background-color: white;position: relative;}#sk-container-id-2 div.sk-item::before, #sk-container-id-2 div.sk-parallel-item::before {content: \"\";position: absolute;border-left: 1px solid gray;box-sizing: border-box;top: 0;bottom: 0;left: 50%;z-index: -1;}#sk-container-id-2 div.sk-parallel-item {display: flex;flex-direction: column;z-index: 1;position: relative;background-color: white;}#sk-container-id-2 div.sk-parallel-item:first-child::after {align-self: flex-end;width: 50%;}#sk-container-id-2 div.sk-parallel-item:last-child::after {align-self: flex-start;width: 50%;}#sk-container-id-2 div.sk-parallel-item:only-child::after {width: 0;}#sk-container-id-2 div.sk-dashed-wrapped {border: 1px dashed gray;margin: 0 0.4em 0.5em 0.4em;box-sizing: border-box;padding-bottom: 0.4em;background-color: white;}#sk-container-id-2 div.sk-label label {font-family: monospace;font-weight: bold;display: inline-block;line-height: 1.2em;}#sk-container-id-2 div.sk-label-container {text-align: center;}#sk-container-id-2 div.sk-container {/* jupyter's `normalize.less` sets `[hidden] { display: none; }` but bootstrap.min.css set `[hidden] { display: none !important; }` so we also need the `!important` here to be able to override the default hidden behavior on the sphinx rendered scikit-learn.org. See: https://github.com/scikit-learn/scikit-learn/issues/21755 */display: inline-block !important;position: relative;}#sk-container-id-2 div.sk-text-repr-fallback {display: none;}</style><div id=\"sk-container-id-2\" class=\"sk-top-container\"><div class=\"sk-text-repr-fallback\"><pre>RandomForestRegressor(max_features=0.4, max_samples=1.0)</pre><b>In a Jupyter environment, please rerun this cell to show the HTML representation or trust the notebook. <br />On GitHub, the HTML representation is unable to render, please try loading this page with nbviewer.org.</b></div><div class=\"sk-container\" hidden><div class=\"sk-item\"><div class=\"sk-estimator sk-toggleable\"><input class=\"sk-toggleable__control sk-hidden--visually\" id=\"sk-estimator-id-4\" type=\"checkbox\" checked><label for=\"sk-estimator-id-4\" class=\"sk-toggleable__label sk-toggleable__label-arrow\">RandomForestRegressor</label><div class=\"sk-toggleable__content\"><pre>RandomForestRegressor(max_features=0.4, max_samples=1.0)</pre></div></div></div></div></div>"
      ],
      "text/plain": [
       "RandomForestRegressor(max_features=0.4, max_samples=1.0)"
      ]
     },
     "execution_count": 52,
     "metadata": {},
     "output_type": "execute_result"
    }
   ],
   "source": [
    "best_model = tuned_model.best_estimator_\n",
    "best_model"
   ]
  },
  {
   "cell_type": "code",
   "execution_count": 53,
   "id": "27c84fb2",
   "metadata": {},
   "outputs": [
    {
     "name": "stdout",
     "output_type": "stream",
     "text": [
      "RMSE on train set: 0.0248\n",
      "RMSE on valid set: 0.0655\n",
      "R^2 on train set: 0.9862\n",
      "R^2 on valid set: 0.9027\n"
     ]
    }
   ],
   "source": [
    "print_score(best_model, X_small, y_small, X_valid, y_valid)"
   ]
  },
  {
   "cell_type": "code",
   "execution_count": 54,
   "id": "c1ff7645",
   "metadata": {
    "scrolled": true
   },
   "outputs": [
    {
     "name": "stdout",
     "output_type": "stream",
     "text": [
      "[0.88573288 0.88772199 0.89250301 0.89381953 0.90263397]\n",
      "r2 is 0.892 with a standard deviation of 0.006\n"
     ]
    }
   ],
   "source": [
    "# randomized splitting strategy\n",
    "cv = KFold(n_splits = 5, shuffle = True)\n",
    "\n",
    "scores = cross_val_score(best_model, X_small, y_small, cv = cv, n_jobs = -1)\n",
    "\n",
    "print(scores)\n",
    "print(\"r2 is {:.3f} with a standard deviation of {:.3f}\".format(scores.mean(), scores.std()))"
   ]
  },
  {
   "cell_type": "markdown",
   "id": "286896fc",
   "metadata": {},
   "source": [
    "Hyperparameter tuning allowed us to get a slight but noticeable improvement on the validation set (around 2%)."
   ]
  },
  {
   "cell_type": "markdown",
   "id": "a502d3c4",
   "metadata": {},
   "source": [
    "## 4.5 Random Forest feature importance"
   ]
  },
  {
   "cell_type": "code",
   "execution_count": 55,
   "id": "2df0069f",
   "metadata": {},
   "outputs": [],
   "source": [
    "def rf_feat_importance(model, df):\n",
    "    feat_importance = pd.DataFrame({\n",
    "        'cols': df.columns, \n",
    "        'imp': model.feature_importances_,\n",
    "    })\n",
    "    feat_importance = feat_importance.sort_values('imp', ascending = False)\n",
    "    return feat_importance\n",
    "\n",
    "\n",
    "def rf_unfolded_feat_importance(model, df):\n",
    "    feat_importance = pd.DataFrame({\n",
    "        'cols': df.columns, \n",
    "        'imp': model.feature_importances_,\n",
    "    })\n",
    "    for i, tree in enumerate(model.estimators_):\n",
    "        feat_importance['imp_' + str(i)] = tree.feature_importances_\n",
    "    feat_importance = feat_importance.sort_values('imp', ascending = False)\n",
    "    return feat_importance\n",
    "\n",
    "\n",
    "# found at\n",
    "# https://stackoverflow.com/questions/49170296/scikit-learn-feature-importance-calculation-in-decision-trees\n",
    "def tree_feature_importance(model, normalize = True):\n",
    "\n",
    "    left_c = model.tree_.children_left\n",
    "    right_c = model.tree_.children_right\n",
    "\n",
    "    impurity = model.tree_.impurity    \n",
    "    node_samples = model.tree_.weighted_n_node_samples \n",
    "\n",
    "    # Initialize the feature importance, those not used remain zero\n",
    "    feature_importance = np.zeros((model.tree_.n_features,))\n",
    "\n",
    "    for idx, node in enumerate(model.tree_.feature):\n",
    "        if node >= 0:\n",
    "            # Accumulate the feature importance over all the nodes where it's used\n",
    "            feature_importance[node] += (\n",
    "                impurity[idx]*node_samples[idx] -\n",
    "                impurity[left_c[idx]]*node_samples[left_c[idx]] -\n",
    "                impurity[right_c[idx]]*node_samples[right_c[idx]])\n",
    "\n",
    "    # Number of samples at the root node\n",
    "    feature_importance /= node_samples[0]\n",
    "\n",
    "    if normalize:\n",
    "        normalizer = feature_importance.sum()\n",
    "        if normalizer > 0:\n",
    "            feature_importance /= normalizer\n",
    "\n",
    "    return feature_importance"
   ]
  },
  {
   "cell_type": "markdown",
   "id": "ce4bd704",
   "metadata": {},
   "source": [
    "Based on the best model created through hyperparameter tuning, we can now visualize which features of the dataset affects the most our predictions."
   ]
  },
  {
   "cell_type": "code",
   "execution_count": 56,
   "id": "6f67efac",
   "metadata": {},
   "outputs": [
    {
     "data": {
      "text/html": [
       "<div>\n",
       "<style scoped>\n",
       "    .dataframe tbody tr th:only-of-type {\n",
       "        vertical-align: middle;\n",
       "    }\n",
       "\n",
       "    .dataframe tbody tr th {\n",
       "        vertical-align: top;\n",
       "    }\n",
       "\n",
       "    .dataframe thead th {\n",
       "        text-align: right;\n",
       "    }\n",
       "</style>\n",
       "<table border=\"1\" class=\"dataframe\">\n",
       "  <thead>\n",
       "    <tr style=\"text-align: right;\">\n",
       "      <th></th>\n",
       "      <th>cols</th>\n",
       "      <th>imp</th>\n",
       "    </tr>\n",
       "  </thead>\n",
       "  <tbody>\n",
       "    <tr>\n",
       "      <th>0</th>\n",
       "      <td>Configuration</td>\n",
       "      <td>0.241146</td>\n",
       "    </tr>\n",
       "    <tr>\n",
       "      <th>5</th>\n",
       "      <td>RAM (GB)</td>\n",
       "      <td>0.215376</td>\n",
       "    </tr>\n",
       "    <tr>\n",
       "      <th>8</th>\n",
       "      <td>HD Size (GB)</td>\n",
       "      <td>0.120102</td>\n",
       "    </tr>\n",
       "    <tr>\n",
       "      <th>3</th>\n",
       "      <td>Screen Size (Inches)</td>\n",
       "      <td>0.060585</td>\n",
       "    </tr>\n",
       "    <tr>\n",
       "      <th>9</th>\n",
       "      <td>Bundled Applications?</td>\n",
       "      <td>0.045679</td>\n",
       "    </tr>\n",
       "    <tr>\n",
       "      <th>6</th>\n",
       "      <td>Processor Speeds (GHz)</td>\n",
       "      <td>0.040323</td>\n",
       "    </tr>\n",
       "    <tr>\n",
       "      <th>19</th>\n",
       "      <td>Date_Dayofyear</td>\n",
       "      <td>0.035045</td>\n",
       "    </tr>\n",
       "    <tr>\n",
       "      <th>26</th>\n",
       "      <td>Date_Elapsed</td>\n",
       "      <td>0.034484</td>\n",
       "    </tr>\n",
       "    <tr>\n",
       "      <th>4</th>\n",
       "      <td>Battery Life (Hours)</td>\n",
       "      <td>0.034306</td>\n",
       "    </tr>\n",
       "    <tr>\n",
       "      <th>2</th>\n",
       "      <td>Store Postcode</td>\n",
       "      <td>0.028867</td>\n",
       "    </tr>\n",
       "    <tr>\n",
       "      <th>12</th>\n",
       "      <td>store X</td>\n",
       "      <td>0.026286</td>\n",
       "    </tr>\n",
       "    <tr>\n",
       "      <th>13</th>\n",
       "      <td>store Y</td>\n",
       "      <td>0.020958</td>\n",
       "    </tr>\n",
       "    <tr>\n",
       "      <th>16</th>\n",
       "      <td>Date_Week</td>\n",
       "      <td>0.017702</td>\n",
       "    </tr>\n",
       "    <tr>\n",
       "      <th>15</th>\n",
       "      <td>Date_Month</td>\n",
       "      <td>0.017471</td>\n",
       "    </tr>\n",
       "    <tr>\n",
       "      <th>1</th>\n",
       "      <td>Customer Postcode</td>\n",
       "      <td>0.013285</td>\n",
       "    </tr>\n",
       "    <tr>\n",
       "      <th>10</th>\n",
       "      <td>customer X</td>\n",
       "      <td>0.012499</td>\n",
       "    </tr>\n",
       "    <tr>\n",
       "      <th>11</th>\n",
       "      <td>customer Y</td>\n",
       "      <td>0.012170</td>\n",
       "    </tr>\n",
       "    <tr>\n",
       "      <th>17</th>\n",
       "      <td>Date_Day</td>\n",
       "      <td>0.008380</td>\n",
       "    </tr>\n",
       "    <tr>\n",
       "      <th>7</th>\n",
       "      <td>Integrated Wireless?</td>\n",
       "      <td>0.007669</td>\n",
       "    </tr>\n",
       "    <tr>\n",
       "      <th>18</th>\n",
       "      <td>Date_Dayofweek</td>\n",
       "      <td>0.005446</td>\n",
       "    </tr>\n",
       "  </tbody>\n",
       "</table>\n",
       "</div>"
      ],
      "text/plain": [
       "                      cols       imp\n",
       "0            Configuration  0.241146\n",
       "5                 RAM (GB)  0.215376\n",
       "8             HD Size (GB)  0.120102\n",
       "3     Screen Size (Inches)  0.060585\n",
       "9    Bundled Applications?  0.045679\n",
       "6   Processor Speeds (GHz)  0.040323\n",
       "19          Date_Dayofyear  0.035045\n",
       "26            Date_Elapsed  0.034484\n",
       "4     Battery Life (Hours)  0.034306\n",
       "2           Store Postcode  0.028867\n",
       "12                 store X  0.026286\n",
       "13                 store Y  0.020958\n",
       "16               Date_Week  0.017702\n",
       "15              Date_Month  0.017471\n",
       "1        Customer Postcode  0.013285\n",
       "10              customer X  0.012499\n",
       "11              customer Y  0.012170\n",
       "17                Date_Day  0.008380\n",
       "7     Integrated Wireless?  0.007669\n",
       "18          Date_Dayofweek  0.005446"
      ]
     },
     "execution_count": 56,
     "metadata": {},
     "output_type": "execute_result"
    }
   ],
   "source": [
    "feat_importance = rf_feat_importance(best_model, X_train)\n",
    "feat_importance[:20]"
   ]
  },
  {
   "cell_type": "code",
   "execution_count": 57,
   "id": "f100dc20",
   "metadata": {},
   "outputs": [
    {
     "data": {
      "image/png": "[encoded data removed]",
      "text/plain": [
       "<Figure size 1200x1000 with 1 Axes>"
      ]
     },
     "metadata": {},
     "output_type": "display_data"
    }
   ],
   "source": [
    "barh = feat_importance[:30].plot('cols', 'imp', 'barh', figsize = (12,10), legend = False)\n",
    "barh = barh.invert_yaxis()\n",
    "barh"
   ]
  },
  {
   "cell_type": "markdown",
   "id": "1c6342c8",
   "metadata": {},
   "source": [
    "Since each value of <i>Configuration</i> is based on the laptop specifications, it makes sense for it to be the most important feature to predict <i>Retail Price</i>: configurations that contains larger RAMs, faster processors, bigger hard disks and screens, etc. will lead to more expensive laptops."
   ]
  },
  {
   "cell_type": "markdown",
   "id": "5de1a174",
   "metadata": {},
   "source": [
    "Let's see how our model behaves when removing the least important features that could possibly generate <b>noise</b> in our model."
   ]
  },
  {
   "cell_type": "code",
   "execution_count": 58,
   "id": "7d74cb89",
   "metadata": {},
   "outputs": [
    {
     "data": {
      "text/plain": [
       "20"
      ]
     },
     "execution_count": 58,
     "metadata": {},
     "output_type": "execute_result"
    }
   ],
   "source": [
    "to_keep = feat_importance[feat_importance.imp > 0.005].cols\n",
    "len(to_keep)"
   ]
  },
  {
   "cell_type": "code",
   "execution_count": 59,
   "id": "a526ee8c",
   "metadata": {
    "scrolled": true
   },
   "outputs": [
    {
     "name": "stdout",
     "output_type": "stream",
     "text": [
      "Number of small training data points: X = (20000, 20), y = (20000,)\n",
      "Number of full training data points: X = (255716, 20), y = (255716,)\n",
      "Number of validation data points: X = (28413, 20), y = (28413,)\n"
     ]
    }
   ],
   "source": [
    "# perform ablation of columns with low importance\n",
    "df_keep = df[to_keep].copy()\n",
    "\n",
    "n_total = len(df_keep)\n",
    "n_valid = round(.1*len(df)) \n",
    "n_train = n_total - n_valid\n",
    "n_small = 20000\n",
    "\n",
    "X_train_keep, X_valid_keep = split_vals(df_keep, n_train)\n",
    "y_train_keep, y_valid_keep = split_vals(y, n_train)\n",
    "\n",
    "X_small_keep, _ = split_vals(df_keep, n_small)\n",
    "y_small_keep, _ = split_vals(y, n_small)\n",
    "\n",
    "print('Number of small training data points: X = {}, y = {}'.format(X_small_keep.shape, y_small_keep.shape))\n",
    "print('Number of full training data points: X = {}, y = {}'.format(X_train_keep.shape, y_train_keep.shape))\n",
    "print('Number of validation data points: X = {}, y = {}'.format(X_valid_keep.shape, y_valid_keep.shape))"
   ]
  },
  {
   "cell_type": "code",
   "execution_count": 60,
   "id": "7ab93b83",
   "metadata": {},
   "outputs": [
    {
     "name": "stdout",
     "output_type": "stream",
     "text": [
      "CPU times: total: 10.5 s\n",
      "Wall time: 1.75 s\n",
      "RMSE on train set: 0.0250\n",
      "RMSE on valid set: 0.0657\n",
      "R^2 on train set: 0.9861\n",
      "R^2 on valid set: 0.9022\n",
      "R^2 on oob set: 0.8989\n"
     ]
    }
   ],
   "source": [
    "model = RandomForestRegressor(\n",
    "    n_estimators = 100,\n",
    "    max_features = 0.4,\n",
    "    max_depth = 20,\n",
    "    n_jobs = -1, \n",
    "    random_state = 42,\n",
    "    \n",
    "    bootstrap = True,\n",
    "    oob_score = True,\n",
    "    max_samples = 1.0\n",
    ")\n",
    "\n",
    "%time model.fit(X_small_keep, y_small_keep)\n",
    "print_score(model, X_small_keep, y_small_keep, X_valid_keep, y_valid_keep)"
   ]
  },
  {
   "cell_type": "markdown",
   "id": "ed2da1a8",
   "metadata": {},
   "source": [
    "R2 on validation set does not change. One way to improve it may be through a <b>CatBoostRegressor</b> model."
   ]
  },
  {
   "cell_type": "markdown",
   "id": "c5b05eac",
   "metadata": {},
   "source": [
    "## 4.6 CatBoostRegressor"
   ]
  },
  {
   "cell_type": "code",
   "execution_count": 62,
   "id": "b0908e2f",
   "metadata": {},
   "outputs": [],
   "source": [
    "from catboost import CatBoostRegressor\n",
    "\n",
    "model = CatBoostRegressor(\n",
    "    n_estimators = 200,\n",
    "    random_seed = 42,\n",
    "    loss_function = 'RMSE',\n",
    "    #allow_writing_files = False,\n",
    "    logging_level = 'Silent',\n",
    ")"
   ]
  },
  {
   "cell_type": "code",
   "execution_count": 63,
   "id": "b4fdebbf",
   "metadata": {},
   "outputs": [
    {
     "name": "stdout",
     "output_type": "stream",
     "text": [
      "RMSE on train set: 0.0046\n",
      "RMSE on valid set: 0.0057\n",
      "R^2 on train set: 0.9995\n",
      "R^2 on valid set: 0.9993\n"
     ]
    }
   ],
   "source": [
    "model.fit(X_train, y_train)\n",
    "print_score(model, X_train, y_train, X_valid, y_valid)"
   ]
  },
  {
   "cell_type": "markdown",
   "id": "814678ac",
   "metadata": {},
   "source": [
    "Since <b>catboost</b> is much faster than <b>random forest regressor</b>, we can afford to train the model on the full training set. The R2 of this model is extremely high, so we don't see the point to investigate any further regressor models."
   ]
  },
  {
   "cell_type": "markdown",
   "id": "9be37f2f",
   "metadata": {},
   "source": [
    "# 5. Classification models"
   ]
  },
  {
   "cell_type": "markdown",
   "id": "cb6e322e",
   "metadata": {},
   "source": [
    "While exploring the dataset, I found out that the values of the dependent variable are actually not continuous."
   ]
  },
  {
   "cell_type": "code",
   "execution_count": 64,
   "id": "0e2f9c0d",
   "metadata": {
    "scrolled": true
   },
   "outputs": [
    {
     "data": {
      "text/plain": [
       "173"
      ]
     },
     "execution_count": 64,
     "metadata": {},
     "output_type": "execute_result"
    }
   ],
   "source": [
    "len(np.unique(y))"
   ]
  },
  {
   "cell_type": "markdown",
   "id": "37539e10",
   "metadata": {},
   "source": [
    "There are only 173 unique retail prices on the dataset. We can try to consider each of this value as a <b>class</b> and apply some classification models on it."
   ]
  },
  {
   "cell_type": "code",
   "execution_count": 65,
   "id": "d1424c3c",
   "metadata": {},
   "outputs": [],
   "source": [
    "intervals = pd.cut(y, np.unique(y))"
   ]
  },
  {
   "cell_type": "code",
   "execution_count": 66,
   "id": "cd3dc70c",
   "metadata": {},
   "outputs": [
    {
     "data": {
      "text/plain": [
       "[Interval(5.914, 5.916, closed='right'),\n",
       " Interval(6.354, 6.363, closed='right'),\n",
       " Interval(5.989, 5.991, closed='right'),\n",
       " Interval(6.438, 6.446, closed='right'),\n",
       " Interval(5.971, 5.979, closed='right'),\n",
       " Interval(6.659, 6.666, closed='right'),\n",
       " Interval(6.236, 6.244, closed='right'),\n",
       " Interval(6.209, 6.215, closed='right'),\n",
       " Interval(6.29, 6.292, closed='right'),\n",
       " Interval(6.12, 6.131, closed='right')]"
      ]
     },
     "execution_count": 66,
     "metadata": {},
     "output_type": "execute_result"
    }
   ],
   "source": [
    "intervals[:10].to_list()"
   ]
  },
  {
   "cell_type": "code",
   "execution_count": 67,
   "id": "2378d9c0",
   "metadata": {},
   "outputs": [
    {
     "data": {
      "text/plain": [
       "array([5.91620206, 6.3630281 , 5.99146455, 6.44571982, 5.97888576,\n",
       "       6.66568372, 6.2441669 , 6.2146081 , 6.29156914, 6.13122649])"
      ]
     },
     "execution_count": 67,
     "metadata": {},
     "output_type": "execute_result"
    }
   ],
   "source": [
    "y[:10]"
   ]
  },
  {
   "cell_type": "code",
   "execution_count": 68,
   "id": "e15905ab",
   "metadata": {},
   "outputs": [],
   "source": [
    "label_encoder = LabelEncoder()\n",
    "\n",
    "y_cat = label_encoder.fit_transform(intervals)"
   ]
  },
  {
   "cell_type": "code",
   "execution_count": 69,
   "id": "cb9fc98a",
   "metadata": {},
   "outputs": [
    {
     "data": {
      "text/plain": [
       "173"
      ]
     },
     "execution_count": 69,
     "metadata": {},
     "output_type": "execute_result"
    }
   ],
   "source": [
    "len(np.unique(y_cat))"
   ]
  },
  {
   "cell_type": "code",
   "execution_count": 70,
   "id": "81fc640b",
   "metadata": {},
   "outputs": [
    {
     "data": {
      "text/plain": [
       "((255716,), (28413,), (20000,))"
      ]
     },
     "execution_count": 70,
     "metadata": {},
     "output_type": "execute_result"
    }
   ],
   "source": [
    "y_cat_train, y_cat_valid = split_vals(y_cat, n_train)\n",
    "y_cat_small, _ = split_vals(y_cat, n_small)\n",
    "\n",
    "y_cat_train.shape, y_cat_valid.shape, y_cat_small.shape"
   ]
  },
  {
   "cell_type": "markdown",
   "id": "c1a79d5b",
   "metadata": {},
   "source": [
    "## 5.1 Decision Tree Classifier"
   ]
  },
  {
   "cell_type": "markdown",
   "id": "74691c82",
   "metadata": {},
   "source": [
    "We start by fitting a <b>DecisionTreeClassifier</b> in order to plot one single tree."
   ]
  },
  {
   "cell_type": "code",
   "execution_count": 71,
   "id": "62dd845d",
   "metadata": {},
   "outputs": [],
   "source": [
    "tree_classifier = DecisionTreeClassifier(\n",
    "    class_weight = None, # specific to classifiers\n",
    "    criterion = 'gini',  # specific to classifiers\n",
    "    splitter = 'best', \n",
    "    max_depth = 3, \n",
    "    min_samples_split = 2, \n",
    "    min_samples_leaf = 1, \n",
    "    min_weight_fraction_leaf = 0.0, \n",
    "    max_features = None, \n",
    "    max_leaf_nodes = None, \n",
    "    min_impurity_decrease = 0.0, \n",
    "    ccp_alpha = 0.0,\n",
    "    random_state = None, \n",
    ")"
   ]
  },
  {
   "cell_type": "code",
   "execution_count": 72,
   "id": "2f46fde2",
   "metadata": {},
   "outputs": [
    {
     "name": "stdout",
     "output_type": "stream",
     "text": [
      "CPU times: total: 0 ns\n",
      "Wall time: 47 ms\n",
      "0.05585\n",
      "0.05145531974800267\n"
     ]
    }
   ],
   "source": [
    "%time tree_classifier.fit(X_small, y_cat_small)\n",
    "\n",
    "print(tree_classifier.score(X_small, y_cat_small))\n",
    "print(tree_classifier.score(X_valid, y_cat_valid))"
   ]
  },
  {
   "cell_type": "code",
   "execution_count": 73,
   "id": "1ad6aedd",
   "metadata": {},
   "outputs": [
    {
     "data": {
      "image/svg+xml": [
       "<?xml version=\"1.0\" encoding=\"UTF-8\" standalone=\"no\"?>\n",
       "<!DOCTYPE svg PUBLIC \"-//W3C//DTD SVG 1.1//EN\"\n",
       " \"http://www.w3.org/Graphics/SVG/1.1/DTD/svg11.dtd\">\n",
       "<!-- Generated by graphviz version 2.46.0 (20210118.1747)\n",
       " -->\n",
       "<!-- Title: Tree Pages: 1 -->\n",
       "<svg width=\"720pt\" height=\"433pt\"\n",
       " viewBox=\"0.00 0.00 720.00 432.79\" xmlns=\"http://www.w3.org/2000/svg\" xmlns:xlink=\"http://www.w3.org/1999/xlink\">\n",
       "<g id=\"graph0\" class=\"graph\" transform=\"scale(0.21 0.21) rotate(0) translate(4 2025.5)\">\n",
       "<title>Tree</title>\n",
       "<polygon fill=\"white\" stroke=\"transparent\" points=\"-4,4 -4,-2025.5 3372.33,-2025.5 3372.33,4 -4,4\"/>\n",
       "<!-- 0 -->\n",
       "<g id=\"node1\" class=\"node\">\n",
       "<title>0</title>\n",
       "<polygon fill=\"#ffffff\" stroke=\"black\" points=\"563.83,-1114.5 232.83,-1114.5 232.83,-836.5 563.83,-836.5 563.83,-1114.5\"/>\n",
       "<text text-anchor=\"start\" x=\"347.83\" y=\"-1099.3\" font-family=\"Helvetica,sans-Serif\" font-size=\"14.00\">RAM (GB) ≤ 3.0</text>\n",
       "<text text-anchor=\"start\" x=\"360.83\" y=\"-1084.3\" font-family=\"Helvetica,sans-Serif\" font-size=\"14.00\">gini = 0.986</text>\n",
       "<text text-anchor=\"start\" x=\"342.33\" y=\"-1069.3\" font-family=\"Helvetica,sans-Serif\" font-size=\"14.00\">samples = 20000</text>\n",
       "<text text-anchor=\"start\" x=\"256.83\" y=\"-1054.3\" font-family=\"Helvetica,sans-Serif\" font-size=\"14.00\">value = [1, 5, 4, 4, 4, 8, 7, 1, 18, 4, 9, 6, 27, 8</text>\n",
       "<text text-anchor=\"start\" x=\"270.33\" y=\"-1039.3\" font-family=\"Helvetica,sans-Serif\" font-size=\"14.00\">7, 18, 8, 24, 2, 39, 11, 38, 19, 33, 23, 27</text>\n",
       "<text text-anchor=\"start\" x=\"257.83\" y=\"-1024.3\" font-family=\"Helvetica,sans-Serif\" font-size=\"14.00\">48, 29, 33, 42, 91, 45, 58, 35, 65, 51, 49, 81</text>\n",
       "<text text-anchor=\"start\" x=\"249.33\" y=\"-1009.3\" font-family=\"Helvetica,sans-Serif\" font-size=\"14.00\">62, 62, 57, 136, 72, 75, 98, 59, 79, 113, 51, 86</text>\n",
       "<text text-anchor=\"start\" x=\"240.83\" y=\"-994.3\" font-family=\"Helvetica,sans-Serif\" font-size=\"14.00\">59, 120, 178, 142, 71, 122, 24, 207, 135, 58, 236</text>\n",
       "<text text-anchor=\"start\" x=\"240.83\" y=\"-979.3\" font-family=\"Helvetica,sans-Serif\" font-size=\"14.00\">36, 194, 268, 224, 57, 314, 30, 274, 391, 28, 290</text>\n",
       "<text text-anchor=\"start\" x=\"240.83\" y=\"-964.3\" font-family=\"Helvetica,sans-Serif\" font-size=\"14.00\">51, 465, 330, 463, 27, 350, 22, 447, 362, 12, 456</text>\n",
       "<text text-anchor=\"start\" x=\"244.83\" y=\"-949.3\" font-family=\"Helvetica,sans-Serif\" font-size=\"14.00\">14, 337, 498, 378, 12, 487, 12, 309, 494, 6, 356</text>\n",
       "<text text-anchor=\"start\" x=\"249.33\" y=\"-934.3\" font-family=\"Helvetica,sans-Serif\" font-size=\"14.00\">13, 465, 266, 436, 10, 321, 6, 372, 244, 3, 361</text>\n",
       "<text text-anchor=\"start\" x=\"257.33\" y=\"-919.3\" font-family=\"Helvetica,sans-Serif\" font-size=\"14.00\">5, 244, 337, 190, 4, 321, 2, 210, 354, 212, 5</text>\n",
       "<text text-anchor=\"start\" x=\"240.83\" y=\"-904.3\" font-family=\"Helvetica,sans-Serif\" font-size=\"14.00\">295, 177, 258, 149, 1, 314, 181, 271, 5, 133, 247</text>\n",
       "<text text-anchor=\"start\" x=\"253.33\" y=\"-889.3\" font-family=\"Helvetica,sans-Serif\" font-size=\"14.00\">157, 274, 118, 84, 56, 163, 69, 94, 30, 88, 65</text>\n",
       "<text text-anchor=\"start\" x=\"249.33\" y=\"-874.3\" font-family=\"Helvetica,sans-Serif\" font-size=\"14.00\">118, 47, 53, 44, 101, 41, 80, 20, 55, 34, 81, 22</text>\n",
       "<text text-anchor=\"start\" x=\"261.83\" y=\"-859.3\" font-family=\"Helvetica,sans-Serif\" font-size=\"14.00\">31, 11, 55, 31, 43, 14, 23, 48, 9, 11, 35, 10</text>\n",
       "<text text-anchor=\"start\" x=\"316.33\" y=\"-844.3\" font-family=\"Helvetica,sans-Serif\" font-size=\"14.00\">21, 15, 24, 10, 7, 11, 6, 1]</text>\n",
       "</g>\n",
       "<!-- 1 -->\n",
       "<g id=\"node2\" class=\"node\">\n",
       "<title>1</title>\n",
       "<polygon fill=\"#ffffff\" stroke=\"black\" points=\"1448.83,-1377.5 1117.83,-1377.5 1117.83,-1099.5 1448.83,-1099.5 1448.83,-1377.5\"/>\n",
       "<text text-anchor=\"start\" x=\"1215.33\" y=\"-1362.3\" font-family=\"Helvetica,sans-Serif\" font-size=\"14.00\">Configuration ≤ 302.5</text>\n",
       "<text text-anchor=\"start\" x=\"1245.83\" y=\"-1347.3\" font-family=\"Helvetica,sans-Serif\" font-size=\"14.00\">gini = 0.983</text>\n",
       "<text text-anchor=\"start\" x=\"1227.33\" y=\"-1332.3\" font-family=\"Helvetica,sans-Serif\" font-size=\"14.00\">samples = 15241</text>\n",
       "<text text-anchor=\"start\" x=\"1141.83\" y=\"-1317.3\" font-family=\"Helvetica,sans-Serif\" font-size=\"14.00\">value = [1, 5, 4, 4, 4, 8, 7, 1, 18, 4, 9, 6, 27, 8</text>\n",
       "<text text-anchor=\"start\" x=\"1155.33\" y=\"-1302.3\" font-family=\"Helvetica,sans-Serif\" font-size=\"14.00\">7, 18, 8, 24, 2, 39, 11, 38, 19, 33, 23, 27</text>\n",
       "<text text-anchor=\"start\" x=\"1142.83\" y=\"-1287.3\" font-family=\"Helvetica,sans-Serif\" font-size=\"14.00\">48, 29, 33, 42, 86, 45, 58, 35, 54, 51, 49, 81</text>\n",
       "<text text-anchor=\"start\" x=\"1134.33\" y=\"-1272.3\" font-family=\"Helvetica,sans-Serif\" font-size=\"14.00\">62, 55, 57, 129, 72, 60, 98, 42, 79, 113, 43, 86</text>\n",
       "<text text-anchor=\"start\" x=\"1125.83\" y=\"-1257.3\" font-family=\"Helvetica,sans-Serif\" font-size=\"14.00\">39, 120, 164, 142, 50, 122, 12, 207, 135, 41, 236</text>\n",
       "<text text-anchor=\"start\" x=\"1129.83\" y=\"-1242.3\" font-family=\"Helvetica,sans-Serif\" font-size=\"14.00\">19, 194, 250, 224, 28, 314, 11, 274, 391, 9, 290</text>\n",
       "<text text-anchor=\"start\" x=\"1138.33\" y=\"-1227.3\" font-family=\"Helvetica,sans-Serif\" font-size=\"14.00\">19, 442, 319, 463, 8, 350, 5, 395, 332, 2, 456</text>\n",
       "<text text-anchor=\"start\" x=\"1134.33\" y=\"-1212.3\" font-family=\"Helvetica,sans-Serif\" font-size=\"14.00\">2, 337, 439, 324, 1, 431, 1, 309, 406, 0, 296, 3</text>\n",
       "<text text-anchor=\"start\" x=\"1142.33\" y=\"-1197.3\" font-family=\"Helvetica,sans-Serif\" font-size=\"14.00\">353, 232, 350, 1, 235, 2, 260, 173, 0, 281, 0</text>\n",
       "<text text-anchor=\"start\" x=\"1134.33\" y=\"-1182.3\" font-family=\"Helvetica,sans-Serif\" font-size=\"14.00\">192, 231, 151, 0, 215, 0, 145, 235, 164, 0, 182</text>\n",
       "<text text-anchor=\"start\" x=\"1134.33\" y=\"-1167.3\" font-family=\"Helvetica,sans-Serif\" font-size=\"14.00\">89, 169, 94, 0, 145, 90, 103, 0, 72, 111, 50, 79</text>\n",
       "<text text-anchor=\"start\" x=\"1146.83\" y=\"-1152.3\" font-family=\"Helvetica,sans-Serif\" font-size=\"14.00\">37, 43, 20, 46, 26, 28, 13, 17, 10, 26, 9, 12</text>\n",
       "<text text-anchor=\"start\" x=\"1168.33\" y=\"-1137.3\" font-family=\"Helvetica,sans-Serif\" font-size=\"14.00\">6, 16, 5, 8, 2, 10, 5, 6, 2, 3, 3, 1, 2, 2</text>\n",
       "<text text-anchor=\"start\" x=\"1176.33\" y=\"-1122.3\" font-family=\"Helvetica,sans-Serif\" font-size=\"14.00\">3, 0, 1, 0, 0, 0, 0, 0, 0, 0, 0, 0, 0, 0</text>\n",
       "<text text-anchor=\"start\" x=\"1276.83\" y=\"-1107.3\" font-family=\"Helvetica,sans-Serif\" font-size=\"14.00\">1]</text>\n",
       "</g>\n",
       "<!-- 0&#45;&gt;1 -->\n",
       "<g id=\"edge1\" class=\"edge\">\n",
       "<title>0&#45;&gt;1</title>\n",
       "<path fill=\"none\" stroke=\"black\" d=\"M563.87,-1024.51C718.67,-1070.61 949.68,-1139.42 1107.69,-1186.48\"/>\n",
       "<polygon fill=\"black\" stroke=\"black\" points=\"1106.94,-1189.91 1117.52,-1189.41 1108.94,-1183.2 1106.94,-1189.91\"/>\n",
       "<text text-anchor=\"middle\" x=\"1095.53\" y=\"-1197.61\" font-family=\"Helvetica,sans-Serif\" font-size=\"14.00\">True</text>\n",
       "</g>\n",
       "<!-- 8 -->\n",
       "<g id=\"node9\" class=\"node\">\n",
       "<title>8</title>\n",
       "<polygon fill=\"#fffeff\" stroke=\"black\" points=\"1435.83,-868 1130.83,-868 1130.83,-605 1435.83,-605 1435.83,-868\"/>\n",
       "<text text-anchor=\"start\" x=\"1218.33\" y=\"-852.8\" font-family=\"Helvetica,sans-Serif\" font-size=\"14.00\">HD Size (GB) ≤ 60.0</text>\n",
       "<text text-anchor=\"start\" x=\"1245.83\" y=\"-837.8\" font-family=\"Helvetica,sans-Serif\" font-size=\"14.00\">gini = 0.983</text>\n",
       "<text text-anchor=\"start\" x=\"1231.83\" y=\"-822.8\" font-family=\"Helvetica,sans-Serif\" font-size=\"14.00\">samples = 4759</text>\n",
       "<text text-anchor=\"start\" x=\"1150.33\" y=\"-807.8\" font-family=\"Helvetica,sans-Serif\" font-size=\"14.00\">value = [0, 0, 0, 0, 0, 0, 0, 0, 0, 0, 0, 0, 0, 0</text>\n",
       "<text text-anchor=\"start\" x=\"1176.33\" y=\"-792.8\" font-family=\"Helvetica,sans-Serif\" font-size=\"14.00\">0, 0, 0, 0, 0, 0, 0, 0, 0, 0, 0, 0, 0, 0</text>\n",
       "<text text-anchor=\"start\" x=\"1172.33\" y=\"-777.8\" font-family=\"Helvetica,sans-Serif\" font-size=\"14.00\">0, 0, 5, 0, 0, 0, 11, 0, 0, 0, 0, 7, 0, 7</text>\n",
       "<text text-anchor=\"start\" x=\"1163.83\" y=\"-762.8\" font-family=\"Helvetica,sans-Serif\" font-size=\"14.00\">0, 15, 0, 17, 0, 0, 8, 0, 20, 0, 14, 0, 21</text>\n",
       "<text text-anchor=\"start\" x=\"1159.83\" y=\"-747.8\" font-family=\"Helvetica,sans-Serif\" font-size=\"14.00\">0, 12, 0, 0, 17, 0, 17, 0, 18, 0, 29, 0, 19</text>\n",
       "<text text-anchor=\"start\" x=\"1151.33\" y=\"-732.8\" font-family=\"Helvetica,sans-Serif\" font-size=\"14.00\">0, 0, 19, 0, 32, 23, 11, 0, 19, 0, 17, 52, 30</text>\n",
       "<text text-anchor=\"start\" x=\"1147.33\" y=\"-717.8\" font-family=\"Helvetica,sans-Serif\" font-size=\"14.00\">10, 0, 12, 0, 59, 54, 11, 56, 11, 0, 88, 6, 60</text>\n",
       "<text text-anchor=\"start\" x=\"1150.83\" y=\"-702.8\" font-family=\"Helvetica,sans-Serif\" font-size=\"14.00\">10, 112, 34, 86, 9, 86, 4, 112, 71, 3, 80, 5</text>\n",
       "<text text-anchor=\"start\" x=\"1138.83\" y=\"-687.8\" font-family=\"Helvetica,sans-Serif\" font-size=\"14.00\">52, 106, 39, 4, 106, 2, 65, 119, 48, 5, 113, 88</text>\n",
       "<text text-anchor=\"start\" x=\"1142.33\" y=\"-672.8\" font-family=\"Helvetica,sans-Serif\" font-size=\"14.00\">89, 55, 1, 169, 91, 168, 5, 61, 136, 107, 195</text>\n",
       "<text text-anchor=\"start\" x=\"1138.83\" y=\"-657.8\" font-family=\"Helvetica,sans-Serif\" font-size=\"14.00\">81, 41, 36, 117, 43, 66, 17, 71, 55, 92, 38, 41</text>\n",
       "<text text-anchor=\"start\" x=\"1146.83\" y=\"-642.8\" font-family=\"Helvetica,sans-Serif\" font-size=\"14.00\">38, 85, 36, 72, 18, 45, 29, 75, 20, 28, 8, 54</text>\n",
       "<text text-anchor=\"start\" x=\"1146.83\" y=\"-627.8\" font-family=\"Helvetica,sans-Serif\" font-size=\"14.00\">29, 41, 11, 23, 47, 9, 11, 35, 10, 21, 15, 24</text>\n",
       "<text text-anchor=\"start\" x=\"1237.33\" y=\"-612.8\" font-family=\"Helvetica,sans-Serif\" font-size=\"14.00\">10, 7, 11, 6, 0]</text>\n",
       "</g>\n",
       "<!-- 0&#45;&gt;8 -->\n",
       "<g id=\"edge8\" class=\"edge\">\n",
       "<title>0&#45;&gt;8</title>\n",
       "<path fill=\"none\" stroke=\"black\" d=\"M563.87,-930.97C723.07,-887.88 962.87,-822.97 1120.98,-780.17\"/>\n",
       "<polygon fill=\"black\" stroke=\"black\" points=\"1122.07,-783.5 1130.81,-777.51 1120.24,-776.75 1122.07,-783.5\"/>\n",
       "<text text-anchor=\"middle\" x=\"1109.12\" y=\"-761.37\" font-family=\"Helvetica,sans-Serif\" font-size=\"14.00\">False</text>\n",
       "</g>\n",
       "<!-- 2 -->\n",
       "<g id=\"node3\" class=\"node\">\n",
       "<title>2</title>\n",
       "<polygon fill=\"#feffff\" stroke=\"black\" points=\"2303.33,-1770 1989.33,-1770 1989.33,-1507 2303.33,-1507 2303.33,-1770\"/>\n",
       "<text text-anchor=\"start\" x=\"2077.33\" y=\"-1754.8\" font-family=\"Helvetica,sans-Serif\" font-size=\"14.00\">HD Size (GB) ≤ 210.0</text>\n",
       "<text text-anchor=\"start\" x=\"2108.83\" y=\"-1739.8\" font-family=\"Helvetica,sans-Serif\" font-size=\"14.00\">gini = 0.978</text>\n",
       "<text text-anchor=\"start\" x=\"2094.83\" y=\"-1724.8\" font-family=\"Helvetica,sans-Serif\" font-size=\"14.00\">samples = 6049</text>\n",
       "<text text-anchor=\"start\" x=\"2004.83\" y=\"-1709.8\" font-family=\"Helvetica,sans-Serif\" font-size=\"14.00\">value = [1, 5, 4, 4, 4, 8, 5, 1, 18, 4, 7, 6, 22, 8</text>\n",
       "<text text-anchor=\"start\" x=\"2018.33\" y=\"-1694.8\" font-family=\"Helvetica,sans-Serif\" font-size=\"14.00\">7, 17, 8, 14, 2, 32, 11, 28, 19, 21, 23, 27</text>\n",
       "<text text-anchor=\"start\" x=\"2005.83\" y=\"-1679.8\" font-family=\"Helvetica,sans-Serif\" font-size=\"14.00\">22, 29, 19, 42, 50, 45, 26, 35, 26, 51, 49, 22</text>\n",
       "<text text-anchor=\"start\" x=\"2009.83\" y=\"-1664.8\" font-family=\"Helvetica,sans-Serif\" font-size=\"14.00\">58, 15, 57, 95, 72, 15, 78, 5, 77, 104, 7, 82</text>\n",
       "<text text-anchor=\"start\" x=\"1997.33\" y=\"-1649.8\" font-family=\"Helvetica,sans-Serif\" font-size=\"14.00\">6, 103, 110, 115, 5, 112, 0, 164, 117, 1, 166, 3</text>\n",
       "<text text-anchor=\"start\" x=\"2005.33\" y=\"-1634.8\" font-family=\"Helvetica,sans-Serif\" font-size=\"14.00\">157, 176, 163, 2, 209, 0, 177, 229, 0, 164, 0</text>\n",
       "<text text-anchor=\"start\" x=\"2005.33\" y=\"-1619.8\" font-family=\"Helvetica,sans-Serif\" font-size=\"14.00\">242, 171, 266, 0, 154, 0, 180, 156, 0, 174, 0</text>\n",
       "<text text-anchor=\"start\" x=\"2009.83\" y=\"-1604.8\" font-family=\"Helvetica,sans-Serif\" font-size=\"14.00\">116, 150, 96, 0, 121, 0, 83, 97, 0, 62, 0, 64</text>\n",
       "<text text-anchor=\"start\" x=\"2010.33\" y=\"-1589.8\" font-family=\"Helvetica,sans-Serif\" font-size=\"14.00\">47, 78, 0, 39, 0, 45, 20, 0, 28, 0, 11, 21, 11</text>\n",
       "<text text-anchor=\"start\" x=\"2027.33\" y=\"-1574.8\" font-family=\"Helvetica,sans-Serif\" font-size=\"14.00\">0, 15, 0, 4, 10, 2, 0, 13, 0, 1, 0, 0, 5, 0</text>\n",
       "<text text-anchor=\"start\" x=\"2039.33\" y=\"-1559.8\" font-family=\"Helvetica,sans-Serif\" font-size=\"14.00\">0, 0, 0, 0, 0, 0, 0, 0, 0, 0, 0, 0, 0, 0</text>\n",
       "<text text-anchor=\"start\" x=\"2039.33\" y=\"-1544.8\" font-family=\"Helvetica,sans-Serif\" font-size=\"14.00\">0, 0, 0, 0, 0, 0, 0, 0, 0, 0, 0, 0, 0, 0</text>\n",
       "<text text-anchor=\"start\" x=\"2039.33\" y=\"-1529.8\" font-family=\"Helvetica,sans-Serif\" font-size=\"14.00\">0, 0, 0, 0, 0, 0, 0, 0, 0, 0, 0, 0, 0, 0</text>\n",
       "<text text-anchor=\"start\" x=\"2108.33\" y=\"-1514.8\" font-family=\"Helvetica,sans-Serif\" font-size=\"14.00\">0, 0, 0, 0, 1]</text>\n",
       "</g>\n",
       "<!-- 1&#45;&gt;2 -->\n",
       "<g id=\"edge2\" class=\"edge\">\n",
       "<title>1&#45;&gt;2</title>\n",
       "<path fill=\"none\" stroke=\"black\" d=\"M1449.07,-1315.03C1601.49,-1385.84 1826.92,-1490.58 1979.65,-1561.53\"/>\n",
       "<polygon fill=\"black\" stroke=\"black\" points=\"1978.6,-1564.9 1989.14,-1565.94 1981.55,-1558.55 1978.6,-1564.9\"/>\n",
       "</g>\n",
       "<!-- 5 -->\n",
       "<g id=\"node6\" class=\"node\">\n",
       "<title>5</title>\n",
       "<polygon fill=\"#ffffff\" stroke=\"black\" points=\"2303.33,-1370 1989.33,-1370 1989.33,-1107 2303.33,-1107 2303.33,-1370\"/>\n",
       "<text text-anchor=\"start\" x=\"2078.33\" y=\"-1354.8\" font-family=\"Helvetica,sans-Serif\" font-size=\"14.00\">Configuration ≤ 658.5</text>\n",
       "<text text-anchor=\"start\" x=\"2108.83\" y=\"-1339.8\" font-family=\"Helvetica,sans-Serif\" font-size=\"14.00\">gini = 0.981</text>\n",
       "<text text-anchor=\"start\" x=\"2094.83\" y=\"-1324.8\" font-family=\"Helvetica,sans-Serif\" font-size=\"14.00\">samples = 9192</text>\n",
       "<text text-anchor=\"start\" x=\"2013.33\" y=\"-1309.8\" font-family=\"Helvetica,sans-Serif\" font-size=\"14.00\">value = [0, 0, 0, 0, 0, 0, 2, 0, 0, 0, 2, 0, 5, 0</text>\n",
       "<text text-anchor=\"start\" x=\"2022.83\" y=\"-1294.8\" font-family=\"Helvetica,sans-Serif\" font-size=\"14.00\">0, 1, 0, 10, 0, 7, 0, 10, 0, 12, 0, 0, 26, 0</text>\n",
       "<text text-anchor=\"start\" x=\"2022.83\" y=\"-1279.8\" font-family=\"Helvetica,sans-Serif\" font-size=\"14.00\">14, 0, 36, 0, 32, 0, 28, 0, 0, 59, 4, 40, 0</text>\n",
       "<text text-anchor=\"start\" x=\"2010.33\" y=\"-1264.8\" font-family=\"Helvetica,sans-Serif\" font-size=\"14.00\">34, 0, 45, 20, 37, 2, 9, 36, 4, 33, 17, 54, 27</text>\n",
       "<text text-anchor=\"start\" x=\"2005.83\" y=\"-1249.8\" font-family=\"Helvetica,sans-Serif\" font-size=\"14.00\">45, 10, 12, 43, 18, 40, 70, 16, 37, 74, 61, 26</text>\n",
       "<text text-anchor=\"start\" x=\"2001.33\" y=\"-1234.8\" font-family=\"Helvetica,sans-Serif\" font-size=\"14.00\">105, 11, 97, 162, 9, 126, 19, 200, 148, 197, 8</text>\n",
       "<text text-anchor=\"start\" x=\"2005.33\" y=\"-1219.8\" font-family=\"Helvetica,sans-Serif\" font-size=\"14.00\">196, 5, 215, 176, 2, 282, 2, 221, 289, 228, 1</text>\n",
       "<text text-anchor=\"start\" x=\"2005.33\" y=\"-1204.8\" font-family=\"Helvetica,sans-Serif\" font-size=\"14.00\">310, 1, 226, 309, 0, 234, 3, 289, 185, 272, 1</text>\n",
       "<text text-anchor=\"start\" x=\"2005.33\" y=\"-1189.8\" font-family=\"Helvetica,sans-Serif\" font-size=\"14.00\">196, 2, 215, 153, 0, 253, 0, 181, 210, 140, 0</text>\n",
       "<text text-anchor=\"start\" x=\"2005.33\" y=\"-1174.8\" font-family=\"Helvetica,sans-Serif\" font-size=\"14.00\">200, 0, 141, 225, 162, 0, 169, 89, 168, 94, 0</text>\n",
       "<text text-anchor=\"start\" x=\"1997.33\" y=\"-1159.8\" font-family=\"Helvetica,sans-Serif\" font-size=\"14.00\">140, 90, 103, 0, 72, 111, 50, 79, 37, 43, 20, 46</text>\n",
       "<text text-anchor=\"start\" x=\"2014.33\" y=\"-1144.8\" font-family=\"Helvetica,sans-Serif\" font-size=\"14.00\">26, 28, 13, 17, 10, 26, 9, 12, 6, 16, 5, 8, 2</text>\n",
       "<text text-anchor=\"start\" x=\"2035.33\" y=\"-1129.8\" font-family=\"Helvetica,sans-Serif\" font-size=\"14.00\">10, 5, 6, 2, 3, 3, 1, 2, 2, 3, 0, 1, 0, 0</text>\n",
       "<text text-anchor=\"start\" x=\"2069.33\" y=\"-1114.8\" font-family=\"Helvetica,sans-Serif\" font-size=\"14.00\">0, 0, 0, 0, 0, 0, 0, 0, 0, 0]</text>\n",
       "</g>\n",
       "<!-- 1&#45;&gt;5 -->\n",
       "<g id=\"edge5\" class=\"edge\">\n",
       "<title>1&#45;&gt;5</title>\n",
       "<path fill=\"none\" stroke=\"black\" d=\"M1449.07,-1238.5C1601.19,-1238.5 1826.03,-1238.5 1978.73,-1238.5\"/>\n",
       "<polygon fill=\"black\" stroke=\"black\" points=\"1979.14,-1242 1989.14,-1238.5 1979.14,-1235 1979.14,-1242\"/>\n",
       "</g>\n",
       "<!-- 3 -->\n",
       "<g id=\"node4\" class=\"node\">\n",
       "<title>3</title>\n",
       "<polygon fill=\"#feffff\" stroke=\"black\" points=\"3147.33,-2021.5 2833.33,-2021.5 2833.33,-1773.5 3147.33,-1773.5 3147.33,-2021.5\"/>\n",
       "<text text-anchor=\"start\" x=\"2952.83\" y=\"-2006.3\" font-family=\"Helvetica,sans-Serif\" font-size=\"14.00\">gini = 0.976</text>\n",
       "<text text-anchor=\"start\" x=\"2938.83\" y=\"-1991.3\" font-family=\"Helvetica,sans-Serif\" font-size=\"14.00\">samples = 4051</text>\n",
       "<text text-anchor=\"start\" x=\"2848.83\" y=\"-1976.3\" font-family=\"Helvetica,sans-Serif\" font-size=\"14.00\">value = [1, 5, 4, 4, 4, 8, 5, 1, 18, 4, 5, 6, 22, 8</text>\n",
       "<text text-anchor=\"start\" x=\"2862.33\" y=\"-1961.3\" font-family=\"Helvetica,sans-Serif\" font-size=\"14.00\">7, 15, 8, 11, 2, 29, 11, 16, 19, 18, 23, 27</text>\n",
       "<text text-anchor=\"start\" x=\"2849.83\" y=\"-1946.3\" font-family=\"Helvetica,sans-Serif\" font-size=\"14.00\">18, 29, 12, 42, 44, 45, 12, 35, 16, 51, 49, 14</text>\n",
       "<text text-anchor=\"start\" x=\"2854.33\" y=\"-1931.3\" font-family=\"Helvetica,sans-Serif\" font-size=\"14.00\">58, 8, 57, 90, 72, 4, 75, 2, 77, 100, 4, 81, 0</text>\n",
       "<text text-anchor=\"start\" x=\"2841.33\" y=\"-1916.3\" font-family=\"Helvetica,sans-Serif\" font-size=\"14.00\">92, 101, 103, 0, 104, 0, 136, 86, 0, 127, 0, 127</text>\n",
       "<text text-anchor=\"start\" x=\"2849.33\" y=\"-1901.3\" font-family=\"Helvetica,sans-Serif\" font-size=\"14.00\">139, 126, 0, 158, 0, 132, 158, 0, 100, 0, 184</text>\n",
       "<text text-anchor=\"start\" x=\"2862.33\" y=\"-1886.3\" font-family=\"Helvetica,sans-Serif\" font-size=\"14.00\">91, 163, 0, 82, 0, 85, 75, 0, 95, 0, 41, 69</text>\n",
       "<text text-anchor=\"start\" x=\"2866.83\" y=\"-1871.3\" font-family=\"Helvetica,sans-Serif\" font-size=\"14.00\">39, 0, 49, 0, 25, 37, 0, 8, 0, 11, 7, 17, 0</text>\n",
       "<text text-anchor=\"start\" x=\"2883.33\" y=\"-1856.3\" font-family=\"Helvetica,sans-Serif\" font-size=\"14.00\">0, 0, 5, 0, 0, 2, 0, 0, 0, 0, 0, 0, 0, 0</text>\n",
       "<text text-anchor=\"start\" x=\"2883.33\" y=\"-1841.3\" font-family=\"Helvetica,sans-Serif\" font-size=\"14.00\">0, 0, 0, 0, 0, 0, 0, 0, 0, 0, 0, 0, 0, 0</text>\n",
       "<text text-anchor=\"start\" x=\"2883.33\" y=\"-1826.3\" font-family=\"Helvetica,sans-Serif\" font-size=\"14.00\">0, 0, 0, 0, 0, 0, 0, 0, 0, 0, 0, 0, 0, 0</text>\n",
       "<text text-anchor=\"start\" x=\"2883.33\" y=\"-1811.3\" font-family=\"Helvetica,sans-Serif\" font-size=\"14.00\">0, 0, 0, 0, 0, 0, 0, 0, 0, 0, 0, 0, 0, 0</text>\n",
       "<text text-anchor=\"start\" x=\"2883.33\" y=\"-1796.3\" font-family=\"Helvetica,sans-Serif\" font-size=\"14.00\">0, 0, 0, 0, 0, 0, 0, 0, 0, 0, 0, 0, 0, 0</text>\n",
       "<text text-anchor=\"start\" x=\"2983.83\" y=\"-1781.3\" font-family=\"Helvetica,sans-Serif\" font-size=\"14.00\">1]</text>\n",
       "</g>\n",
       "<!-- 2&#45;&gt;3 -->\n",
       "<g id=\"edge3\" class=\"edge\">\n",
       "<title>2&#45;&gt;3</title>\n",
       "<path fill=\"none\" stroke=\"black\" d=\"M2303.73,-1686.61C2451.49,-1732.06 2672.37,-1800 2823.22,-1846.4\"/>\n",
       "<polygon fill=\"black\" stroke=\"black\" points=\"2822.47,-1849.83 2833.06,-1849.43 2824.53,-1843.14 2822.47,-1849.83\"/>\n",
       "</g>\n",
       "<!-- 4 -->\n",
       "<g id=\"node5\" class=\"node\">\n",
       "<title>4</title>\n",
       "<polygon fill=\"#feffff\" stroke=\"black\" points=\"3134.33,-1755 2846.33,-1755 2846.33,-1522 3134.33,-1522 3134.33,-1755\"/>\n",
       "<text text-anchor=\"start\" x=\"2952.83\" y=\"-1739.8\" font-family=\"Helvetica,sans-Serif\" font-size=\"14.00\">gini = 0.972</text>\n",
       "<text text-anchor=\"start\" x=\"2938.83\" y=\"-1724.8\" font-family=\"Helvetica,sans-Serif\" font-size=\"14.00\">samples = 1998</text>\n",
       "<text text-anchor=\"start\" x=\"2857.33\" y=\"-1709.8\" font-family=\"Helvetica,sans-Serif\" font-size=\"14.00\">value = [0, 0, 0, 0, 0, 0, 0, 0, 0, 0, 2, 0, 0, 0</text>\n",
       "<text text-anchor=\"start\" x=\"2879.33\" y=\"-1694.8\" font-family=\"Helvetica,sans-Serif\" font-size=\"14.00\">0, 2, 0, 3, 0, 3, 0, 12, 0, 3, 0, 0, 4, 0</text>\n",
       "<text text-anchor=\"start\" x=\"2875.33\" y=\"-1679.8\" font-family=\"Helvetica,sans-Serif\" font-size=\"14.00\">7, 0, 6, 0, 14, 0, 10, 0, 0, 8, 0, 7, 0, 5</text>\n",
       "<text text-anchor=\"start\" x=\"2871.33\" y=\"-1664.8\" font-family=\"Helvetica,sans-Serif\" font-size=\"14.00\">0, 11, 3, 3, 0, 4, 3, 1, 6, 11, 9, 12, 5, 8</text>\n",
       "<text text-anchor=\"start\" x=\"2858.33\" y=\"-1649.8\" font-family=\"Helvetica,sans-Serif\" font-size=\"14.00\">0, 28, 31, 1, 39, 3, 30, 37, 37, 2, 51, 0, 45</text>\n",
       "<text text-anchor=\"start\" x=\"2854.33\" y=\"-1634.8\" font-family=\"Helvetica,sans-Serif\" font-size=\"14.00\">71, 0, 64, 0, 58, 80, 103, 0, 72, 0, 95, 81, 0</text>\n",
       "<text text-anchor=\"start\" x=\"2858.33\" y=\"-1619.8\" font-family=\"Helvetica,sans-Serif\" font-size=\"14.00\">79, 0, 75, 81, 57, 0, 72, 0, 58, 60, 0, 54, 0</text>\n",
       "<text text-anchor=\"start\" x=\"2854.33\" y=\"-1604.8\" font-family=\"Helvetica,sans-Serif\" font-size=\"14.00\">53, 40, 61, 0, 39, 0, 40, 20, 0, 26, 0, 11, 21</text>\n",
       "<text text-anchor=\"start\" x=\"2866.83\" y=\"-1589.8\" font-family=\"Helvetica,sans-Serif\" font-size=\"14.00\">11, 0, 15, 0, 4, 10, 2, 0, 13, 0, 1, 0, 0, 5</text>\n",
       "<text text-anchor=\"start\" x=\"2883.33\" y=\"-1574.8\" font-family=\"Helvetica,sans-Serif\" font-size=\"14.00\">0, 0, 0, 0, 0, 0, 0, 0, 0, 0, 0, 0, 0, 0</text>\n",
       "<text text-anchor=\"start\" x=\"2883.33\" y=\"-1559.8\" font-family=\"Helvetica,sans-Serif\" font-size=\"14.00\">0, 0, 0, 0, 0, 0, 0, 0, 0, 0, 0, 0, 0, 0</text>\n",
       "<text text-anchor=\"start\" x=\"2883.33\" y=\"-1544.8\" font-family=\"Helvetica,sans-Serif\" font-size=\"14.00\">0, 0, 0, 0, 0, 0, 0, 0, 0, 0, 0, 0, 0, 0</text>\n",
       "<text text-anchor=\"start\" x=\"2944.83\" y=\"-1529.8\" font-family=\"Helvetica,sans-Serif\" font-size=\"14.00\">0, 0, 0, 0, 0, 0]</text>\n",
       "</g>\n",
       "<!-- 2&#45;&gt;4 -->\n",
       "<g id=\"edge4\" class=\"edge\">\n",
       "<title>2&#45;&gt;4</title>\n",
       "<path fill=\"none\" stroke=\"black\" d=\"M2303.73,-1638.5C2455.64,-1638.5 2684.84,-1638.5 2835.78,-1638.5\"/>\n",
       "<polygon fill=\"black\" stroke=\"black\" points=\"2836.05,-1642 2846.05,-1638.5 2836.05,-1635 2836.05,-1642\"/>\n",
       "</g>\n",
       "<!-- 6 -->\n",
       "<g id=\"node7\" class=\"node\">\n",
       "<title>6</title>\n",
       "<polygon fill=\"#ffffff\" stroke=\"black\" points=\"3139.33,-1503.5 2841.33,-1503.5 2841.33,-1255.5 3139.33,-1255.5 3139.33,-1503.5\"/>\n",
       "<text text-anchor=\"start\" x=\"2952.83\" y=\"-1488.3\" font-family=\"Helvetica,sans-Serif\" font-size=\"14.00\">gini = 0.978</text>\n",
       "<text text-anchor=\"start\" x=\"2938.83\" y=\"-1473.3\" font-family=\"Helvetica,sans-Serif\" font-size=\"14.00\">samples = 7275</text>\n",
       "<text text-anchor=\"start\" x=\"2857.33\" y=\"-1458.3\" font-family=\"Helvetica,sans-Serif\" font-size=\"14.00\">value = [0, 0, 0, 0, 0, 0, 2, 0, 0, 0, 2, 0, 5, 0</text>\n",
       "<text text-anchor=\"start\" x=\"2866.83\" y=\"-1443.3\" font-family=\"Helvetica,sans-Serif\" font-size=\"14.00\">0, 1, 0, 10, 0, 7, 0, 10, 0, 12, 0, 0, 26, 0</text>\n",
       "<text text-anchor=\"start\" x=\"2866.83\" y=\"-1428.3\" font-family=\"Helvetica,sans-Serif\" font-size=\"14.00\">14, 0, 36, 0, 31, 0, 27, 0, 0, 59, 4, 37, 0</text>\n",
       "<text text-anchor=\"start\" x=\"2854.33\" y=\"-1413.3\" font-family=\"Helvetica,sans-Serif\" font-size=\"14.00\">31, 0, 39, 20, 32, 2, 9, 33, 4, 25, 17, 43, 27</text>\n",
       "<text text-anchor=\"start\" x=\"2853.83\" y=\"-1398.3\" font-family=\"Helvetica,sans-Serif\" font-size=\"14.00\">35, 10, 4, 43, 18, 24, 70, 10, 37, 72, 61, 16</text>\n",
       "<text text-anchor=\"start\" x=\"2849.33\" y=\"-1383.3\" font-family=\"Helvetica,sans-Serif\" font-size=\"14.00\">105, 7, 97, 162, 1, 126, 12, 200, 146, 195, 1</text>\n",
       "<text text-anchor=\"start\" x=\"2849.33\" y=\"-1368.3\" font-family=\"Helvetica,sans-Serif\" font-size=\"14.00\">196, 1, 208, 169, 0, 273, 0, 219, 274, 210, 0</text>\n",
       "<text text-anchor=\"start\" x=\"2849.33\" y=\"-1353.3\" font-family=\"Helvetica,sans-Serif\" font-size=\"14.00\">281, 0, 219, 283, 0, 210, 0, 248, 164, 235, 0</text>\n",
       "<text text-anchor=\"start\" x=\"2849.33\" y=\"-1338.3\" font-family=\"Helvetica,sans-Serif\" font-size=\"14.00\">164, 0, 165, 132, 0, 182, 0, 134, 140, 109, 0</text>\n",
       "<text text-anchor=\"start\" x=\"2849.83\" y=\"-1323.3\" font-family=\"Helvetica,sans-Serif\" font-size=\"14.00\">125, 0, 81, 133, 102, 0, 94, 52, 80, 45, 0, 71</text>\n",
       "<text text-anchor=\"start\" x=\"2858.33\" y=\"-1308.3\" font-family=\"Helvetica,sans-Serif\" font-size=\"14.00\">45, 43, 0, 24, 37, 21, 42, 13, 12, 3, 7, 8, 2</text>\n",
       "<text text-anchor=\"start\" x=\"2883.33\" y=\"-1293.3\" font-family=\"Helvetica,sans-Serif\" font-size=\"14.00\">1, 0, 0, 1, 0, 0, 0, 0, 0, 0, 0, 0, 0, 0</text>\n",
       "<text text-anchor=\"start\" x=\"2883.33\" y=\"-1278.3\" font-family=\"Helvetica,sans-Serif\" font-size=\"14.00\">0, 0, 0, 0, 0, 0, 0, 0, 0, 0, 0, 0, 0, 0</text>\n",
       "<text text-anchor=\"start\" x=\"2936.83\" y=\"-1263.3\" font-family=\"Helvetica,sans-Serif\" font-size=\"14.00\">0, 0, 0, 0, 0, 0, 0]</text>\n",
       "</g>\n",
       "<!-- 5&#45;&gt;6 -->\n",
       "<g id=\"edge6\" class=\"edge\">\n",
       "<title>5&#45;&gt;6</title>\n",
       "<path fill=\"none\" stroke=\"black\" d=\"M2303.73,-1264.69C2454.01,-1289.86 2679.94,-1327.69 2830.9,-1352.97\"/>\n",
       "<polygon fill=\"black\" stroke=\"black\" points=\"2830.74,-1356.49 2841.18,-1354.69 2831.9,-1349.59 2830.74,-1356.49\"/>\n",
       "</g>\n",
       "<!-- 7 -->\n",
       "<g id=\"node8\" class=\"node\">\n",
       "<title>7</title>\n",
       "<polygon fill=\"#ffffff\" stroke=\"black\" points=\"3134.83,-1237 2845.83,-1237 2845.83,-1004 3134.83,-1004 3134.83,-1237\"/>\n",
       "<text text-anchor=\"start\" x=\"2952.83\" y=\"-1221.8\" font-family=\"Helvetica,sans-Serif\" font-size=\"14.00\">gini = 0.976</text>\n",
       "<text text-anchor=\"start\" x=\"2938.83\" y=\"-1206.8\" font-family=\"Helvetica,sans-Serif\" font-size=\"14.00\">samples = 1917</text>\n",
       "<text text-anchor=\"start\" x=\"2857.33\" y=\"-1191.8\" font-family=\"Helvetica,sans-Serif\" font-size=\"14.00\">value = [0, 0, 0, 0, 0, 0, 0, 0, 0, 0, 0, 0, 0, 0</text>\n",
       "<text text-anchor=\"start\" x=\"2883.33\" y=\"-1176.8\" font-family=\"Helvetica,sans-Serif\" font-size=\"14.00\">0, 0, 0, 0, 0, 0, 0, 0, 0, 0, 0, 0, 0, 0</text>\n",
       "<text text-anchor=\"start\" x=\"2883.33\" y=\"-1161.8\" font-family=\"Helvetica,sans-Serif\" font-size=\"14.00\">0, 0, 0, 0, 1, 0, 1, 0, 0, 0, 0, 3, 0, 3</text>\n",
       "<text text-anchor=\"start\" x=\"2875.33\" y=\"-1146.8\" font-family=\"Helvetica,sans-Serif\" font-size=\"14.00\">0, 6, 0, 5, 0, 0, 3, 0, 8, 0, 11, 0, 10, 0</text>\n",
       "<text text-anchor=\"start\" x=\"2875.33\" y=\"-1131.8\" font-family=\"Helvetica,sans-Serif\" font-size=\"14.00\">8, 0, 0, 16, 0, 6, 0, 2, 0, 10, 0, 4, 0, 0</text>\n",
       "<text text-anchor=\"start\" x=\"2883.33\" y=\"-1116.8\" font-family=\"Helvetica,sans-Serif\" font-size=\"14.00\">8, 0, 7, 0, 2, 2, 7, 0, 4, 7, 7, 2, 9, 2</text>\n",
       "<text text-anchor=\"start\" x=\"2862.33\" y=\"-1101.8\" font-family=\"Helvetica,sans-Serif\" font-size=\"14.00\">2, 15, 18, 1, 29, 1, 7, 26, 0, 24, 3, 41, 21</text>\n",
       "<text text-anchor=\"start\" x=\"2858.33\" y=\"-1086.8\" font-family=\"Helvetica,sans-Serif\" font-size=\"14.00\">37, 1, 32, 2, 50, 21, 0, 71, 0, 47, 70, 31, 0</text>\n",
       "<text text-anchor=\"start\" x=\"2862.33\" y=\"-1071.8\" font-family=\"Helvetica,sans-Serif\" font-size=\"14.00\">75, 0, 60, 92, 60, 0, 75, 37, 88, 49, 0, 69</text>\n",
       "<text text-anchor=\"start\" x=\"2853.83\" y=\"-1056.8\" font-family=\"Helvetica,sans-Serif\" font-size=\"14.00\">45, 60, 0, 48, 74, 29, 37, 24, 31, 17, 39, 18</text>\n",
       "<text text-anchor=\"start\" x=\"2858.33\" y=\"-1041.8\" font-family=\"Helvetica,sans-Serif\" font-size=\"14.00\">26, 12, 17, 10, 25, 9, 12, 6, 16, 5, 8, 2, 10</text>\n",
       "<text text-anchor=\"start\" x=\"2883.33\" y=\"-1026.8\" font-family=\"Helvetica,sans-Serif\" font-size=\"14.00\">5, 6, 2, 3, 3, 1, 2, 2, 3, 0, 1, 0, 0, 0</text>\n",
       "<text text-anchor=\"start\" x=\"2920.83\" y=\"-1011.8\" font-family=\"Helvetica,sans-Serif\" font-size=\"14.00\">0, 0, 0, 0, 0, 0, 0, 0, 0]</text>\n",
       "</g>\n",
       "<!-- 5&#45;&gt;7 -->\n",
       "<g id=\"edge7\" class=\"edge\">\n",
       "<title>5&#45;&gt;7</title>\n",
       "<path fill=\"none\" stroke=\"black\" d=\"M2303.73,-1216.58C2455.52,-1195.31 2684.49,-1163.22 2835.43,-1142.07\"/>\n",
       "<polygon fill=\"black\" stroke=\"black\" points=\"2836.29,-1145.48 2845.71,-1140.63 2835.32,-1138.55 2836.29,-1145.48\"/>\n",
       "</g>\n",
       "<!-- 9 -->\n",
       "<g id=\"node10\" class=\"node\">\n",
       "<title>9</title>\n",
       "<polygon fill=\"#fefdff\" stroke=\"black\" points=\"2290.33,-860.5 2002.33,-860.5 2002.33,-612.5 2290.33,-612.5 2290.33,-860.5\"/>\n",
       "<text text-anchor=\"start\" x=\"2078.33\" y=\"-845.3\" font-family=\"Helvetica,sans-Serif\" font-size=\"14.00\">Configuration ≤ 333.5</text>\n",
       "<text text-anchor=\"start\" x=\"2108.83\" y=\"-830.3\" font-family=\"Helvetica,sans-Serif\" font-size=\"14.00\">gini = 0.963</text>\n",
       "<text text-anchor=\"start\" x=\"2094.83\" y=\"-815.3\" font-family=\"Helvetica,sans-Serif\" font-size=\"14.00\">samples = 1510</text>\n",
       "<text text-anchor=\"start\" x=\"2013.33\" y=\"-800.3\" font-family=\"Helvetica,sans-Serif\" font-size=\"14.00\">value = [0, 0, 0, 0, 0, 0, 0, 0, 0, 0, 0, 0, 0, 0</text>\n",
       "<text text-anchor=\"start\" x=\"2039.33\" y=\"-785.3\" font-family=\"Helvetica,sans-Serif\" font-size=\"14.00\">0, 0, 0, 0, 0, 0, 0, 0, 0, 0, 0, 0, 0, 0</text>\n",
       "<text text-anchor=\"start\" x=\"2035.33\" y=\"-770.3\" font-family=\"Helvetica,sans-Serif\" font-size=\"14.00\">0, 0, 5, 0, 0, 0, 11, 0, 0, 0, 0, 2, 0, 7</text>\n",
       "<text text-anchor=\"start\" x=\"2031.33\" y=\"-755.3\" font-family=\"Helvetica,sans-Serif\" font-size=\"14.00\">0, 0, 0, 17, 0, 0, 0, 0, 8, 0, 10, 0, 0, 0</text>\n",
       "<text text-anchor=\"start\" x=\"2027.33\" y=\"-740.3\" font-family=\"Helvetica,sans-Serif\" font-size=\"14.00\">10, 0, 0, 0, 0, 9, 0, 10, 0, 0, 0, 14, 0, 0</text>\n",
       "<text text-anchor=\"start\" x=\"2022.83\" y=\"-725.3\" font-family=\"Helvetica,sans-Serif\" font-size=\"14.00\">0, 0, 9, 23, 8, 0, 0, 0, 11, 52, 30, 0, 0, 0</text>\n",
       "<text text-anchor=\"start\" x=\"2018.33\" y=\"-710.3\" font-family=\"Helvetica,sans-Serif\" font-size=\"14.00\">0, 29, 54, 0, 56, 2, 0, 0, 0, 34, 0, 112, 32</text>\n",
       "<text text-anchor=\"start\" x=\"2030.83\" y=\"-695.3\" font-family=\"Helvetica,sans-Serif\" font-size=\"14.00\">0, 0, 0, 1, 52, 71, 0, 57, 0, 0, 0, 19, 0</text>\n",
       "<text text-anchor=\"start\" x=\"2022.83\" y=\"-680.3\" font-family=\"Helvetica,sans-Serif\" font-size=\"14.00\">91, 0, 34, 0, 0, 0, 31, 70, 61, 0, 0, 0, 15</text>\n",
       "<text text-anchor=\"start\" x=\"2010.33\" y=\"-665.3\" font-family=\"Helvetica,sans-Serif\" font-size=\"14.00\">126, 0, 35, 0, 0, 44, 59, 24, 0, 0, 11, 33, 10</text>\n",
       "<text text-anchor=\"start\" x=\"2026.83\" y=\"-650.3\" font-family=\"Helvetica,sans-Serif\" font-size=\"14.00\">0, 0, 15, 15, 16, 0, 0, 0, 29, 10, 0, 0, 0</text>\n",
       "<text text-anchor=\"start\" x=\"2035.33\" y=\"-635.3\" font-family=\"Helvetica,sans-Serif\" font-size=\"14.00\">7, 14, 0, 0, 0, 5, 0, 0, 0, 0, 0, 0, 0, 0</text>\n",
       "<text text-anchor=\"start\" x=\"2092.83\" y=\"-620.3\" font-family=\"Helvetica,sans-Serif\" font-size=\"14.00\">0, 0, 0, 0, 0, 0, 0]</text>\n",
       "</g>\n",
       "<!-- 8&#45;&gt;9 -->\n",
       "<g id=\"edge9\" class=\"edge\">\n",
       "<title>8&#45;&gt;9</title>\n",
       "<path fill=\"none\" stroke=\"black\" d=\"M1436.28,-736.5C1592.64,-736.5 1834.92,-736.5 1991.85,-736.5\"/>\n",
       "<polygon fill=\"black\" stroke=\"black\" points=\"1992.06,-740 2002.06,-736.5 1992.06,-733 1992.06,-740\"/>\n",
       "</g>\n",
       "<!-- 12 -->\n",
       "<g id=\"node13\" class=\"node\">\n",
       "<title>12</title>\n",
       "<polygon fill=\"#fffeff\" stroke=\"black\" points=\"2295.33,-499 1997.33,-499 1997.33,-236 2295.33,-236 2295.33,-499\"/>\n",
       "<text text-anchor=\"start\" x=\"2078.33\" y=\"-483.8\" font-family=\"Helvetica,sans-Serif\" font-size=\"14.00\">Configuration ≤ 286.5</text>\n",
       "<text text-anchor=\"start\" x=\"2108.83\" y=\"-468.8\" font-family=\"Helvetica,sans-Serif\" font-size=\"14.00\">gini = 0.978</text>\n",
       "<text text-anchor=\"start\" x=\"2094.83\" y=\"-453.8\" font-family=\"Helvetica,sans-Serif\" font-size=\"14.00\">samples = 3249</text>\n",
       "<text text-anchor=\"start\" x=\"2013.33\" y=\"-438.8\" font-family=\"Helvetica,sans-Serif\" font-size=\"14.00\">value = [0, 0, 0, 0, 0, 0, 0, 0, 0, 0, 0, 0, 0, 0</text>\n",
       "<text text-anchor=\"start\" x=\"2039.33\" y=\"-423.8\" font-family=\"Helvetica,sans-Serif\" font-size=\"14.00\">0, 0, 0, 0, 0, 0, 0, 0, 0, 0, 0, 0, 0, 0</text>\n",
       "<text text-anchor=\"start\" x=\"2039.33\" y=\"-408.8\" font-family=\"Helvetica,sans-Serif\" font-size=\"14.00\">0, 0, 0, 0, 0, 0, 0, 0, 0, 0, 0, 5, 0, 0</text>\n",
       "<text text-anchor=\"start\" x=\"2027.33\" y=\"-393.8\" font-family=\"Helvetica,sans-Serif\" font-size=\"14.00\">0, 15, 0, 0, 0, 0, 8, 0, 12, 0, 4, 0, 21, 0</text>\n",
       "<text text-anchor=\"start\" x=\"2031.33\" y=\"-378.8\" font-family=\"Helvetica,sans-Serif\" font-size=\"14.00\">2, 0, 0, 17, 0, 8, 0, 8, 0, 29, 0, 5, 0, 0</text>\n",
       "<text text-anchor=\"start\" x=\"2030.83\" y=\"-363.8\" font-family=\"Helvetica,sans-Serif\" font-size=\"14.00\">19, 0, 23, 0, 3, 0, 19, 0, 6, 0, 0, 10, 0</text>\n",
       "<text text-anchor=\"start\" x=\"2022.83\" y=\"-348.8\" font-family=\"Helvetica,sans-Serif\" font-size=\"14.00\">12, 0, 30, 0, 11, 0, 9, 0, 88, 6, 26, 10, 0</text>\n",
       "<text text-anchor=\"start\" x=\"2014.33\" y=\"-333.8\" font-family=\"Helvetica,sans-Serif\" font-size=\"14.00\">2, 86, 9, 86, 3, 60, 0, 3, 23, 5, 52, 106, 20</text>\n",
       "<text text-anchor=\"start\" x=\"2018.33\" y=\"-318.8\" font-family=\"Helvetica,sans-Serif\" font-size=\"14.00\">4, 15, 2, 31, 119, 48, 5, 82, 18, 28, 55, 1</text>\n",
       "<text text-anchor=\"start\" x=\"2005.33\" y=\"-303.8\" font-family=\"Helvetica,sans-Serif\" font-size=\"14.00\">169, 76, 42, 5, 26, 136, 107, 151, 22, 17, 36</text>\n",
       "<text text-anchor=\"start\" x=\"2005.83\" y=\"-288.8\" font-family=\"Helvetica,sans-Serif\" font-size=\"14.00\">117, 32, 33, 7, 71, 55, 77, 23, 25, 38, 85, 36</text>\n",
       "<text text-anchor=\"start\" x=\"2013.83\" y=\"-273.8\" font-family=\"Helvetica,sans-Serif\" font-size=\"14.00\">43, 8, 45, 29, 75, 13, 14, 8, 54, 29, 36, 11</text>\n",
       "<text text-anchor=\"start\" x=\"2013.83\" y=\"-258.8\" font-family=\"Helvetica,sans-Serif\" font-size=\"14.00\">23, 47, 9, 11, 35, 10, 21, 15, 24, 10, 7, 11</text>\n",
       "<text text-anchor=\"start\" x=\"2132.33\" y=\"-243.8\" font-family=\"Helvetica,sans-Serif\" font-size=\"14.00\">6, 0]</text>\n",
       "</g>\n",
       "<!-- 8&#45;&gt;12 -->\n",
       "<g id=\"edge12\" class=\"edge\">\n",
       "<title>8&#45;&gt;12</title>\n",
       "<path fill=\"none\" stroke=\"black\" d=\"M1436.28,-671.38C1591.3,-604.94 1830.76,-502.32 1987.78,-435.02\"/>\n",
       "<polygon fill=\"black\" stroke=\"black\" points=\"1989.25,-438.2 1997.06,-431.04 1986.49,-431.77 1989.25,-438.2\"/>\n",
       "</g>\n",
       "<!-- 10 -->\n",
       "<g id=\"node11\" class=\"node\">\n",
       "<title>10</title>\n",
       "<polygon fill=\"#f2f4fd\" stroke=\"black\" points=\"3131.33,-986 2849.33,-986 2849.33,-753 3131.33,-753 3131.33,-986\"/>\n",
       "<text text-anchor=\"start\" x=\"2952.83\" y=\"-970.8\" font-family=\"Helvetica,sans-Serif\" font-size=\"14.00\">gini = 0.924</text>\n",
       "<text text-anchor=\"start\" x=\"2942.83\" y=\"-955.8\" font-family=\"Helvetica,sans-Serif\" font-size=\"14.00\">samples = 687</text>\n",
       "<text text-anchor=\"start\" x=\"2857.33\" y=\"-940.8\" font-family=\"Helvetica,sans-Serif\" font-size=\"14.00\">value = [0, 0, 0, 0, 0, 0, 0, 0, 0, 0, 0, 0, 0, 0</text>\n",
       "<text text-anchor=\"start\" x=\"2883.33\" y=\"-925.8\" font-family=\"Helvetica,sans-Serif\" font-size=\"14.00\">0, 0, 0, 0, 0, 0, 0, 0, 0, 0, 0, 0, 0, 0</text>\n",
       "<text text-anchor=\"start\" x=\"2879.33\" y=\"-910.8\" font-family=\"Helvetica,sans-Serif\" font-size=\"14.00\">0, 0, 5, 0, 0, 0, 11, 0, 0, 0, 0, 2, 0, 7</text>\n",
       "<text text-anchor=\"start\" x=\"2879.33\" y=\"-895.8\" font-family=\"Helvetica,sans-Serif\" font-size=\"14.00\">0, 0, 0, 17, 0, 0, 0, 0, 8, 0, 1, 0, 0, 0</text>\n",
       "<text text-anchor=\"start\" x=\"2883.33\" y=\"-880.8\" font-family=\"Helvetica,sans-Serif\" font-size=\"14.00\">3, 0, 0, 0, 0, 5, 0, 0, 0, 0, 0, 0, 0, 0</text>\n",
       "<text text-anchor=\"start\" x=\"2871.33\" y=\"-865.8\" font-family=\"Helvetica,sans-Serif\" font-size=\"14.00\">0, 0, 0, 23, 0, 0, 0, 0, 0, 52, 30, 0, 0, 0</text>\n",
       "<text text-anchor=\"start\" x=\"2862.33\" y=\"-850.8\" font-family=\"Helvetica,sans-Serif\" font-size=\"14.00\">0, 25, 54, 0, 56, 0, 0, 0, 0, 34, 0, 112, 29</text>\n",
       "<text text-anchor=\"start\" x=\"2874.83\" y=\"-835.8\" font-family=\"Helvetica,sans-Serif\" font-size=\"14.00\">0, 0, 0, 0, 52, 71, 0, 26, 0, 0, 0, 19, 0</text>\n",
       "<text text-anchor=\"start\" x=\"2875.33\" y=\"-820.8\" font-family=\"Helvetica,sans-Serif\" font-size=\"14.00\">34, 0, 0, 0, 0, 0, 11, 0, 0, 0, 0, 0, 0, 0</text>\n",
       "<text text-anchor=\"start\" x=\"2883.33\" y=\"-805.8\" font-family=\"Helvetica,sans-Serif\" font-size=\"14.00\">0, 0, 0, 0, 0, 0, 0, 0, 0, 0, 0, 0, 0, 0</text>\n",
       "<text text-anchor=\"start\" x=\"2883.33\" y=\"-790.8\" font-family=\"Helvetica,sans-Serif\" font-size=\"14.00\">0, 0, 0, 0, 0, 0, 0, 0, 0, 0, 0, 0, 0, 0</text>\n",
       "<text text-anchor=\"start\" x=\"2883.33\" y=\"-775.8\" font-family=\"Helvetica,sans-Serif\" font-size=\"14.00\">0, 0, 0, 0, 0, 0, 0, 0, 0, 0, 0, 0, 0, 0</text>\n",
       "<text text-anchor=\"start\" x=\"2960.33\" y=\"-760.8\" font-family=\"Helvetica,sans-Serif\" font-size=\"14.00\">0, 0, 0, 0]</text>\n",
       "</g>\n",
       "<!-- 9&#45;&gt;10 -->\n",
       "<g id=\"edge10\" class=\"edge\">\n",
       "<title>9&#45;&gt;10</title>\n",
       "<path fill=\"none\" stroke=\"black\" d=\"M2290.64,-759.14C2443.27,-783.24 2683.78,-821.24 2839.02,-845.76\"/>\n",
       "<polygon fill=\"black\" stroke=\"black\" points=\"2838.7,-849.25 2849.13,-847.35 2839.79,-842.34 2838.7,-849.25\"/>\n",
       "</g>\n",
       "<!-- 11 -->\n",
       "<g id=\"node12\" class=\"node\">\n",
       "<title>11</title>\n",
       "<polygon fill=\"#faf0fd\" stroke=\"black\" points=\"3131.33,-735 2849.33,-735 2849.33,-502 3131.33,-502 3131.33,-735\"/>\n",
       "<text text-anchor=\"start\" x=\"2952.83\" y=\"-719.8\" font-family=\"Helvetica,sans-Serif\" font-size=\"14.00\">gini = 0.938</text>\n",
       "<text text-anchor=\"start\" x=\"2942.83\" y=\"-704.8\" font-family=\"Helvetica,sans-Serif\" font-size=\"14.00\">samples = 823</text>\n",
       "<text text-anchor=\"start\" x=\"2857.33\" y=\"-689.8\" font-family=\"Helvetica,sans-Serif\" font-size=\"14.00\">value = [0, 0, 0, 0, 0, 0, 0, 0, 0, 0, 0, 0, 0, 0</text>\n",
       "<text text-anchor=\"start\" x=\"2883.33\" y=\"-674.8\" font-family=\"Helvetica,sans-Serif\" font-size=\"14.00\">0, 0, 0, 0, 0, 0, 0, 0, 0, 0, 0, 0, 0, 0</text>\n",
       "<text text-anchor=\"start\" x=\"2883.33\" y=\"-659.8\" font-family=\"Helvetica,sans-Serif\" font-size=\"14.00\">0, 0, 0, 0, 0, 0, 0, 0, 0, 0, 0, 0, 0, 0</text>\n",
       "<text text-anchor=\"start\" x=\"2883.33\" y=\"-644.8\" font-family=\"Helvetica,sans-Serif\" font-size=\"14.00\">0, 0, 0, 0, 0, 0, 0, 0, 0, 0, 9, 0, 0, 0</text>\n",
       "<text text-anchor=\"start\" x=\"2875.33\" y=\"-629.8\" font-family=\"Helvetica,sans-Serif\" font-size=\"14.00\">7, 0, 0, 0, 0, 4, 0, 10, 0, 0, 0, 14, 0, 0</text>\n",
       "<text text-anchor=\"start\" x=\"2879.33\" y=\"-614.8\" font-family=\"Helvetica,sans-Serif\" font-size=\"14.00\">0, 0, 9, 0, 8, 0, 0, 0, 11, 0, 0, 0, 0, 0</text>\n",
       "<text text-anchor=\"start\" x=\"2883.33\" y=\"-599.8\" font-family=\"Helvetica,sans-Serif\" font-size=\"14.00\">0, 4, 0, 0, 0, 2, 0, 0, 0, 0, 0, 0, 3, 0</text>\n",
       "<text text-anchor=\"start\" x=\"2875.33\" y=\"-584.8\" font-family=\"Helvetica,sans-Serif\" font-size=\"14.00\">0, 0, 1, 0, 0, 0, 31, 0, 0, 0, 0, 0, 57, 0</text>\n",
       "<text text-anchor=\"start\" x=\"2862.33\" y=\"-569.8\" font-family=\"Helvetica,sans-Serif\" font-size=\"14.00\">34, 0, 0, 0, 20, 70, 61, 0, 0, 0, 15, 126, 0</text>\n",
       "<text text-anchor=\"start\" x=\"2862.33\" y=\"-554.8\" font-family=\"Helvetica,sans-Serif\" font-size=\"14.00\">35, 0, 0, 44, 59, 24, 0, 0, 11, 33, 10, 0, 0</text>\n",
       "<text text-anchor=\"start\" x=\"2866.83\" y=\"-539.8\" font-family=\"Helvetica,sans-Serif\" font-size=\"14.00\">15, 15, 16, 0, 0, 0, 29, 10, 0, 0, 0, 7, 14</text>\n",
       "<text text-anchor=\"start\" x=\"2883.33\" y=\"-524.8\" font-family=\"Helvetica,sans-Serif\" font-size=\"14.00\">0, 0, 0, 5, 0, 0, 0, 0, 0, 0, 0, 0, 0, 0</text>\n",
       "<text text-anchor=\"start\" x=\"2952.33\" y=\"-509.8\" font-family=\"Helvetica,sans-Serif\" font-size=\"14.00\">0, 0, 0, 0, 0]</text>\n",
       "</g>\n",
       "<!-- 9&#45;&gt;11 -->\n",
       "<g id=\"edge11\" class=\"edge\">\n",
       "<title>9&#45;&gt;11</title>\n",
       "<path fill=\"none\" stroke=\"black\" d=\"M2290.64,-716.42C2443.27,-695.03 2683.78,-661.32 2839.02,-639.56\"/>\n",
       "<polygon fill=\"black\" stroke=\"black\" points=\"2839.71,-643 2849.13,-638.15 2838.74,-636.07 2839.71,-643\"/>\n",
       "</g>\n",
       "<!-- 13 -->\n",
       "<g id=\"node14\" class=\"node\">\n",
       "<title>13</title>\n",
       "<polygon fill=\"#fefdff\" stroke=\"black\" points=\"3131.33,-484 2849.33,-484 2849.33,-251 3131.33,-251 3131.33,-484\"/>\n",
       "<text text-anchor=\"start\" x=\"2952.83\" y=\"-468.8\" font-family=\"Helvetica,sans-Serif\" font-size=\"14.00\">gini = 0.961</text>\n",
       "<text text-anchor=\"start\" x=\"2938.83\" y=\"-453.8\" font-family=\"Helvetica,sans-Serif\" font-size=\"14.00\">samples = 1496</text>\n",
       "<text text-anchor=\"start\" x=\"2857.33\" y=\"-438.8\" font-family=\"Helvetica,sans-Serif\" font-size=\"14.00\">value = [0, 0, 0, 0, 0, 0, 0, 0, 0, 0, 0, 0, 0, 0</text>\n",
       "<text text-anchor=\"start\" x=\"2883.33\" y=\"-423.8\" font-family=\"Helvetica,sans-Serif\" font-size=\"14.00\">0, 0, 0, 0, 0, 0, 0, 0, 0, 0, 0, 0, 0, 0</text>\n",
       "<text text-anchor=\"start\" x=\"2883.33\" y=\"-408.8\" font-family=\"Helvetica,sans-Serif\" font-size=\"14.00\">0, 0, 0, 0, 0, 0, 0, 0, 0, 0, 0, 5, 0, 0</text>\n",
       "<text text-anchor=\"start\" x=\"2871.33\" y=\"-393.8\" font-family=\"Helvetica,sans-Serif\" font-size=\"14.00\">0, 15, 0, 0, 0, 0, 8, 0, 12, 0, 4, 0, 21, 0</text>\n",
       "<text text-anchor=\"start\" x=\"2875.33\" y=\"-378.8\" font-family=\"Helvetica,sans-Serif\" font-size=\"14.00\">2, 0, 0, 17, 0, 5, 0, 8, 0, 12, 0, 5, 0, 0</text>\n",
       "<text text-anchor=\"start\" x=\"2883.33\" y=\"-363.8\" font-family=\"Helvetica,sans-Serif\" font-size=\"14.00\">9, 0, 6, 0, 1, 0, 3, 0, 2, 0, 0, 0, 0, 3</text>\n",
       "<text text-anchor=\"start\" x=\"2866.83\" y=\"-348.8\" font-family=\"Helvetica,sans-Serif\" font-size=\"14.00\">0, 26, 0, 0, 0, 0, 0, 88, 0, 26, 0, 0, 0, 86</text>\n",
       "<text text-anchor=\"start\" x=\"2858.33\" y=\"-333.8\" font-family=\"Helvetica,sans-Serif\" font-size=\"14.00\">0, 86, 0, 60, 0, 0, 23, 0, 52, 106, 20, 0, 15</text>\n",
       "<text text-anchor=\"start\" x=\"2857.83\" y=\"-318.8\" font-family=\"Helvetica,sans-Serif\" font-size=\"14.00\">0, 31, 119, 48, 0, 53, 18, 28, 55, 0, 79, 35</text>\n",
       "<text text-anchor=\"start\" x=\"2858.33\" y=\"-303.8\" font-family=\"Helvetica,sans-Serif\" font-size=\"14.00\">42, 0, 26, 68, 14, 53, 22, 4, 0, 19, 19, 9, 0</text>\n",
       "<text text-anchor=\"start\" x=\"2879.33\" y=\"-288.8\" font-family=\"Helvetica,sans-Serif\" font-size=\"14.00\">0, 8, 11, 0, 0, 0, 9, 0, 0, 0, 0, 0, 0, 0</text>\n",
       "<text text-anchor=\"start\" x=\"2883.33\" y=\"-273.8\" font-family=\"Helvetica,sans-Serif\" font-size=\"14.00\">0, 0, 0, 0, 0, 0, 0, 0, 0, 0, 0, 0, 0, 0</text>\n",
       "<text text-anchor=\"start\" x=\"2944.83\" y=\"-258.8\" font-family=\"Helvetica,sans-Serif\" font-size=\"14.00\">0, 0, 0, 0, 0, 0]</text>\n",
       "</g>\n",
       "<!-- 12&#45;&gt;13 -->\n",
       "<g id=\"edge13\" class=\"edge\">\n",
       "<title>12&#45;&gt;13</title>\n",
       "<path fill=\"none\" stroke=\"black\" d=\"M2295.44,-367.5C2448.13,-367.5 2684.96,-367.5 2838.6,-367.5\"/>\n",
       "<polygon fill=\"black\" stroke=\"black\" points=\"2839.05,-371 2849.05,-367.5 2839.05,-364 2839.05,-371\"/>\n",
       "</g>\n",
       "<!-- 14 -->\n",
       "<g id=\"node15\" class=\"node\">\n",
       "<title>14</title>\n",
       "<polygon fill=\"#ffffff\" stroke=\"black\" points=\"3134.83,-233 2845.83,-233 2845.83,0 3134.83,0 3134.83,-233\"/>\n",
       "<text text-anchor=\"start\" x=\"2952.83\" y=\"-217.8\" font-family=\"Helvetica,sans-Serif\" font-size=\"14.00\">gini = 0.971</text>\n",
       "<text text-anchor=\"start\" x=\"2938.83\" y=\"-202.8\" font-family=\"Helvetica,sans-Serif\" font-size=\"14.00\">samples = 1753</text>\n",
       "<text text-anchor=\"start\" x=\"2857.33\" y=\"-187.8\" font-family=\"Helvetica,sans-Serif\" font-size=\"14.00\">value = [0, 0, 0, 0, 0, 0, 0, 0, 0, 0, 0, 0, 0, 0</text>\n",
       "<text text-anchor=\"start\" x=\"2883.33\" y=\"-172.8\" font-family=\"Helvetica,sans-Serif\" font-size=\"14.00\">0, 0, 0, 0, 0, 0, 0, 0, 0, 0, 0, 0, 0, 0</text>\n",
       "<text text-anchor=\"start\" x=\"2883.33\" y=\"-157.8\" font-family=\"Helvetica,sans-Serif\" font-size=\"14.00\">0, 0, 0, 0, 0, 0, 0, 0, 0, 0, 0, 0, 0, 0</text>\n",
       "<text text-anchor=\"start\" x=\"2883.33\" y=\"-142.8\" font-family=\"Helvetica,sans-Serif\" font-size=\"14.00\">0, 0, 0, 0, 0, 0, 0, 0, 0, 0, 0, 0, 0, 0</text>\n",
       "<text text-anchor=\"start\" x=\"2879.33\" y=\"-127.8\" font-family=\"Helvetica,sans-Serif\" font-size=\"14.00\">0, 0, 0, 0, 0, 3, 0, 0, 0, 17, 0, 0, 0, 0</text>\n",
       "<text text-anchor=\"start\" x=\"2866.83\" y=\"-112.8\" font-family=\"Helvetica,sans-Serif\" font-size=\"14.00\">10, 0, 17, 0, 2, 0, 16, 0, 4, 0, 0, 10, 0, 9</text>\n",
       "<text text-anchor=\"start\" x=\"2875.33\" y=\"-97.8\" font-family=\"Helvetica,sans-Serif\" font-size=\"14.00\">0, 4, 0, 11, 0, 9, 0, 0, 6, 0, 10, 0, 2, 0</text>\n",
       "<text text-anchor=\"start\" x=\"2883.33\" y=\"-82.8\" font-family=\"Helvetica,sans-Serif\" font-size=\"14.00\">9, 0, 3, 0, 0, 3, 0, 5, 0, 0, 0, 4, 0, 2</text>\n",
       "<text text-anchor=\"start\" x=\"2871.33\" y=\"-67.8\" font-family=\"Helvetica,sans-Serif\" font-size=\"14.00\">0, 0, 0, 5, 29, 0, 0, 0, 1, 90, 41, 0, 5, 0</text>\n",
       "<text text-anchor=\"start\" x=\"2857.83\" y=\"-52.8\" font-family=\"Helvetica,sans-Serif\" font-size=\"14.00\">68, 93, 98, 0, 13, 36, 98, 13, 24, 7, 71, 47</text>\n",
       "<text text-anchor=\"start\" x=\"2853.83\" y=\"-37.8\" font-family=\"Helvetica,sans-Serif\" font-size=\"14.00\">66, 23, 25, 38, 76, 36, 43, 8, 45, 29, 75, 13</text>\n",
       "<text text-anchor=\"start\" x=\"2857.83\" y=\"-22.8\" font-family=\"Helvetica,sans-Serif\" font-size=\"14.00\">14, 8, 54, 29, 36, 11, 23, 47, 9, 11, 35, 10</text>\n",
       "<text text-anchor=\"start\" x=\"2908.33\" y=\"-7.8\" font-family=\"Helvetica,sans-Serif\" font-size=\"14.00\">21, 15, 24, 10, 7, 11, 6, 0]</text>\n",
       "</g>\n",
       "<!-- 12&#45;&gt;14 -->\n",
       "<g id=\"edge14\" class=\"edge\">\n",
       "<title>12&#45;&gt;14</title>\n",
       "<path fill=\"none\" stroke=\"black\" d=\"M2295.44,-323.35C2447.13,-278.13 2681.85,-208.16 2835.56,-162.34\"/>\n",
       "<polygon fill=\"black\" stroke=\"black\" points=\"2836.98,-165.57 2845.57,-159.36 2834.98,-158.86 2836.98,-165.57\"/>\n",
       "</g>\n",
       "</g>\n",
       "</svg>\n"
      ],
      "text/plain": [
       "<graphviz.sources.Source at 0x1df9c98b9d0>"
      ]
     },
     "metadata": {},
     "output_type": "display_data"
    }
   ],
   "source": [
    "draw_tree(tree_classifier, X_small, precision = 3)"
   ]
  },
  {
   "cell_type": "markdown",
   "id": "cd232adf",
   "metadata": {},
   "source": [
    "Results are terrible. Maybe we'll get better results with multiple trees."
   ]
  },
  {
   "cell_type": "markdown",
   "id": "d40a8f27",
   "metadata": {},
   "source": [
    "## 5.2 Random Forest Classifier"
   ]
  },
  {
   "cell_type": "code",
   "execution_count": 74,
   "id": "7523535b",
   "metadata": {},
   "outputs": [],
   "source": [
    "classifier = RandomForestClassifier(\n",
    "    n_estimators = 100, \n",
    "    class_weight = None, # classifier specific\n",
    "    criterion = 'gini',  # classifier specific\n",
    "    max_depth = 20, \n",
    "    max_features=0.4,\n",
    "\n",
    "    bootstrap = True, \n",
    "    oob_score = True, \n",
    "    max_samples = 1.0,\n",
    " \n",
    "    n_jobs = -1\n",
    ")"
   ]
  },
  {
   "cell_type": "code",
   "execution_count": 75,
   "id": "e4506213",
   "metadata": {},
   "outputs": [
    {
     "name": "stdout",
     "output_type": "stream",
     "text": [
      "CPU times: total: 40.1 s\n",
      "Wall time: 11.6 s\n",
      "1.0\n",
      "0.7083377327279766\n",
      "0.69115\n"
     ]
    }
   ],
   "source": [
    "%time classifier.fit(X_small, y_cat_small)\n",
    "\n",
    "print(classifier.score(X_small, y_cat_small)) # classification accuracy on training set\n",
    "print(classifier.score(X_valid, y_cat_valid)) # classification accuracy on validation set\n",
    "print(classifier.oob_score_)                  # classification accuracy on oob samples"
   ]
  },
  {
   "cell_type": "markdown",
   "id": "b9466ce9",
   "metadata": {},
   "source": [
    "After experimenting with the parameters and by keeping the results of the hyperparameters tuning as a reference, we obtain almost acceptable results. Let's fit the model with the whole dataset."
   ]
  },
  {
   "cell_type": "code",
   "execution_count": 76,
   "id": "f2252a75",
   "metadata": {
    "scrolled": true
   },
   "outputs": [
    {
     "name": "stdout",
     "output_type": "stream",
     "text": [
      "CPU times: total: 6min 30s\n",
      "Wall time: 1min 30s\n",
      "0.9995502823444758\n",
      "0.9771231478548552\n",
      "0.9763213877895791\n"
     ]
    }
   ],
   "source": [
    "%time classifier.fit(X_train, y_cat_train)\n",
    "\n",
    "print(classifier.score(X_train, y_cat_train)) # classification accuracy on training set\n",
    "print(classifier.score(X_valid, y_cat_valid)) # classification accuracy on validation set\n",
    "print(classifier.oob_score_)                    # classification accuracy on oob samples"
   ]
  },
  {
   "cell_type": "code",
   "execution_count": 77,
   "id": "33e5d1f4",
   "metadata": {},
   "outputs": [
    {
     "data": {
      "text/plain": [
       "array([0.00000000e+00, 0.00000000e+00, 0.00000000e+00, 0.00000000e+00,\n",
       "       0.00000000e+00, 0.00000000e+00, 0.00000000e+00, 0.00000000e+00,\n",
       "       0.00000000e+00, 0.00000000e+00, 0.00000000e+00, 0.00000000e+00,\n",
       "       0.00000000e+00, 0.00000000e+00, 0.00000000e+00, 0.00000000e+00,\n",
       "       0.00000000e+00, 0.00000000e+00, 0.00000000e+00, 0.00000000e+00,\n",
       "       0.00000000e+00, 0.00000000e+00, 0.00000000e+00, 0.00000000e+00,\n",
       "       0.00000000e+00, 0.00000000e+00, 0.00000000e+00, 0.00000000e+00,\n",
       "       1.16883117e-03, 0.00000000e+00, 0.00000000e+00, 0.00000000e+00,\n",
       "       3.63636364e-03, 0.00000000e+00, 0.00000000e+00, 0.00000000e+00,\n",
       "       1.81818182e-03, 0.00000000e+00, 0.00000000e+00, 0.00000000e+00,\n",
       "       0.00000000e+00, 1.16883117e-03, 0.00000000e+00, 0.00000000e+00,\n",
       "       0.00000000e+00, 7.79220779e-04, 0.00000000e+00, 0.00000000e+00,\n",
       "       0.00000000e+00, 0.00000000e+00, 0.00000000e+00, 0.00000000e+00,\n",
       "       0.00000000e+00, 0.00000000e+00, 8.31548822e-02, 0.00000000e+00,\n",
       "       0.00000000e+00, 0.00000000e+00, 9.40730119e-02, 0.00000000e+00,\n",
       "       0.00000000e+00, 0.00000000e+00, 0.00000000e+00, 0.00000000e+00,\n",
       "       0.00000000e+00, 0.00000000e+00, 0.00000000e+00, 0.00000000e+00,\n",
       "       0.00000000e+00, 0.00000000e+00, 0.00000000e+00, 0.00000000e+00,\n",
       "       0.00000000e+00, 0.00000000e+00, 0.00000000e+00, 0.00000000e+00,\n",
       "       0.00000000e+00, 0.00000000e+00, 0.00000000e+00, 0.00000000e+00,\n",
       "       0.00000000e+00, 0.00000000e+00, 0.00000000e+00, 0.00000000e+00,\n",
       "       0.00000000e+00, 0.00000000e+00, 0.00000000e+00, 0.00000000e+00,\n",
       "       0.00000000e+00, 0.00000000e+00, 0.00000000e+00, 0.00000000e+00,\n",
       "       0.00000000e+00, 0.00000000e+00, 0.00000000e+00, 0.00000000e+00,\n",
       "       0.00000000e+00, 0.00000000e+00, 0.00000000e+00, 0.00000000e+00,\n",
       "       0.00000000e+00, 0.00000000e+00, 0.00000000e+00, 0.00000000e+00,\n",
       "       0.00000000e+00, 0.00000000e+00, 1.39730640e-02, 0.00000000e+00,\n",
       "       1.30434783e-03, 0.00000000e+00, 1.29629630e-03, 0.00000000e+00,\n",
       "       7.97626969e-01, 0.00000000e+00, 0.00000000e+00, 0.00000000e+00,\n",
       "       0.00000000e+00, 0.00000000e+00, 0.00000000e+00, 0.00000000e+00,\n",
       "       0.00000000e+00, 0.00000000e+00, 0.00000000e+00, 0.00000000e+00,\n",
       "       0.00000000e+00, 0.00000000e+00, 0.00000000e+00, 0.00000000e+00,\n",
       "       0.00000000e+00, 0.00000000e+00, 0.00000000e+00, 0.00000000e+00,\n",
       "       0.00000000e+00, 0.00000000e+00, 0.00000000e+00, 0.00000000e+00,\n",
       "       0.00000000e+00, 0.00000000e+00, 0.00000000e+00, 0.00000000e+00,\n",
       "       0.00000000e+00, 0.00000000e+00, 0.00000000e+00, 0.00000000e+00,\n",
       "       0.00000000e+00, 0.00000000e+00, 0.00000000e+00, 0.00000000e+00,\n",
       "       0.00000000e+00, 0.00000000e+00, 0.00000000e+00, 0.00000000e+00,\n",
       "       0.00000000e+00, 0.00000000e+00, 0.00000000e+00, 0.00000000e+00,\n",
       "       0.00000000e+00, 0.00000000e+00, 0.00000000e+00, 0.00000000e+00,\n",
       "       0.00000000e+00, 0.00000000e+00, 0.00000000e+00, 0.00000000e+00,\n",
       "       0.00000000e+00, 0.00000000e+00, 0.00000000e+00, 0.00000000e+00,\n",
       "       0.00000000e+00, 0.00000000e+00, 0.00000000e+00, 0.00000000e+00,\n",
       "       0.00000000e+00])"
      ]
     },
     "execution_count": 77,
     "metadata": {},
     "output_type": "execute_result"
    }
   ],
   "source": [
    "classifier.predict_proba(X_valid[:1])[0]"
   ]
  },
  {
   "cell_type": "code",
   "execution_count": 78,
   "id": "196290f3",
   "metadata": {},
   "outputs": [
    {
     "data": {
      "text/plain": [
       "112"
      ]
     },
     "execution_count": 78,
     "metadata": {},
     "output_type": "execute_result"
    }
   ],
   "source": [
    "classifier.predict(X_valid[:1])[0]"
   ]
  },
  {
   "cell_type": "markdown",
   "id": "3ebcf07e",
   "metadata": {},
   "source": [
    "Results are quite remarkable: the model shows levels of accuracy for the validation set only comparable to the <b>Cat Boost Regressor</b> model in predicting 1 class out of 173."
   ]
  },
  {
   "cell_type": "markdown",
   "id": "7c9b07a2",
   "metadata": {},
   "source": [
    "# Conclusions"
   ]
  },
  {
   "cell_type": "markdown",
   "id": "4cb35dbe",
   "metadata": {},
   "source": [
    "After experimenting with the dataset through different approaches and techniques, we can assert that the model that produces the best results is the <b>Cat Boost Regressor</b>. However, we would have never reach such results without equalizing the imbalanced data by randomly resample the whole dataset."
   ]
  }
 ],
 "metadata": {
  "kernelspec": {
   "display_name": "Python 3 (ipykernel)",
   "language": "python",
   "name": "python3"
  },
  "language_info": {
   "codemirror_mode": {
    "name": "ipython",
    "version": 3
   },
   "file_extension": ".py",
   "mimetype": "text/x-python",
   "name": "python",
   "nbconvert_exporter": "python",
   "pygments_lexer": "ipython3",
   "version": "3.8.15"
  }
 },
 "nbformat": 4,
 "nbformat_minor": 5
}
