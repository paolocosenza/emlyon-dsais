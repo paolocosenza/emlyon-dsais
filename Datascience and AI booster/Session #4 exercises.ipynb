{
 "cells": [
  {
   "cell_type": "markdown",
   "id": "77ae0178",
   "metadata": {},
   "source": [
    "## Exercise 1"
   ]
  },
  {
   "cell_type": "code",
   "execution_count": 45,
   "id": "caa17f3c",
   "metadata": {},
   "outputs": [],
   "source": [
    "def gen(n) : \n",
    "    i = 0\n",
    "    while i<n : \n",
    "        yield i\n",
    "        i += 1\n",
    "        \n",
    "generator = gen(10)"
   ]
  },
  {
   "cell_type": "code",
   "execution_count": 48,
   "id": "0010a9c4",
   "metadata": {},
   "outputs": [
    {
     "name": "stdout",
     "output_type": "stream",
     "text": [
      "True True True True False\n"
     ]
    }
   ],
   "source": [
    "def detector (x):\n",
    "    return('__iter__' in dir(x))\n",
    "    \n",
    "ls = []\n",
    "dc = {}\n",
    "tp = tuple()\n",
    "\n",
    "print(detector(ls), detector(dc), detector(tp), detector(generator), detector(1))"
   ]
  },
  {
   "cell_type": "markdown",
   "id": "6eea0244",
   "metadata": {},
   "source": [
    "## Exercise 2"
   ]
  },
  {
   "cell_type": "code",
   "execution_count": 124,
   "id": "196cfe0d",
   "metadata": {},
   "outputs": [
    {
     "data": {
      "text/plain": [
       "'once uaon a time'"
      ]
     },
     "execution_count": 124,
     "metadata": {},
     "output_type": "execute_result"
    }
   ],
   "source": [
    "import random as rd\n",
    "\n",
    "def random_replace (string, char):\n",
    "    ls = list(string)\n",
    "    ind = rd.randrange(len(string))\n",
    "    ls[ind] = char\n",
    "    string2=''\n",
    "    for i in range(len(ls)):\n",
    "        string2 += ls[i]\n",
    "    return string2\n",
    "    \n",
    "random_replace('once upon a time', 'a')"
   ]
  },
  {
   "cell_type": "code",
   "execution_count": 125,
   "id": "f166da1d",
   "metadata": {},
   "outputs": [
    {
     "data": {
      "text/plain": [
       "'oace upon a time'"
      ]
     },
     "execution_count": 125,
     "metadata": {},
     "output_type": "execute_result"
    }
   ],
   "source": [
    "import random as rd\n",
    "\n",
    "def random_replace_args (*args):\n",
    "    ls = list(args[0])\n",
    "    ind = rd.randrange(len(args[0]))\n",
    "    ls[ind] = args[1]\n",
    "    string2=''\n",
    "    for i in range(len(ls)):\n",
    "        string2 += ls[i]\n",
    "    return string2\n",
    "\n",
    "random_replace_args('once upon a time', 'a')"
   ]
  },
  {
   "cell_type": "code",
   "execution_count": 126,
   "id": "09090460",
   "metadata": {},
   "outputs": [
    {
     "data": {
      "text/plain": [
       "'once upon aatime'"
      ]
     },
     "execution_count": 126,
     "metadata": {},
     "output_type": "execute_result"
    }
   ],
   "source": [
    "import random as rd\n",
    "\n",
    "def random_replace_args (**kwargs):\n",
    "    ls = list(kwargs['val1'])\n",
    "    ind = rd.randrange(len(kwargs['val1']))\n",
    "    ls[ind] = kwargs['val2']\n",
    "    string2=''\n",
    "    for i in range(len(ls)):\n",
    "        string2 += ls[i]\n",
    "    return string2\n",
    "\n",
    "random_replace_args(val1 = 'once upon a time', val2 = 'a')"
   ]
  },
  {
   "cell_type": "markdown",
   "id": "c8644e32",
   "metadata": {},
   "source": [
    "## Exercise 3"
   ]
  },
  {
   "cell_type": "code",
   "execution_count": 134,
   "id": "88b8a602",
   "metadata": {},
   "outputs": [
    {
     "name": "stdout",
     "output_type": "stream",
     "text": [
      "2\n",
      "4\n",
      "6\n",
      "8\n",
      "10\n",
      "12\n",
      "14\n",
      "16\n",
      "18\n"
     ]
    }
   ],
   "source": [
    "def gen(n) : \n",
    "    i = 0\n",
    "    while i<n : \n",
    "        if i%2 == 0 and i != 0:\n",
    "            yield i\n",
    "        i += 1\n",
    "        \n",
    "generator = gen(19)\n",
    "for i in generator:\n",
    "    print(i)"
   ]
  },
  {
   "cell_type": "code",
   "execution_count": 145,
   "id": "173a2323",
   "metadata": {},
   "outputs": [
    {
     "name": "stdout",
     "output_type": "stream",
     "text": [
      "True\n"
     ]
    }
   ],
   "source": [
    "import re\n",
    "\n",
    "def checkurl(sequence):\n",
    "    check = 'http://www\\.[A-Za-z]+\\.(com|fr)'\n",
    "    res_match = re.match(check, sequence)\n",
    "    print('match' in str(type(res_match)).lower())\n",
    "    \n",
    "checkurl('http://www.google.fr')"
   ]
  },
  {
   "cell_type": "code",
   "execution_count": null,
   "id": "4ba5bf7d",
   "metadata": {},
   "outputs": [],
   "source": []
  }
 ],
 "metadata": {
  "kernelspec": {
   "display_name": "Python 3 (ipykernel)",
   "language": "python",
   "name": "python3"
  },
  "language_info": {
   "codemirror_mode": {
    "name": "ipython",
    "version": 3
   },
   "file_extension": ".py",
   "mimetype": "text/x-python",
   "name": "python",
   "nbconvert_exporter": "python",
   "pygments_lexer": "ipython3",
   "version": "3.9.12"
  }
 },
 "nbformat": 4,
 "nbformat_minor": 5
}
