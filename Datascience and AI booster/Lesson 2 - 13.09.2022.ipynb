{
 "cells": [
  {
   "cell_type": "code",
   "execution_count": 80,
   "id": "a68af579",
   "metadata": {},
   "outputs": [
    {
     "data": {
      "text/html": [
       "<b><font color='blus'>Lesson 2 - 13.09.2022</font></b>\n",
       "<div id=\"my_id_menu_nb\">run previous cell, wait for 2 seconds</div>\n",
       "<script>\n",
       "function repeat_indent_string(n){\n",
       "    var a = \"\" ;\n",
       "    for ( ; n > 0 ; --n)\n",
       "        a += \"    \";\n",
       "    return a;\n",
       "}\n",
       "// look up into all sections and builds an automated menu //\n",
       "var update_menu_string = function(begin, lfirst, llast, sformat, send, keep_item, begin_format, end_format) {\n",
       "    var anchors = document.getElementsByClassName(\"section\");\n",
       "    if (anchors.length == 0) {\n",
       "        anchors = document.getElementsByClassName(\"text_cell_render rendered_html\");\n",
       "    }\n",
       "    var i,t;\n",
       "    var text_menu = begin;\n",
       "    var text_memo = \"<pre>\\nlength:\" + anchors.length + \"\\n\";\n",
       "    var ind = \"\";\n",
       "    var memo_level = 1;\n",
       "    var href;\n",
       "    var tags = [];\n",
       "    var main_item = 0;\n",
       "    var format_open = 0;\n",
       "    for (i = 0; i <= llast; i++)\n",
       "        tags.push(\"h\" + i);\n",
       "\n",
       "    for (i = 0; i < anchors.length; i++) {\n",
       "        text_memo += \"**\" + anchors[i].id + \"--\\n\";\n",
       "\n",
       "        var child = null;\n",
       "        for(t = 0; t < tags.length; t++) {\n",
       "            var r = anchors[i].getElementsByTagName(tags[t]);\n",
       "            if (r.length > 0) {\n",
       "child = r[0];\n",
       "break;\n",
       "            }\n",
       "        }\n",
       "        if (child == null) {\n",
       "            text_memo += \"null\\n\";\n",
       "            continue;\n",
       "        }\n",
       "        if (anchors[i].hasAttribute(\"id\")) {\n",
       "            // when converted in RST\n",
       "            href = anchors[i].id;\n",
       "            text_memo += \"#1-\" + href;\n",
       "            // passer à child suivant (le chercher)\n",
       "        }\n",
       "        else if (child.hasAttribute(\"id\")) {\n",
       "            // in a notebook\n",
       "            href = child.id;\n",
       "            text_memo += \"#2-\" + href;\n",
       "        }\n",
       "        else {\n",
       "            text_memo += \"#3-\" + \"*\" + \"\\n\";\n",
       "            continue;\n",
       "        }\n",
       "        var title = child.textContent;\n",
       "        var level = parseInt(child.tagName.substring(1,2));\n",
       "\n",
       "        text_memo += \"--\" + level + \"?\" + lfirst + \"--\" + title + \"\\n\";\n",
       "\n",
       "        if ((level < lfirst) || (level > llast)) {\n",
       "            continue ;\n",
       "        }\n",
       "        if (title.endsWith('¶')) {\n",
       "            title = title.substring(0,title.length-1).replace(\"<\", \"&lt;\")\n",
       "         .replace(\">\", \"&gt;\").replace(\"&\", \"&amp;\");\n",
       "        }\n",
       "        if (title.length == 0) {\n",
       "            continue;\n",
       "        }\n",
       "\n",
       "        while (level < memo_level) {\n",
       "            text_menu += end_format + \"</ul>\\n\";\n",
       "            format_open -= 1;\n",
       "            memo_level -= 1;\n",
       "        }\n",
       "        if (level == lfirst) {\n",
       "            main_item += 1;\n",
       "        }\n",
       "        if (keep_item != -1 && main_item != keep_item + 1) {\n",
       "            // alert(main_item + \" - \" + level + \" - \" + keep_item);\n",
       "            continue;\n",
       "        }\n",
       "        while (level > memo_level) {\n",
       "            text_menu += \"<ul>\\n\";\n",
       "            memo_level += 1;\n",
       "        }\n",
       "        text_menu += repeat_indent_string(level-2);\n",
       "        text_menu += begin_format + sformat.replace(\"__HREF__\", href).replace(\"__TITLE__\", title);\n",
       "        format_open += 1;\n",
       "    }\n",
       "    while (1 < memo_level) {\n",
       "        text_menu += end_format + \"</ul>\\n\";\n",
       "        memo_level -= 1;\n",
       "        format_open -= 1;\n",
       "    }\n",
       "    text_menu += send;\n",
       "    //text_menu += \"\\n\" + text_memo;\n",
       "\n",
       "    while (format_open > 0) {\n",
       "        text_menu += end_format;\n",
       "        format_open -= 1;\n",
       "    }\n",
       "    return text_menu;\n",
       "};\n",
       "var update_menu = function() {\n",
       "    var sbegin = \"\";\n",
       "    var sformat = '<a href=\"#__HREF__\">__TITLE__</a>';\n",
       "    var send = \"\";\n",
       "    var begin_format = '<li>';\n",
       "    var end_format = '</li>';\n",
       "    var keep_item = -1;\n",
       "    var text_menu = update_menu_string(sbegin, 1, 4, sformat, send, keep_item,\n",
       "       begin_format, end_format);\n",
       "    var menu = document.getElementById(\"my_id_menu_nb\");\n",
       "    menu.innerHTML=text_menu;\n",
       "};\n",
       "window.setTimeout(update_menu,2000);\n",
       "            </script>"
      ],
      "text/plain": [
       "<IPython.core.display.HTML object>"
      ]
     },
     "execution_count": 80,
     "metadata": {},
     "output_type": "execute_result"
    }
   ],
   "source": [
    "from jyquickhelper import add_notebook_menu\n",
    "add_notebook_menu(first_level=1, last_level=4, header=\"<font color='blus'>Lesson 2 - 13.09.2022</font>\")"
   ]
  },
  {
   "cell_type": "markdown",
   "id": "2b6ae6e4",
   "metadata": {},
   "source": [
    "# 1. Functions"
   ]
  },
  {
   "cell_type": "code",
   "execution_count": 81,
   "id": "c209c798",
   "metadata": {},
   "outputs": [],
   "source": [
    "def add_one(x: float) -> float:\n",
    "    '''This function increments by 1'''\n",
    "    return x+1"
   ]
  },
  {
   "cell_type": "code",
   "execution_count": 82,
   "id": "5d823d9f",
   "metadata": {},
   "outputs": [
    {
     "data": {
      "text/plain": [
       "2"
      ]
     },
     "execution_count": 82,
     "metadata": {},
     "output_type": "execute_result"
    }
   ],
   "source": [
    "add_one(1)"
   ]
  },
  {
   "cell_type": "code",
   "execution_count": 83,
   "id": "98b1ce27",
   "metadata": {},
   "outputs": [
    {
     "data": {
      "text/plain": [
       "6.4"
      ]
     },
     "execution_count": 83,
     "metadata": {},
     "output_type": "execute_result"
    }
   ],
   "source": [
    "add_one(5.4)"
   ]
  },
  {
   "cell_type": "code",
   "execution_count": 84,
   "id": "24de5a37",
   "metadata": {},
   "outputs": [
    {
     "name": "stdout",
     "output_type": "stream",
     "text": [
      "Help on function add_one in module __main__:\n",
      "\n",
      "add_one(x: float) -> float\n",
      "    This function increments by 1\n",
      "\n"
     ]
    }
   ],
   "source": [
    "help(add_one)"
   ]
  },
  {
   "cell_type": "markdown",
   "id": "16bdf7d4",
   "metadata": {},
   "source": [
    "## 1.1 Functions as arguments (unclear)"
   ]
  },
  {
   "cell_type": "code",
   "execution_count": 85,
   "id": "ab7c72c7",
   "metadata": {},
   "outputs": [],
   "source": [
    "import typing\n",
    "from typing import Callable\n",
    "from typing import Any\n",
    "\n",
    "def apply_one_func_arg(func: Callable) -> Any: #put any when we don't know the type returned\n",
    "    return add_one(func(2))"
   ]
  },
  {
   "cell_type": "code",
   "execution_count": 86,
   "id": "0f32535e",
   "metadata": {},
   "outputs": [],
   "source": [
    "def func_as_arg(x: float) -> float:\n",
    "    return 2*x"
   ]
  },
  {
   "cell_type": "code",
   "execution_count": 87,
   "id": "00a4dd27",
   "metadata": {},
   "outputs": [
    {
     "data": {
      "text/plain": [
       "5"
      ]
     },
     "execution_count": 87,
     "metadata": {},
     "output_type": "execute_result"
    }
   ],
   "source": [
    "apply_one_func_arg(func_as_arg)"
   ]
  },
  {
   "cell_type": "code",
   "execution_count": 88,
   "id": "28be1d2f",
   "metadata": {},
   "outputs": [
    {
     "data": {
      "text/plain": [
       "4"
      ]
     },
     "execution_count": 88,
     "metadata": {},
     "output_type": "execute_result"
    }
   ],
   "source": [
    "func_as_arg(2)"
   ]
  },
  {
   "cell_type": "code",
   "execution_count": 89,
   "id": "d1ceb9b1",
   "metadata": {},
   "outputs": [
    {
     "data": {
      "text/plain": [
       "5"
      ]
     },
     "execution_count": 89,
     "metadata": {},
     "output_type": "execute_result"
    }
   ],
   "source": [
    "apply_one_func_arg(func_as_arg)"
   ]
  },
  {
   "cell_type": "markdown",
   "id": "c985b541",
   "metadata": {},
   "source": [
    "## 1.2 Arguments with default value"
   ]
  },
  {
   "cell_type": "code",
   "execution_count": 90,
   "id": "884bd020",
   "metadata": {},
   "outputs": [],
   "source": [
    "def affine1(x: float) -> float:\n",
    "    return 2*x+3"
   ]
  },
  {
   "cell_type": "code",
   "execution_count": 91,
   "id": "f3cc05d2",
   "metadata": {},
   "outputs": [
    {
     "data": {
      "text/plain": [
       "10.6"
      ]
     },
     "execution_count": 91,
     "metadata": {},
     "output_type": "execute_result"
    }
   ],
   "source": [
    "affine1(3.8)"
   ]
  },
  {
   "cell_type": "code",
   "execution_count": 92,
   "id": "2cb7095d",
   "metadata": {},
   "outputs": [],
   "source": [
    "def affine2(x: float, alfa: float = 2., beta: float = 3.) -> float: #alfa and beta have default values\n",
    "    return alfa*x+beta"
   ]
  },
  {
   "cell_type": "code",
   "execution_count": 93,
   "id": "960a397d",
   "metadata": {},
   "outputs": [
    {
     "data": {
      "text/plain": [
       "5.0"
      ]
     },
     "execution_count": 93,
     "metadata": {},
     "output_type": "execute_result"
    }
   ],
   "source": [
    "affine2(1)"
   ]
  },
  {
   "cell_type": "code",
   "execution_count": 94,
   "id": "d589af0d",
   "metadata": {},
   "outputs": [
    {
     "data": {
      "text/plain": [
       "0.0"
      ]
     },
     "execution_count": 94,
     "metadata": {},
     "output_type": "execute_result"
    }
   ],
   "source": [
    "affine2(3, alfa=-1)"
   ]
  },
  {
   "cell_type": "code",
   "execution_count": 95,
   "id": "c249a41e",
   "metadata": {},
   "outputs": [
    {
     "data": {
      "text/plain": [
       "1"
      ]
     },
     "execution_count": 95,
     "metadata": {},
     "output_type": "execute_result"
    }
   ],
   "source": [
    "affine2(3, -1, 4)"
   ]
  },
  {
   "cell_type": "markdown",
   "id": "fe867692",
   "metadata": {},
   "source": [
    "## 1.3 Lambda function"
   ]
  },
  {
   "cell_type": "markdown",
   "id": "d13daf3c",
   "metadata": {},
   "source": [
    "It is possible to define functions without giving them a name"
   ]
  },
  {
   "cell_type": "code",
   "execution_count": 96,
   "id": "0a09ae58",
   "metadata": {},
   "outputs": [],
   "source": [
    "def apply_one(func: 'function') -> 'function':\n",
    "    return add_one(func(2))"
   ]
  },
  {
   "cell_type": "code",
   "execution_count": 97,
   "id": "63e2c593",
   "metadata": {},
   "outputs": [
    {
     "data": {
      "text/plain": [
       "5"
      ]
     },
     "execution_count": 97,
     "metadata": {},
     "output_type": "execute_result"
    }
   ],
   "source": [
    "y = lambda x: 2*x\n",
    "add_one(y(2))"
   ]
  },
  {
   "cell_type": "code",
   "execution_count": 98,
   "id": "b6e56196",
   "metadata": {},
   "outputs": [
    {
     "data": {
      "text/plain": [
       "5"
      ]
     },
     "execution_count": 98,
     "metadata": {},
     "output_type": "execute_result"
    }
   ],
   "source": [
    "apply_one(lambda x: 2*x)"
   ]
  },
  {
   "cell_type": "code",
   "execution_count": 99,
   "id": "8edfc592",
   "metadata": {},
   "outputs": [
    {
     "data": {
      "text/plain": [
       "5"
      ]
     },
     "execution_count": 99,
     "metadata": {},
     "output_type": "execute_result"
    }
   ],
   "source": [
    "f = lambda x:2*x #f is a variable that contains what?\n",
    "apply_one(f)"
   ]
  },
  {
   "cell_type": "markdown",
   "id": "70cf094a",
   "metadata": {},
   "source": [
    "# 2. Modules"
   ]
  },
  {
   "cell_type": "code",
   "execution_count": 100,
   "id": "4a1fe4b1",
   "metadata": {},
   "outputs": [],
   "source": [
    "import math"
   ]
  },
  {
   "cell_type": "code",
   "execution_count": 101,
   "id": "3e2bef4a",
   "metadata": {},
   "outputs": [
    {
     "data": {
      "text/plain": [
       "['__doc__',\n",
       " '__loader__',\n",
       " '__name__',\n",
       " '__package__',\n",
       " '__spec__',\n",
       " 'acos',\n",
       " 'acosh',\n",
       " 'asin',\n",
       " 'asinh',\n",
       " 'atan',\n",
       " 'atan2',\n",
       " 'atanh',\n",
       " 'ceil',\n",
       " 'comb',\n",
       " 'copysign',\n",
       " 'cos',\n",
       " 'cosh',\n",
       " 'degrees',\n",
       " 'dist',\n",
       " 'e',\n",
       " 'erf',\n",
       " 'erfc',\n",
       " 'exp',\n",
       " 'expm1',\n",
       " 'fabs',\n",
       " 'factorial',\n",
       " 'floor',\n",
       " 'fmod',\n",
       " 'frexp',\n",
       " 'fsum',\n",
       " 'gamma',\n",
       " 'gcd',\n",
       " 'hypot',\n",
       " 'inf',\n",
       " 'isclose',\n",
       " 'isfinite',\n",
       " 'isinf',\n",
       " 'isnan',\n",
       " 'isqrt',\n",
       " 'lcm',\n",
       " 'ldexp',\n",
       " 'lgamma',\n",
       " 'log',\n",
       " 'log10',\n",
       " 'log1p',\n",
       " 'log2',\n",
       " 'modf',\n",
       " 'nan',\n",
       " 'nextafter',\n",
       " 'perm',\n",
       " 'pi',\n",
       " 'pow',\n",
       " 'prod',\n",
       " 'radians',\n",
       " 'remainder',\n",
       " 'sin',\n",
       " 'sinh',\n",
       " 'sqrt',\n",
       " 'tan',\n",
       " 'tanh',\n",
       " 'tau',\n",
       " 'trunc',\n",
       " 'ulp']"
      ]
     },
     "execution_count": 101,
     "metadata": {},
     "output_type": "execute_result"
    }
   ],
   "source": [
    "dir(math)"
   ]
  },
  {
   "cell_type": "code",
   "execution_count": 102,
   "id": "0e8b0e5f",
   "metadata": {},
   "outputs": [
    {
     "data": {
      "text/plain": [
       "-33.0"
      ]
     },
     "execution_count": 102,
     "metadata": {},
     "output_type": "execute_result"
    }
   ],
   "source": [
    "math.remainder(66, 99)"
   ]
  },
  {
   "cell_type": "code",
   "execution_count": 103,
   "id": "572f3086",
   "metadata": {},
   "outputs": [
    {
     "data": {
      "text/plain": [
       "3.141592653589793"
      ]
     },
     "execution_count": 103,
     "metadata": {},
     "output_type": "execute_result"
    }
   ],
   "source": [
    "math.pi"
   ]
  },
  {
   "cell_type": "code",
   "execution_count": 104,
   "id": "d6daa500",
   "metadata": {},
   "outputs": [
    {
     "name": "stdout",
     "output_type": "stream",
     "text": [
      "Help on built-in function isfinite in module math:\n",
      "\n",
      "isfinite(x, /)\n",
      "    Return True if x is neither an infinity nor a NaN, and False otherwise.\n",
      "\n"
     ]
    }
   ],
   "source": [
    "help(math.isfinite)"
   ]
  },
  {
   "cell_type": "code",
   "execution_count": 105,
   "id": "3f2d3040",
   "metadata": {},
   "outputs": [
    {
     "data": {
      "text/plain": [
       "True"
      ]
     },
     "execution_count": 105,
     "metadata": {},
     "output_type": "execute_result"
    }
   ],
   "source": [
    "alfa = 3*math.pi/4\n",
    "\n",
    "1 == math.cos(alfa)**2 + math.sin(alfa)**2"
   ]
  },
  {
   "cell_type": "markdown",
   "id": "f8b4c297",
   "metadata": {},
   "source": [
    "# 3. Complex types"
   ]
  },
  {
   "cell_type": "markdown",
   "id": "ae784be6",
   "metadata": {},
   "source": [
    "These types are widely used in data manipulation for datascience purpose"
   ]
  },
  {
   "cell_type": "markdown",
   "id": "8ac62672",
   "metadata": {},
   "source": [
    "## 3.1 Strings"
   ]
  },
  {
   "cell_type": "code",
   "execution_count": 106,
   "id": "fe940285",
   "metadata": {},
   "outputs": [
    {
     "name": "stdout",
     "output_type": "stream",
     "text": [
      "Hi\n",
      "2\n"
     ]
    }
   ],
   "source": [
    "mystr = 'Hi'\n",
    "print(mystr)\n",
    "print(len(mystr))"
   ]
  },
  {
   "cell_type": "markdown",
   "id": "86e4e02e",
   "metadata": {},
   "source": [
    "## 3.2 Lists"
   ]
  },
  {
   "cell_type": "code",
   "execution_count": 107,
   "id": "95cf226c",
   "metadata": {},
   "outputs": [],
   "source": [
    "list_l = [0, 1, 2, 3, 4, 5, 6, 7, 8, 9]"
   ]
  },
  {
   "cell_type": "code",
   "execution_count": 108,
   "id": "33d6945f",
   "metadata": {},
   "outputs": [
    {
     "data": {
      "text/plain": [
       "[0, 1, 2, 3, 4, 5, 6, 7, 8, 9]"
      ]
     },
     "execution_count": 108,
     "metadata": {},
     "output_type": "execute_result"
    }
   ],
   "source": [
    "list_l[:]"
   ]
  },
  {
   "cell_type": "code",
   "execution_count": 109,
   "id": "a7932f32",
   "metadata": {},
   "outputs": [
    {
     "data": {
      "text/plain": [
       "[0, 2, 4, 6, 8]"
      ]
     },
     "execution_count": 109,
     "metadata": {},
     "output_type": "execute_result"
    }
   ],
   "source": [
    "list_l[::2]"
   ]
  },
  {
   "cell_type": "code",
   "execution_count": 110,
   "id": "0d24eacf",
   "metadata": {},
   "outputs": [
    {
     "data": {
      "text/plain": [
       "[9, 8, 7, 6, 5, 4, 3, 2, 1, 0]"
      ]
     },
     "execution_count": 110,
     "metadata": {},
     "output_type": "execute_result"
    }
   ],
   "source": [
    "list_l[::-1]"
   ]
  },
  {
   "cell_type": "code",
   "execution_count": 111,
   "id": "1b61ff6b",
   "metadata": {},
   "outputs": [
    {
     "data": {
      "text/plain": [
       "[9, 7, 5, 3, 1]"
      ]
     },
     "execution_count": 111,
     "metadata": {},
     "output_type": "execute_result"
    }
   ],
   "source": [
    "list_l[::-2]"
   ]
  },
  {
   "cell_type": "code",
   "execution_count": 112,
   "id": "44f82ed5",
   "metadata": {},
   "outputs": [
    {
     "data": {
      "text/plain": [
       "True"
      ]
     },
     "execution_count": 112,
     "metadata": {},
     "output_type": "execute_result"
    }
   ],
   "source": [
    "3 in list_l"
   ]
  },
  {
   "cell_type": "code",
   "execution_count": 113,
   "id": "c5a89fbf",
   "metadata": {},
   "outputs": [],
   "source": [
    "list_2 = [10, 11, 12]\n",
    "i, j, k = list_2"
   ]
  },
  {
   "cell_type": "code",
   "execution_count": 114,
   "id": "eecae7d0",
   "metadata": {},
   "outputs": [
    {
     "data": {
      "text/plain": [
       "(10, 12, 11)"
      ]
     },
     "execution_count": 114,
     "metadata": {},
     "output_type": "execute_result"
    }
   ],
   "source": [
    "i, k, j"
   ]
  },
  {
   "cell_type": "markdown",
   "id": "db50dbff",
   "metadata": {},
   "source": [
    "### 3.2.1 Comprehension of list"
   ]
  },
  {
   "cell_type": "code",
   "execution_count": 115,
   "id": "6d3505df",
   "metadata": {},
   "outputs": [
    {
     "data": {
      "text/plain": [
       "[0, 3, 6, 9, 12, 15]"
      ]
     },
     "execution_count": 115,
     "metadata": {},
     "output_type": "execute_result"
    }
   ],
   "source": [
    "list_3 = [i for i in range(0, 16, 3)] #from 0 to 16, 3 steps\n",
    "list_3"
   ]
  },
  {
   "cell_type": "code",
   "execution_count": 116,
   "id": "1b365eac",
   "metadata": {},
   "outputs": [
    {
     "data": {
      "text/plain": [
       "[0, 9, 36, 81, 144, 225]"
      ]
     },
     "execution_count": 116,
     "metadata": {},
     "output_type": "execute_result"
    }
   ],
   "source": [
    "list_4 = [i**2 for i in list_3]\n",
    "list_4"
   ]
  },
  {
   "cell_type": "markdown",
   "id": "fb07d043",
   "metadata": {},
   "source": [
    "## 3.3 Tuples"
   ]
  },
  {
   "cell_type": "code",
   "execution_count": 117,
   "id": "9fd86f81",
   "metadata": {},
   "outputs": [
    {
     "data": {
      "text/plain": [
       "tuple"
      ]
     },
     "execution_count": 117,
     "metadata": {},
     "output_type": "execute_result"
    }
   ],
   "source": [
    "t_1 = (1, 2, 3) #its values cannot change, unlike strings\n",
    "type(t_1)"
   ]
  },
  {
   "cell_type": "code",
   "execution_count": 118,
   "id": "c62e2505",
   "metadata": {},
   "outputs": [],
   "source": [
    "def affineTuple(x: float) -> tuple:\n",
    "    return x, 2*x+3 #it returns a tuple of values, not two values"
   ]
  },
  {
   "cell_type": "code",
   "execution_count": 119,
   "id": "20ce436b",
   "metadata": {},
   "outputs": [
    {
     "data": {
      "text/plain": [
       "(2, 7)"
      ]
     },
     "execution_count": 119,
     "metadata": {},
     "output_type": "execute_result"
    }
   ],
   "source": [
    "affineTuple(2)"
   ]
  },
  {
   "cell_type": "code",
   "execution_count": 120,
   "id": "8fd4e45b",
   "metadata": {},
   "outputs": [
    {
     "data": {
      "text/plain": [
       "2"
      ]
     },
     "execution_count": 120,
     "metadata": {},
     "output_type": "execute_result"
    }
   ],
   "source": [
    "affineTuple(2)[0]"
   ]
  },
  {
   "cell_type": "markdown",
   "id": "770b4088",
   "metadata": {},
   "source": [
    "## 3.5 Dictionaries"
   ]
  },
  {
   "cell_type": "code",
   "execution_count": 121,
   "id": "6b2fb000",
   "metadata": {},
   "outputs": [],
   "source": [
    "dict_1 = {}\n",
    "dict_1['nom'] = 'Cosenza'\n",
    "dict_1['prenom'] = 'Paolo'"
   ]
  },
  {
   "cell_type": "code",
   "execution_count": 122,
   "id": "941046e4",
   "metadata": {},
   "outputs": [
    {
     "name": "stdout",
     "output_type": "stream",
     "text": [
      "{'nom': 'Cosenza', 'prenom': 'Paolo'}\n",
      "dict_keys(['nom', 'prenom'])\n",
      "dict_values(['Cosenza', 'Paolo'])\n"
     ]
    }
   ],
   "source": [
    "print(dict_1)\n",
    "print(dict_1.keys())\n",
    "print(dict_1.values())"
   ]
  },
  {
   "cell_type": "code",
   "execution_count": 123,
   "id": "43ffb2f6",
   "metadata": {},
   "outputs": [
    {
     "data": {
      "text/plain": [
       "'Cosenza'"
      ]
     },
     "execution_count": 123,
     "metadata": {},
     "output_type": "execute_result"
    }
   ],
   "source": [
    "dict_1['nom']"
   ]
  },
  {
   "cell_type": "code",
   "execution_count": 124,
   "id": "5ecf8dce",
   "metadata": {},
   "outputs": [
    {
     "data": {
      "text/plain": [
       "True"
      ]
     },
     "execution_count": 124,
     "metadata": {},
     "output_type": "execute_result"
    }
   ],
   "source": [
    "'prenom' in dict_1.keys()"
   ]
  },
  {
   "cell_type": "code",
   "execution_count": 125,
   "id": "b8544b6b",
   "metadata": {},
   "outputs": [
    {
     "name": "stdout",
     "output_type": "stream",
     "text": [
      "Key: nom, value: Cosenza\n",
      "Key: prenom, value: Paolo\n"
     ]
    }
   ],
   "source": [
    "for key, value in dict_1.items():\n",
    "    print('Key: {}, value: {}'.format(key, value))"
   ]
  },
  {
   "cell_type": "code",
   "execution_count": 126,
   "id": "8476a49f",
   "metadata": {},
   "outputs": [
    {
     "data": {
      "text/plain": [
       "'Cosenza'"
      ]
     },
     "execution_count": 126,
     "metadata": {},
     "output_type": "execute_result"
    }
   ],
   "source": [
    "dict_1.get('nom', 'not there')"
   ]
  },
  {
   "cell_type": "code",
   "execution_count": 127,
   "id": "6d493a65",
   "metadata": {},
   "outputs": [
    {
     "data": {
      "text/plain": [
       "'not there'"
      ]
     },
     "execution_count": 127,
     "metadata": {},
     "output_type": "execute_result"
    }
   ],
   "source": [
    "dict_1.get('Paolo', 'not there')"
   ]
  },
  {
   "cell_type": "markdown",
   "id": "eed8c93b",
   "metadata": {},
   "source": [
    "### 3.5.1 Defaultdict type (unclear)"
   ]
  },
  {
   "cell_type": "code",
   "execution_count": null,
   "id": "4849be4f",
   "metadata": {},
   "outputs": [],
   "source": []
  },
  {
   "cell_type": "markdown",
   "id": "edb368de",
   "metadata": {},
   "source": [
    "### 3.5.2 Counter type"
   ]
  },
  {
   "cell_type": "code",
   "execution_count": 128,
   "id": "2a4dd4d1",
   "metadata": {},
   "outputs": [
    {
     "name": "stdout",
     "output_type": "stream",
     "text": [
      "Counter({' ': 5, 'i': 3, 't': 3, 's': 3, 'l': 2, 'a': 2, 'u': 2, 'n': 2, 'e': 2, 'o': 2, 'é': 1, 'f': 1, 'd': 1, \"'\": 1})\n"
     ]
    }
   ],
   "source": [
    "from collections import Counter # maps a key to an occurence\n",
    "sentence = \"Il était une fois dans l'ouest\"\n",
    "counter_characters = Counter(sentence.lower())\n",
    "print(counter_characters)"
   ]
  },
  {
   "cell_type": "code",
   "execution_count": 129,
   "id": "0a9e3e08",
   "metadata": {},
   "outputs": [
    {
     "name": "stdout",
     "output_type": "stream",
     "text": [
      "Counter({'i': 3, 't': 3, 's': 3, 'l': 2, 'a': 2, 'u': 2, 'n': 2, 'e': 2, 'o': 2, 'é': 1, 'f': 1, 'd': 1, \"'\": 1})\n"
     ]
    }
   ],
   "source": [
    "counter_characters.pop(' ')\n",
    "print(counter_characters)"
   ]
  },
  {
   "cell_type": "markdown",
   "id": "947bd8ee",
   "metadata": {},
   "source": [
    "## 3.6 Set"
   ]
  },
  {
   "cell_type": "code",
   "execution_count": 130,
   "id": "140a3729",
   "metadata": {},
   "outputs": [],
   "source": [
    "set_1 = set() # doesn't allow duplicates"
   ]
  },
  {
   "cell_type": "code",
   "execution_count": 131,
   "id": "6d99b424",
   "metadata": {},
   "outputs": [
    {
     "name": "stdout",
     "output_type": "stream",
     "text": [
      "{0, 1, 2}\n"
     ]
    }
   ],
   "source": [
    "set_1.add(0)\n",
    "set_1.add(1)\n",
    "set_1.add(2)\n",
    "set_1.add(2)\n",
    "print(set_1)"
   ]
  },
  {
   "cell_type": "code",
   "execution_count": 132,
   "id": "32cd3f5f",
   "metadata": {},
   "outputs": [
    {
     "data": {
      "text/plain": [
       "set"
      ]
     },
     "execution_count": 132,
     "metadata": {},
     "output_type": "execute_result"
    }
   ],
   "source": [
    "list(set_1)\n",
    "type(set_1)"
   ]
  },
  {
   "cell_type": "code",
   "execution_count": 133,
   "id": "a26d488d",
   "metadata": {},
   "outputs": [
    {
     "name": "stdout",
     "output_type": "stream",
     "text": [
      "[0, 1, 2, 2]\n"
     ]
    }
   ],
   "source": [
    "list_1 = list(set_1) # but we can turn it into a list\n",
    "list_1.append(2)\n",
    "print(list_1)"
   ]
  },
  {
   "cell_type": "code",
   "execution_count": 134,
   "id": "b031dbf8",
   "metadata": {},
   "outputs": [
    {
     "data": {
      "text/plain": [
       "{0, 1, 2}"
      ]
     },
     "execution_count": 134,
     "metadata": {},
     "output_type": "execute_result"
    }
   ],
   "source": [
    "set(list_1)"
   ]
  },
  {
   "cell_type": "code",
   "execution_count": 135,
   "id": "179631c2",
   "metadata": {},
   "outputs": [
    {
     "data": {
      "text/plain": [
       "{0, 1, 2}"
      ]
     },
     "execution_count": 135,
     "metadata": {},
     "output_type": "execute_result"
    }
   ],
   "source": [
    "set_2 = {0, 1, 2, 3, 4, 5}\n",
    "set_1.intersection(set_2)"
   ]
  },
  {
   "cell_type": "code",
   "execution_count": 136,
   "id": "55cb4509",
   "metadata": {},
   "outputs": [
    {
     "data": {
      "text/plain": [
       "{0, 1, 2, 3, 4, 5}"
      ]
     },
     "execution_count": 136,
     "metadata": {},
     "output_type": "execute_result"
    }
   ],
   "source": [
    "set_1.union(set_2)"
   ]
  },
  {
   "cell_type": "markdown",
   "id": "bc1c786e",
   "metadata": {},
   "source": [
    "# 4. Try and except"
   ]
  },
  {
   "cell_type": "code",
   "execution_count": 137,
   "id": "970a3a13",
   "metadata": {},
   "outputs": [
    {
     "name": "stdout",
     "output_type": "stream",
     "text": [
      "Changing value in a tuple triggered exception: 'tuple' object does not support item assignment\n"
     ]
    }
   ],
   "source": [
    "try:\n",
    "    t_1[1] = 4\n",
    "except TypeError as typeError:\n",
    "    print('Changing value in a tuple triggered exception: {}'.format(typeError)) #{} is a placeholder for .format(typeError)"
   ]
  },
  {
   "cell_type": "markdown",
   "id": "232f426f",
   "metadata": {},
   "source": [
    "# 5. Program control flow"
   ]
  },
  {
   "cell_type": "code",
   "execution_count": 138,
   "id": "51c81b2e",
   "metadata": {},
   "outputs": [
    {
     "name": "stdout",
     "output_type": "stream",
     "text": [
      "True\n"
     ]
    }
   ],
   "source": [
    "x = 4\n",
    "is_even = True if x%2 == 0 else False\n",
    "print(is_even)"
   ]
  },
  {
   "cell_type": "markdown",
   "id": "1254501b",
   "metadata": {},
   "source": [
    "# 6. Booleans, any and all (unclear)"
   ]
  },
  {
   "cell_type": "code",
   "execution_count": 139,
   "id": "d9d857e3",
   "metadata": {},
   "outputs": [
    {
     "name": "stdout",
     "output_type": "stream",
     "text": [
      "True\n",
      "False\n",
      "True\n",
      "False\n"
     ]
    }
   ],
   "source": [
    "list_bool = [True, 1, {3}]\n",
    "print(all(list_bool))\n",
    "\n",
    "list_bool = [False, 1, {3}]\n",
    "print(all(list_bool))\n",
    "\n",
    "list_bool = [False, [], {3}, None]\n",
    "print(any(list_bool))\n",
    "\n",
    "list_bool = [False, list(), dict(), None, set()]\n",
    "print(any(list_bool)) #false because there is no item in the"
   ]
  },
  {
   "cell_type": "markdown",
   "id": "93d7f307",
   "metadata": {},
   "source": [
    "# 7. Annotations (unclear)"
   ]
  },
  {
   "cell_type": "code",
   "execution_count": 140,
   "id": "9b276cf8",
   "metadata": {},
   "outputs": [],
   "source": [
    "import typing\n",
    "def hello(message:str, count:int) -> str: #now the code is more restrictive\n",
    "    hello_message = \"Hello {} with number {}\".format(message, count)\n",
    "    return hello_message"
   ]
  },
  {
   "cell_type": "code",
   "execution_count": 141,
   "id": "c0e36fb0",
   "metadata": {},
   "outputs": [
    {
     "name": "stdout",
     "output_type": "stream",
     "text": [
      "Hello Paolo with number 2\n"
     ]
    }
   ],
   "source": [
    "return_msg = hello('Paolo', 2)\n",
    "print(return_msg)"
   ]
  },
  {
   "cell_type": "markdown",
   "id": "d214e085",
   "metadata": {},
   "source": [
    "# 8. Assert"
   ]
  },
  {
   "cell_type": "code",
   "execution_count": 142,
   "id": "a7c3d7a4",
   "metadata": {},
   "outputs": [
    {
     "name": "stdout",
     "output_type": "stream",
     "text": [
      "i should be equal to 1\n"
     ]
    }
   ],
   "source": [
    "try :\n",
    "    assert(1==2), \"i should be equal to 1\"\n",
    "except AssertionError as assertionError:\n",
    "    print(assertionError)"
   ]
  },
  {
   "cell_type": "code",
   "execution_count": 143,
   "id": "3de4a927",
   "metadata": {},
   "outputs": [],
   "source": [
    "def smallest_item(list_item: list) -> Any:\n",
    "    return sorted(list_item)[0]\n",
    "    "
   ]
  },
  {
   "cell_type": "code",
   "execution_count": 144,
   "id": "77ce4df6",
   "metadata": {},
   "outputs": [
    {
     "name": "stdout",
     "output_type": "stream",
     "text": [
      "[-5, -4, -3, -2, -1, 0, 1, 2, 3, 4]\n"
     ]
    }
   ],
   "source": [
    "list_ = [i for i in range (-5, 5, 1)]\n",
    "print(list_)"
   ]
  },
  {
   "cell_type": "code",
   "execution_count": 145,
   "id": "f191975a",
   "metadata": {},
   "outputs": [
    {
     "name": "stdout",
     "output_type": "stream",
     "text": [
      "['I', 'l', ' ', 'é', 't', 'a', 'i', 't', ' ', 'u', 'n', 'e', ' ', 'f', 'o', 'i', 's', ' ', 'd', 'a', 'n', 's', ' ', 'l', \"'\", 'o', 'u', 'e', 's', 't']\n"
     ]
    }
   ],
   "source": [
    "list_ = [ch for ch in sentence]\n",
    "print(list_)"
   ]
  },
  {
   "cell_type": "code",
   "execution_count": 146,
   "id": "91b0d8a4",
   "metadata": {},
   "outputs": [
    {
     "data": {
      "text/plain": [
       "' '"
      ]
     },
     "execution_count": 146,
     "metadata": {},
     "output_type": "execute_result"
    }
   ],
   "source": [
    "smallest_item(list_)"
   ]
  },
  {
   "cell_type": "markdown",
   "id": "c4493290",
   "metadata": {},
   "source": [
    "> The following call function will crash"
   ]
  },
  {
   "cell_type": "code",
   "execution_count": 147,
   "id": "1410333d",
   "metadata": {},
   "outputs": [
    {
     "name": "stdout",
     "output_type": "stream",
     "text": [
      "Code returned the error list index out of range\n"
     ]
    }
   ],
   "source": [
    "try:\n",
    "    smallest_item(list())\n",
    "except IndexError as inderr:\n",
    "    print('Code returned the error {}'.format(inderr))"
   ]
  },
  {
   "cell_type": "code",
   "execution_count": 148,
   "id": "61a7332b",
   "metadata": {},
   "outputs": [],
   "source": [
    "try:\n",
    "    def smallest_item_with_assert(list_item : list) -> Any :\n",
    "        assert list_item, \"*** WARNING : Empty list is not accepted !\"\n",
    "        return sorted(list_item)[0]\n",
    "except NameError as namerr:\n",
    "    print('Code returned the error {}'.format(namerr))\n",
    "    "
   ]
  },
  {
   "cell_type": "code",
   "execution_count": 151,
   "id": "217b4955",
   "metadata": {},
   "outputs": [
    {
     "name": "stdout",
     "output_type": "stream",
     "text": [
      "Code returned the error *** WARNING : Empty list is not accepted !\n"
     ]
    }
   ],
   "source": [
    "try:\n",
    "    smallest_item_with_assert(list())\n",
    "except Exception as exception:\n",
    "    print('Code returned the error {}'.format(exception))"
   ]
  },
  {
   "cell_type": "code",
   "execution_count": null,
   "id": "f319fe9a",
   "metadata": {},
   "outputs": [],
   "source": []
  }
 ],
 "metadata": {
  "kernelspec": {
   "display_name": "Python 3 (ipykernel)",
   "language": "python",
   "name": "python3"
  },
  "language_info": {
   "codemirror_mode": {
    "name": "ipython",
    "version": 3
   },
   "file_extension": ".py",
   "mimetype": "text/x-python",
   "name": "python",
   "nbconvert_exporter": "python",
   "pygments_lexer": "ipython3",
   "version": "3.9.12"
  }
 },
 "nbformat": 4,
 "nbformat_minor": 5
}
