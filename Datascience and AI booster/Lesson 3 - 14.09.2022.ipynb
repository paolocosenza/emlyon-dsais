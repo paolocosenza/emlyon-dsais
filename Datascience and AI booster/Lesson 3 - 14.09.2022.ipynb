{
 "cells": [
  {
   "cell_type": "code",
   "execution_count": 1,
   "id": "1df000f2",
   "metadata": {},
   "outputs": [
    {
     "data": {
      "text/html": [
       "<b><font color='blus'>Lesson 2 - 13.09.2022</font></b>\n",
       "<div id=\"my_id_menu_nb\">run previous cell, wait for 2 seconds</div>\n",
       "<script>\n",
       "function repeat_indent_string(n){\n",
       "    var a = \"\" ;\n",
       "    for ( ; n > 0 ; --n)\n",
       "        a += \"    \";\n",
       "    return a;\n",
       "}\n",
       "// look up into all sections and builds an automated menu //\n",
       "var update_menu_string = function(begin, lfirst, llast, sformat, send, keep_item, begin_format, end_format) {\n",
       "    var anchors = document.getElementsByClassName(\"section\");\n",
       "    if (anchors.length == 0) {\n",
       "        anchors = document.getElementsByClassName(\"text_cell_render rendered_html\");\n",
       "    }\n",
       "    var i,t;\n",
       "    var text_menu = begin;\n",
       "    var text_memo = \"<pre>\\nlength:\" + anchors.length + \"\\n\";\n",
       "    var ind = \"\";\n",
       "    var memo_level = 1;\n",
       "    var href;\n",
       "    var tags = [];\n",
       "    var main_item = 0;\n",
       "    var format_open = 0;\n",
       "    for (i = 0; i <= llast; i++)\n",
       "        tags.push(\"h\" + i);\n",
       "\n",
       "    for (i = 0; i < anchors.length; i++) {\n",
       "        text_memo += \"**\" + anchors[i].id + \"--\\n\";\n",
       "\n",
       "        var child = null;\n",
       "        for(t = 0; t < tags.length; t++) {\n",
       "            var r = anchors[i].getElementsByTagName(tags[t]);\n",
       "            if (r.length > 0) {\n",
       "child = r[0];\n",
       "break;\n",
       "            }\n",
       "        }\n",
       "        if (child == null) {\n",
       "            text_memo += \"null\\n\";\n",
       "            continue;\n",
       "        }\n",
       "        if (anchors[i].hasAttribute(\"id\")) {\n",
       "            // when converted in RST\n",
       "            href = anchors[i].id;\n",
       "            text_memo += \"#1-\" + href;\n",
       "            // passer à child suivant (le chercher)\n",
       "        }\n",
       "        else if (child.hasAttribute(\"id\")) {\n",
       "            // in a notebook\n",
       "            href = child.id;\n",
       "            text_memo += \"#2-\" + href;\n",
       "        }\n",
       "        else {\n",
       "            text_memo += \"#3-\" + \"*\" + \"\\n\";\n",
       "            continue;\n",
       "        }\n",
       "        var title = child.textContent;\n",
       "        var level = parseInt(child.tagName.substring(1,2));\n",
       "\n",
       "        text_memo += \"--\" + level + \"?\" + lfirst + \"--\" + title + \"\\n\";\n",
       "\n",
       "        if ((level < lfirst) || (level > llast)) {\n",
       "            continue ;\n",
       "        }\n",
       "        if (title.endsWith('¶')) {\n",
       "            title = title.substring(0,title.length-1).replace(\"<\", \"&lt;\")\n",
       "         .replace(\">\", \"&gt;\").replace(\"&\", \"&amp;\");\n",
       "        }\n",
       "        if (title.length == 0) {\n",
       "            continue;\n",
       "        }\n",
       "\n",
       "        while (level < memo_level) {\n",
       "            text_menu += end_format + \"</ul>\\n\";\n",
       "            format_open -= 1;\n",
       "            memo_level -= 1;\n",
       "        }\n",
       "        if (level == lfirst) {\n",
       "            main_item += 1;\n",
       "        }\n",
       "        if (keep_item != -1 && main_item != keep_item + 1) {\n",
       "            // alert(main_item + \" - \" + level + \" - \" + keep_item);\n",
       "            continue;\n",
       "        }\n",
       "        while (level > memo_level) {\n",
       "            text_menu += \"<ul>\\n\";\n",
       "            memo_level += 1;\n",
       "        }\n",
       "        text_menu += repeat_indent_string(level-2);\n",
       "        text_menu += begin_format + sformat.replace(\"__HREF__\", href).replace(\"__TITLE__\", title);\n",
       "        format_open += 1;\n",
       "    }\n",
       "    while (1 < memo_level) {\n",
       "        text_menu += end_format + \"</ul>\\n\";\n",
       "        memo_level -= 1;\n",
       "        format_open -= 1;\n",
       "    }\n",
       "    text_menu += send;\n",
       "    //text_menu += \"\\n\" + text_memo;\n",
       "\n",
       "    while (format_open > 0) {\n",
       "        text_menu += end_format;\n",
       "        format_open -= 1;\n",
       "    }\n",
       "    return text_menu;\n",
       "};\n",
       "var update_menu = function() {\n",
       "    var sbegin = \"\";\n",
       "    var sformat = '<a href=\"#__HREF__\">__TITLE__</a>';\n",
       "    var send = \"\";\n",
       "    var begin_format = '<li>';\n",
       "    var end_format = '</li>';\n",
       "    var keep_item = -1;\n",
       "    var text_menu = update_menu_string(sbegin, 1, 4, sformat, send, keep_item,\n",
       "       begin_format, end_format);\n",
       "    var menu = document.getElementById(\"my_id_menu_nb\");\n",
       "    menu.innerHTML=text_menu;\n",
       "};\n",
       "window.setTimeout(update_menu,2000);\n",
       "            </script>"
      ],
      "text/plain": [
       "<IPython.core.display.HTML object>"
      ]
     },
     "execution_count": 1,
     "metadata": {},
     "output_type": "execute_result"
    }
   ],
   "source": [
    "from jyquickhelper import add_notebook_menu\n",
    "add_notebook_menu(first_level=1, last_level=4, header=\"<font color='blus'>Lesson 2 - 13.09.2022</font>\")"
   ]
  },
  {
   "cell_type": "markdown",
   "id": "6bfba207",
   "metadata": {},
   "source": [
    "# Algorithmic complexity"
   ]
  },
  {
   "cell_type": "markdown",
   "id": "699df5e2",
   "metadata": {},
   "source": [
    "if constructions are very costly"
   ]
  },
  {
   "cell_type": "code",
   "execution_count": 5,
   "id": "7891079f",
   "metadata": {},
   "outputs": [],
   "source": [
    "%load_ext autoreload\n",
    "%autoreload 2\n",
    "%matplotlib inline"
   ]
  },
  {
   "cell_type": "markdown",
   "id": "82f5fc27",
   "metadata": {},
   "source": [
    "The autoreload extension is already loaded. To reload it, use:\n",
    " %reload_ext autoreload"
   ]
  },
  {
   "cell_type": "code",
   "execution_count": 6,
   "id": "54c9543b",
   "metadata": {},
   "outputs": [],
   "source": [
    "# modules de bases\n",
    "import os\n",
    "import sys\n",
    "import copy\n",
    "# numpy, scipy, pandas\n",
    "import numpy as np\n",
    "import scipy.special as sp\n",
    "import pandas as pd\n",
    "import random as rd\n",
    "from timeit import Timer\n",
    "# pour la visualisation\n",
    "from IPython.display import display\n",
    "from matplotlib import pyplot as plt # import matplotlib.pyplot as plt\n",
    "# plotly\n",
    "# seaborn\n",
    "# altair"
   ]
  },
  {
   "cell_type": "markdown",
   "id": "3a48ea1a",
   "metadata": {},
   "source": [
    "Algorithmic complexity: resources algorithms need to produce results\n",
    "    \n",
    "related to time (don't like to wait) and memory (the lighter the better)\n",
    "\n",
    "Best algorithm is fast and consumes few resources\n",
    "\n",
    "\"There is no free lunch\": an algorithm can't be both fast and light."
   ]
  },
  {
   "cell_type": "markdown",
   "id": "f2dc9051",
   "metadata": {},
   "source": [
    "## Algorithms over Pyton lists"
   ]
  },
  {
   "cell_type": "code",
   "execution_count": 8,
   "id": "e6617e89",
   "metadata": {},
   "outputs": [
    {
     "name": "stderr",
     "output_type": "stream",
     "text": [
      "UsageError: Can't use statement directly after '%%time'!\n"
     ]
    }
   ],
   "source": [
    "%%time # magic command that returns time spent on instruction or algorithm\n",
    "\n",
    "n = int(1e6)\n",
    "p = int(1e4)\n",
    "list_test = [rd.randint(0,p)+1 for _ in range(n)] # _ means whatever you want\n",
    "print(len(list_test))"
   ]
  },
  {
   "cell_type": "code",
   "execution_count": null,
   "id": "ebf4c94b",
   "metadata": {},
   "outputs": [],
   "source": [
    "print(list_test[:10])\n",
    "min(list_test), max(list_test), len(list_test)"
   ]
  },
  {
   "cell_type": "code",
   "execution_count": null,
   "id": "9cb92403",
   "metadata": {},
   "outputs": [],
   "source": [
    "list_test.index(7010)"
   ]
  },
  {
   "cell_type": "code",
   "execution_count": 10,
   "id": "b55adc2e",
   "metadata": {},
   "outputs": [
    {
     "data": {
      "text/plain": [
       "7010"
      ]
     },
     "execution_count": 10,
     "metadata": {},
     "output_type": "execute_result"
    }
   ],
   "source": [
    "list_test[19024]"
   ]
  },
  {
   "cell_type": "code",
   "execution_count": 11,
   "id": "2300a64e",
   "metadata": {},
   "outputs": [
    {
     "data": {
      "text/plain": [
       "10000"
      ]
     },
     "execution_count": 11,
     "metadata": {},
     "output_type": "execute_result"
    }
   ],
   "source": [
    "p"
   ]
  },
  {
   "cell_type": "code",
   "execution_count": null,
   "id": "6e5fab00",
   "metadata": {},
   "outputs": [],
   "source": []
  },
  {
   "cell_type": "code",
   "execution_count": null,
   "id": "a9a65521",
   "metadata": {},
   "outputs": [],
   "source": []
  },
  {
   "cell_type": "markdown",
   "id": "c0bba718",
   "metadata": {},
   "source": [
    "## Naive search"
   ]
  },
  {
   "cell_type": "code",
   "execution_count": 23,
   "id": "31e3c0f2",
   "metadata": {},
   "outputs": [],
   "source": [
    "def naive_search(list_1, elem) :\n",
    "    for i in range(len(list_1)) :\n",
    "        if list_1[i] == elem:\n",
    "            return i\n",
    "    return -1"
   ]
  },
  {
   "cell_type": "code",
   "execution_count": 24,
   "id": "01658fc5",
   "metadata": {},
   "outputs": [
    {
     "name": "stdout",
     "output_type": "stream",
     "text": [
      "CPU times: total: 0 ns\n",
      "Wall time: 1.02 ms\n"
     ]
    },
    {
     "data": {
      "text/plain": [
       "11320"
      ]
     },
     "execution_count": 24,
     "metadata": {},
     "output_type": "execute_result"
    }
   ],
   "source": [
    "%time naive_search(list_test, 1000)"
   ]
  },
  {
   "cell_type": "markdown",
   "id": "e67a9fc0",
   "metadata": {},
   "source": [
    "## Search w/ enumerate function (unclear)"
   ]
  },
  {
   "cell_type": "markdown",
   "id": "7b421e6a",
   "metadata": {},
   "source": [
    "enumerate provides both the index and the value of an element of a list"
   ]
  },
  {
   "cell_type": "code",
   "execution_count": 25,
   "id": "5211774b",
   "metadata": {},
   "outputs": [],
   "source": [
    "def enumerate_search(liste, elem) :\n",
    "    for i, item in enumerate(liste):\n",
    "        if item == elem:\n",
    "            return i\n",
    "        return -1"
   ]
  },
  {
   "cell_type": "code",
   "execution_count": 26,
   "id": "aa2da881",
   "metadata": {},
   "outputs": [
    {
     "name": "stdout",
     "output_type": "stream",
     "text": [
      "CPU times: total: 0 ns\n",
      "Wall time: 0 ns\n"
     ]
    },
    {
     "data": {
      "text/plain": [
       "-1"
      ]
     },
     "execution_count": 26,
     "metadata": {},
     "output_type": "execute_result"
    }
   ],
   "source": [
    "%time enumerate_search(list_test, 1000)"
   ]
  },
  {
   "cell_type": "markdown",
   "id": "3a884b6e",
   "metadata": {},
   "source": [
    "## Search w/ index method of the list"
   ]
  },
  {
   "cell_type": "code",
   "execution_count": 27,
   "id": "38df4b43",
   "metadata": {},
   "outputs": [],
   "source": [
    "def index_search(liste, elem):\n",
    "    return liste.index(elem)"
   ]
  },
  {
   "cell_type": "code",
   "execution_count": 29,
   "id": "48fbcbd4",
   "metadata": {},
   "outputs": [
    {
     "name": "stdout",
     "output_type": "stream",
     "text": [
      "CPU times: total: 0 ns\n",
      "Wall time: 1.01 ms\n"
     ]
    },
    {
     "data": {
      "text/plain": [
       "11320"
      ]
     },
     "execution_count": 29,
     "metadata": {},
     "output_type": "execute_result"
    }
   ],
   "source": [
    "%time index_search(list_test, 1000)"
   ]
  },
  {
   "cell_type": "markdown",
   "id": "559a269a",
   "metadata": {},
   "source": [
    "no if structure -> much faster"
   ]
  },
  {
   "cell_type": "markdown",
   "id": "8380b3e4",
   "metadata": {},
   "source": [
    "## Recursive search (unclear)"
   ]
  },
  {
   "cell_type": "code",
   "execution_count": null,
   "id": "b9e6ab90",
   "metadata": {},
   "outputs": [],
   "source": []
  },
  {
   "cell_type": "markdown",
   "id": "8b45eacc",
   "metadata": {},
   "source": [
    "# Numpy"
   ]
  },
  {
   "cell_type": "code",
   "execution_count": 33,
   "id": "ff2c1dca",
   "metadata": {},
   "outputs": [
    {
     "name": "stdout",
     "output_type": "stream",
     "text": [
      "CPU times: total: 141 ms\n",
      "Wall time: 137 ms\n"
     ]
    }
   ],
   "source": [
    "%time np_test = np.asarray(list_test)"
   ]
  },
  {
   "cell_type": "code",
   "execution_count": 34,
   "id": "1af5441c",
   "metadata": {},
   "outputs": [
    {
     "data": {
      "text/plain": [
       "numpy.ndarray"
      ]
     },
     "execution_count": 34,
     "metadata": {},
     "output_type": "execute_result"
    }
   ],
   "source": [
    "type(np_test)"
   ]
  },
  {
   "cell_type": "code",
   "execution_count": 38,
   "id": "e79167dd",
   "metadata": {},
   "outputs": [
    {
     "data": {
      "text/plain": [
       "array([False, False, False, ..., False, False, False])"
      ]
     },
     "execution_count": 38,
     "metadata": {},
     "output_type": "execute_result"
    }
   ],
   "source": [
    "np_test == 1000"
   ]
  },
  {
   "cell_type": "code",
   "execution_count": 47,
   "id": "83d2bd26",
   "metadata": {},
   "outputs": [
    {
     "name": "stdout",
     "output_type": "stream",
     "text": [
      "CPU times: total: 0 ns\n",
      "Wall time: 2 ms\n"
     ]
    },
    {
     "data": {
      "text/plain": [
       "(array([ 11320,  25597,  31559,  33574,  45431,  60497,  63182,  68326,\n",
       "         68891,  78775,  89808,  96211,  98068, 105557, 116894, 129780,\n",
       "        133953, 135638, 143196, 146415, 150384, 163951, 165036, 183073,\n",
       "        183454, 184117, 200005, 208336, 211351, 229593, 234668, 256904,\n",
       "        268464, 275473, 282991, 297335, 327134, 333039, 334416, 334729,\n",
       "        348546, 353500, 357752, 359583, 360779, 370155, 386093, 390399,\n",
       "        397732, 406609, 417095, 441458, 444459, 453504, 457781, 471545,\n",
       "        482639, 486512, 516142, 524566, 526190, 527369, 531790, 534072,\n",
       "        534076, 541890, 547180, 574984, 575296, 588929, 600961, 612260,\n",
       "        624368, 648354, 661360, 674337, 684247, 712126, 716007, 719382,\n",
       "        764111, 769675, 799261, 801915, 804605, 809520, 820839, 824253,\n",
       "        832794, 834615, 836784, 837104, 847762, 853145, 863546, 866500,\n",
       "        879478, 880955, 893565, 907212, 926093, 926546, 926874, 938534,\n",
       "        942009, 957497, 959622, 966081, 999294, 999959], dtype=int64),)"
      ]
     },
     "execution_count": 47,
     "metadata": {},
     "output_type": "execute_result"
    }
   ],
   "source": [
    "%time np.where(np_test == 1000)"
   ]
  },
  {
   "cell_type": "code",
   "execution_count": 37,
   "id": "3f9fdb5b",
   "metadata": {},
   "outputs": [
    {
     "name": "stdout",
     "output_type": "stream",
     "text": [
      "1000 1000\n"
     ]
    }
   ],
   "source": [
    "print(np_test[11320], np_test[25597])"
   ]
  },
  {
   "cell_type": "code",
   "execution_count": 43,
   "id": "3c2e5d43",
   "metadata": {},
   "outputs": [
    {
     "data": {
      "text/plain": [
       "110"
      ]
     },
     "execution_count": 43,
     "metadata": {},
     "output_type": "execute_result"
    }
   ],
   "source": [
    "len(np.where(np_test == 1000)[0]) #output is a tuple, we only need the first element"
   ]
  },
  {
   "cell_type": "markdown",
   "id": "b136606b",
   "metadata": {},
   "source": [
    "## Find an element with an iterator"
   ]
  },
  {
   "cell_type": "markdown",
   "id": "7282fafb",
   "metadata": {},
   "source": [
    "elem = 1000\n",
    "print(elem)\n",
    "elem in np_test #takes time"
   ]
  },
  {
   "cell_type": "code",
   "execution_count": 51,
   "id": "17da7210",
   "metadata": {},
   "outputs": [
    {
     "data": {
      "text/plain": [
       "True"
      ]
     },
     "execution_count": 51,
     "metadata": {},
     "output_type": "execute_result"
    }
   ],
   "source": [
    "iterator = np.nditer(np_test, flags = ['f_index']) # creates another array with you only one element at a time -> light but slow\n",
    "iterator.iternext()"
   ]
  },
  {
   "cell_type": "code",
   "execution_count": 53,
   "id": "b7e29b5a",
   "metadata": {},
   "outputs": [
    {
     "name": "stdout",
     "output_type": "stream",
     "text": [
      "103\n",
      "CPU times: total: 3.25 s\n",
      "Wall time: 3.25 s\n"
     ]
    }
   ],
   "source": [
    "%%time\n",
    "list_index = list()\n",
    "\n",
    "iterator = np.nditer(np_test, flags = ['f_index'])\n",
    "while iterator.iternext():\n",
    "    if iterator[0] == elem : list_index.append(iterator.index)\n",
    "    \n",
    "print(len(list_index))"
   ]
  },
  {
   "cell_type": "markdown",
   "id": "8085ae00",
   "metadata": {},
   "source": [
    "# Search algorithms"
   ]
  },
  {
   "cell_type": "markdown",
   "id": "bec8ff26",
   "metadata": {},
   "source": [
    "## Dichotomous search"
   ]
  },
  {
   "cell_type": "markdown",
   "id": "a6e5bb00",
   "metadata": {},
   "source": [
    "# Sorting algorithms"
   ]
  },
  {
   "cell_type": "code",
   "execution_count": 57,
   "id": "3b1894fc",
   "metadata": {},
   "outputs": [
    {
     "name": "stdout",
     "output_type": "stream",
     "text": [
      "quicksort\n",
      "CPU times: total: 172 ms\n",
      "Wall time: 155 ms\n",
      "mergesort\n",
      "CPU times: total: 156 ms\n",
      "Wall time: 151 ms\n",
      "heapsort\n",
      "CPU times: total: 297 ms\n",
      "Wall time: 290 ms\n",
      "stable\n",
      "CPU times: total: 156 ms\n",
      "Wall time: 155 ms\n"
     ]
    }
   ],
   "source": [
    "for kind in {'quicksort', 'mergesort', 'heapsort', 'stable'}:# NB : ths is a set\n",
    " print(kind)\n",
    " %time np.sort(np_test, kind=kind)\n"
   ]
  },
  {
   "cell_type": "markdown",
   "id": "d6921023",
   "metadata": {},
   "source": [
    "# Exercise 2"
   ]
  },
  {
   "cell_type": "code",
   "execution_count": 3,
   "id": "59878126",
   "metadata": {},
   "outputs": [
    {
     "name": "stdout",
     "output_type": "stream",
     "text": [
      "[43, 56, 26, 75, 43, 56, 4, 75, 4, 30, 75, 47, 27, 43, 83, 4, 30, 77, 71, 12, 43, 25, 3, 37, 77, 16, 62, 33, 65, 77, 65, 15, 24, 97, 6, 27, 96, 37, 52, 2, 72, 90, 1, 79, 8, 83, 12, 53, 72, 79, 55, 47, 13, 6, 91, 0, 85, 60, 38, 24, 59, 75, 60, 85, 43, 93, 94, 71, 83, 58, 22, 50, 8, 25, 33, 48, 5, 43, 80, 15, 72, 98, 16, 3, 35, 10, 27, 10, 74, 14, 35, 34, 2, 88, 80, 96, 87, 5, 26]\n",
      "\n",
      " [0, 1, 2, 2, 3, 3, 4, 4, 4, 5, 5, 6, 6, 8, 8, 10, 10, 12, 12, 13, 14, 15, 15, 16, 16, 22, 24, 24, 25, 25, 26, 26, 27, 27, 27, 30, 30, 33, 33, 34, 35, 35, 37, 37, 38, 43, 43, 43, 43, 43, 43, 47, 47, 48, 50, 52, 53, 55, 56, 56, 58, 59, 60, 60, 62, 65, 65, 71, 71, 72, 72, 72, 74, 75, 75, 75, 75, 77, 77, 77, 79, 79, 80, 80, 83, 83, 83, 85, 85, 87, 88, 90, 91, 93, 94, 96, 96, 97, 98]\n",
      "CPU times: total: 0 ns\n",
      "Wall time: 926 µs\n"
     ]
    }
   ],
   "source": [
    "%%time\n",
    "import random as rand\n",
    "\n",
    "list_sorted = list()\n",
    "\n",
    "def sortmin (list_):\n",
    "    for i in range(0, 99):\n",
    "        min_ = min(list_)\n",
    "        list_sorted.append(min_)\n",
    "        list_.pop(list_.index(min_))\n",
    "    return list_sorted\n",
    "\n",
    "list_ = [rand.randint(0, 99) for _ in range(99)]\n",
    "print(list_)\n",
    "\n",
    "sortmin(list_)\n",
    "print('\\n', list_sorted)"
   ]
  },
  {
   "cell_type": "code",
   "execution_count": 10,
   "id": "942c8f02",
   "metadata": {},
   "outputs": [
    {
     "ename": "ValueError",
     "evalue": "min() arg is an empty sequence",
     "output_type": "error",
     "traceback": [
      "\u001b[1;31m---------------------------------------------------------------------------\u001b[0m",
      "\u001b[1;31mValueError\u001b[0m                                Traceback (most recent call last)",
      "Input \u001b[1;32mIn [10]\u001b[0m, in \u001b[0;36m<cell line: 2>\u001b[1;34m()\u001b[0m\n\u001b[0;32m      3\u001b[0m M \u001b[38;5;241m=\u001b[39m \u001b[38;5;241m1\u001b[39m\u001b[38;5;241m*\u001b[39m(m\u001b[38;5;241m+\u001b[39m\u001b[38;5;241m1\u001b[39m)\n\u001b[0;32m      4\u001b[0m t \u001b[38;5;241m=\u001b[39m Timer(\u001b[38;5;124m'''\u001b[39m\u001b[38;5;124msortmin(list_[:\u001b[39m\u001b[38;5;132;01m{}\u001b[39;00m\u001b[38;5;124m])\u001b[39m\u001b[38;5;124m'''\u001b[39m\u001b[38;5;241m.\u001b[39mformat(M),\n\u001b[0;32m      5\u001b[0m           \u001b[38;5;124m\"\u001b[39m\u001b[38;5;124mfrom __main__ import sortmin, list_\u001b[39m\u001b[38;5;124m\"\u001b[39m)\n\u001b[1;32m----> 6\u001b[0m time_insertion\u001b[38;5;241m.\u001b[39mappend(\u001b[43mt\u001b[49m\u001b[38;5;241;43m.\u001b[39;49m\u001b[43mtimeit\u001b[49m\u001b[43m(\u001b[49m\u001b[43mnumber\u001b[49m\u001b[38;5;241;43m=\u001b[39;49m\u001b[38;5;241;43m10\u001b[39;49m\u001b[43m)\u001b[49m)\n",
      "File \u001b[1;32m~\\anaconda3\\lib\\timeit.py:177\u001b[0m, in \u001b[0;36mTimer.timeit\u001b[1;34m(self, number)\u001b[0m\n\u001b[0;32m    175\u001b[0m gc\u001b[38;5;241m.\u001b[39mdisable()\n\u001b[0;32m    176\u001b[0m \u001b[38;5;28;01mtry\u001b[39;00m:\n\u001b[1;32m--> 177\u001b[0m     timing \u001b[38;5;241m=\u001b[39m \u001b[38;5;28;43mself\u001b[39;49m\u001b[38;5;241;43m.\u001b[39;49m\u001b[43minner\u001b[49m\u001b[43m(\u001b[49m\u001b[43mit\u001b[49m\u001b[43m,\u001b[49m\u001b[43m \u001b[49m\u001b[38;5;28;43mself\u001b[39;49m\u001b[38;5;241;43m.\u001b[39;49m\u001b[43mtimer\u001b[49m\u001b[43m)\u001b[49m\n\u001b[0;32m    178\u001b[0m \u001b[38;5;28;01mfinally\u001b[39;00m:\n\u001b[0;32m    179\u001b[0m     \u001b[38;5;28;01mif\u001b[39;00m gcold:\n",
      "File \u001b[1;32m<timeit-src>:6\u001b[0m, in \u001b[0;36minner\u001b[1;34m(_it, _timer)\u001b[0m\n",
      "File \u001b[1;32m<timed exec>:7\u001b[0m, in \u001b[0;36msortmin\u001b[1;34m(list_)\u001b[0m\n",
      "\u001b[1;31mValueError\u001b[0m: min() arg is an empty sequence"
     ]
    }
   ],
   "source": [
    "time_insertion = []\n",
    "for m in range(1000):\n",
    "    M = 1*(m+1)\n",
    "    t = Timer('''sortmin(list_[:{}])'''.format(M),\n",
    "              \"from __main__ import sortmin, list_\")\n",
    "    time_insertion.append(t.timeit(number=10))"
   ]
  },
  {
   "cell_type": "code",
   "execution_count": null,
   "id": "ecc02cab",
   "metadata": {},
   "outputs": [],
   "source": []
  }
 ],
 "metadata": {
  "kernelspec": {
   "display_name": "Python 3 (ipykernel)",
   "language": "python",
   "name": "python3"
  },
  "language_info": {
   "codemirror_mode": {
    "name": "ipython",
    "version": 3
   },
   "file_extension": ".py",
   "mimetype": "text/x-python",
   "name": "python",
   "nbconvert_exporter": "python",
   "pygments_lexer": "ipython3",
   "version": "3.9.12"
  }
 },
 "nbformat": 4,
 "nbformat_minor": 5
}
