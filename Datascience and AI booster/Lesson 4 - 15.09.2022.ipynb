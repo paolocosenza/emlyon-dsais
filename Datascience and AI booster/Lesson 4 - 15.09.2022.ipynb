{
 "cells": [
  {
   "cell_type": "code",
   "execution_count": 14,
   "id": "980f5fe7",
   "metadata": {},
   "outputs": [
    {
     "name": "stdout",
     "output_type": "stream",
     "text": [
      "0\n",
      "1\n",
      "2\n",
      "3\n",
      "4\n",
      "5\n",
      "6\n",
      "7\n",
      "8\n",
      "[0, 1, 2, 3, 4, 5, 6, 7, 8]\n"
     ]
    }
   ],
   "source": [
    "def int_generator(n):\n",
    "    '''Integer generator.\n",
    "    Returns integer value each time this function is invoked. \n",
    "    Once function is invoked n times, then it returns False.\n",
    "    \n",
    "    yield istruction is used in order to provide this function g\n",
    "    enerator behavior\n",
    "    '''\n",
    "    i = 0\n",
    "    while i < n:\n",
    "        yield i # each call to yield produces a value\n",
    "        print(i)\n",
    "        i += 1\n",
    "\n",
    "list_int = list()\n",
    "for i in int_generator(i):\n",
    "    list_int.append(i)\n",
    "print(list_int)    "
   ]
  },
  {
   "cell_type": "code",
   "execution_count": null,
   "id": "4e9b02e6",
   "metadata": {},
   "outputs": [],
   "source": []
  }
 ],
 "metadata": {
  "kernelspec": {
   "display_name": "Python 3 (ipykernel)",
   "language": "python",
   "name": "python3"
  },
  "language_info": {
   "codemirror_mode": {
    "name": "ipython",
    "version": 3
   },
   "file_extension": ".py",
   "mimetype": "text/x-python",
   "name": "python",
   "nbconvert_exporter": "python",
   "pygments_lexer": "ipython3",
   "version": "3.9.12"
  }
 },
 "nbformat": 4,
 "nbformat_minor": 5
}
