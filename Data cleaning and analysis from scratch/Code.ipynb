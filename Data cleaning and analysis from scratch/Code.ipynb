{
 "cells": [
  {
   "cell_type": "markdown",
   "id": "578948ce",
   "metadata": {},
   "source": [
    "# Data Cleaning and Analysis from Scratch \n"
   ]
  },
  {
   "cell_type": "markdown",
   "id": "ffef063b",
   "metadata": {},
   "source": [
    "Teachers: \n",
    "- Franck Jaotombo = jaotombo@em-lyon.com\n",
    "- (Jean Savinien: savinien@em-lyon.com)\n"
   ]
  },
  {
   "cell_type": "markdown",
   "id": "dd4cd9c4",
   "metadata": {},
   "source": [
    "### Useful links to keep in mind \n",
    "Some useful links to check for info/documentation regarding syntax and how-to tutorials to use or implement functions / methods: \n",
    "- Python documentation: https://www.python.org/doc/ & https://docs.python.org/fr/3/\n",
    "- Community forum : https://stackoverflow.com/\n",
    "- Fundamentals - Python for everybody: https://www.py4e.com/\n",
    "- And many other you can find on Google: \n",
    "GeeksforGeeks / AskPython / W3ressource / ...\n",
    "\n",
    "You also have some documentations available here :\n",
    "\n",
    "https://emlyon-my.sharepoint.com/:f:/g/personal/loeillet_em-lyon_com/EoWkqc-mI-5JnHmLhyuyuwoBZu815G1YgZ2sXkxtCYINEQ?e=mt61W8"
   ]
  },
  {
   "cell_type": "markdown",
   "id": "1f20fad4",
   "metadata": {},
   "source": [
    "### Some librairies importation for this Jupyter Notebook"
   ]
  },
  {
   "cell_type": "code",
   "execution_count": 1,
   "id": "ffbe2501",
   "metadata": {},
   "outputs": [],
   "source": [
    "# Leave it like that \n",
    "import pandas as pd\n",
    "import numpy as np\n",
    "import os"
   ]
  },
  {
   "cell_type": "code",
   "execution_count": 2,
   "id": "719fb935",
   "metadata": {},
   "outputs": [],
   "source": [
    "data_path = r'C:\\Users\\paolo\\Documents\\Emlyon\\First period\\Data cleaning and analysis from scratch\\data' \n",
    "\n",
    "# r means raw, allow us to use the dashes as we prefer. Always put the data and the code in different folders!"
   ]
  },
  {
   "cell_type": "code",
   "execution_count": 3,
   "id": "b3ee16c7",
   "metadata": {},
   "outputs": [],
   "source": [
    "os.chdir(data_path)"
   ]
  },
  {
   "cell_type": "markdown",
   "id": "fb157de2",
   "metadata": {},
   "source": [
    "-----"
   ]
  },
  {
   "cell_type": "markdown",
   "id": "8168f8a3",
   "metadata": {},
   "source": [
    "## Dataset of the bootcamp \n",
    "\n",
    "During this bootcamp, we are going to focus on one specific dataset from kaggle website.\n",
    "\n",
    "Create a kaggle account, export data files from https://www.kaggle.com/PromptCloudHQ/innerwear-data-from-victorias-secret-and-others and store them in a `data` folder on your computer.\n",
    "\n",
    "First of all : \n",
    "- Explore the meta-data of the dataset\n",
    "- Understand the global content of the dataset\n",
    "- Check for the different variables and their type"
   ]
  },
  {
   "cell_type": "markdown",
   "id": "023e4e3c",
   "metadata": {},
   "source": [
    "## Import and unzip data files"
   ]
  },
  {
   "cell_type": "markdown",
   "id": "78691e20",
   "metadata": {},
   "source": [
    "For this class, we will use a slightly modified version available here :\n",
    "https://github.com/jaotombo/data_science_from_scratch/tree/main/data\n",
    "<br>Download and unzip the `victoria` file into this course's data folder\n"
   ]
  },
  {
   "cell_type": "markdown",
   "id": "a8f7f8ff",
   "metadata": {},
   "source": [
    "# I. DATA PREPROCESSING "
   ]
  },
  {
   "cell_type": "markdown",
   "id": "dcaeb640",
   "metadata": {
    "heading_collapsed": true
   },
   "source": [
    "## Check a few data points\n",
    "\n",
    "Let's have a look at lines inside the csv file !"
   ]
  },
  {
   "cell_type": "markdown",
   "id": "1107b3c5",
   "metadata": {
    "hidden": true
   },
   "source": [
    "### Step 1:\n",
    "\n",
    "**Check a few lines** (the first 3 or 5 lines - enough to be able to check the content) of the data file `data/victoria.csv`, \n",
    "\n",
    "**Pick one line, and see how to process it.**\n",
    "\n",
    "Which means: Check how lines are structured\n",
    "- what kind of delimiter\n",
    "- which variables (column names)\n",
    "- which type of data (str, float, int, ...)\n",
    "- ... "
   ]
  },
  {
   "cell_type": "code",
   "execution_count": 4,
   "id": "2653d692",
   "metadata": {
    "scrolled": true
   },
   "outputs": [
    {
     "name": "stdout",
     "output_type": "stream",
     "text": [
      "product_name*mrp*price*pdp_url*brand_name*product_category*retailer*description*rating*review_count*style_attributes*total_sizes*available_size*color\n",
      "\n",
      "Very Sexy Strappy Lace Thong Panty*$14.50 *$14.50 *https://www.victoriassecret.com/panties/shop-all-panties/strappy-lace-thong-panty-very-sexy?ProductID=328310&CatalogueType=OLS*Victoria's Secret*Strappy Lace Thong Panty*Victoriassecret US*Lots of cheek peek, pretty lace, a strappy back—this sexy panty is so not subtle. Allover lace with front bow V-back with crisscross straps Low rise Minimal back coverage: lots of cheek peek Imported nylon/spandex****\"[\"\"XS\"\", \"\"S\"\", \"\"M\"\", \"\"L\"\", \"\"XL\"\"]\"*S*peach melba\n",
      "\n",
      "Very Sexy Strappy Lace Thong Panty*$14.50 *$14.50 *https://www.victoriassecret.com/panties/shop-all-panties/strappy-lace-thong-panty-very-sexy?ProductID=328310&CatalogueType=OLS*Victoria's Secret*Strappy Lace Thong Panty*Victoriassecret US*Lots of cheek peek, pretty lace, a strappy back—this sexy panty is so not subtle. Allover lace with front bow V-back with crisscross straps Low rise Minimal back coverage: lots of cheek peek Imported nylon/spandex****\"[\"\"XS\"\", \"\"S\"\", \"\"M\"\", \"\"L\"\", \"\"XL\"\"]\"*S*black\n",
      "\n",
      "Very Sexy Strappy Lace Thong Panty*$14.50 *$14.50 *https://www.victoriassecret.com/panties/shop-all-panties/strappy-lace-thong-panty-very-sexy?ProductID=328310&CatalogueType=OLS*Victoria's Secret*Strappy Lace Thong Panty*Victoriassecret US*Lots of cheek peek, pretty lace, a strappy back—this sexy panty is so not subtle. Allover lace with front bow V-back with crisscross straps Low rise Minimal back coverage: lots of cheek peek Imported nylon/spandex****\"[\"\"XS\"\", \"\"S\"\", \"\"M\"\", \"\"L\"\", \"\"XL\"\"]\"*S*plum dust\n",
      "\n",
      "Very Sexy Strappy Lace Thong Panty*$14.50 *$14.50 *https://www.victoriassecret.com/panties/shop-all-panties/strappy-lace-thong-panty-very-sexy?ProductID=328310&CatalogueType=OLS*Victoria's Secret*Strappy Lace Thong Panty*Victoriassecret US*Lots of cheek peek, pretty lace, a strappy back—this sexy panty is so not subtle. Allover lace with front bow V-back with crisscross straps Low rise Minimal back coverage: lots of cheek peek Imported nylon/spandex****\"[\"\"XS\"\", \"\"S\"\", \"\"M\"\", \"\"L\"\", \"\"XL\"\"]\"*S*ensign blue\n",
      "\n"
     ]
    }
   ],
   "source": [
    "fhand = open('victoria.csv', 'r', encoding = 'UTF-8')\n",
    "\n",
    "count = 0\n",
    "\n",
    "for line in fhand :\n",
    "    if count < 5 :\n",
    "        print(line)\n",
    "        count += 1\n",
    "    else : break"
   ]
  },
  {
   "cell_type": "markdown",
   "id": "db4598e8",
   "metadata": {
    "hidden": true
   },
   "source": [
    "### Step 2:\n",
    "\n",
    "Save one line for later analysis in one variable"
   ]
  },
  {
   "cell_type": "code",
   "execution_count": 5,
   "id": "fb8cd1a4",
   "metadata": {
    "scrolled": true
   },
   "outputs": [
    {
     "name": "stdout",
     "output_type": "stream",
     "text": [
      "Very Sexy Strappy Lace Thong Panty*$14.50 *$14.50 *https://www.victoriassecret.com/panties/shop-all-panties/strappy-lace-thong-panty-very-sexy?ProductID=328310&CatalogueType=OLS*Victoria's Secret*Strappy Lace Thong Panty*Victoriassecret US*Lots of cheek peek, pretty lace, a strappy back—this sexy panty is so not subtle. Allover lace with front bow V-back with crisscross straps Low rise Minimal back coverage: lots of cheek peek Imported nylon/spandex****\"[\"\"XS\"\", \"\"S\"\", \"\"M\"\", \"\"L\"\", \"\"XL\"\"]\"*S*fair orchid\n",
      "\n"
     ]
    }
   ],
   "source": [
    "one_line = line\n",
    "print(one_line)"
   ]
  },
  {
   "cell_type": "markdown",
   "id": "3bc053a0",
   "metadata": {
    "heading_collapsed": true
   },
   "source": [
    "## Experiment with one line to define data preprocessing"
   ]
  },
  {
   "cell_type": "markdown",
   "id": "08dade18",
   "metadata": {
    "hidden": true
   },
   "source": [
    "### Step 1:\n",
    "Store column names into a list. \n",
    "\n",
    "Return to your previous cell used for the reading of files and extract the head of the file. \n",
    "\n",
    "Then, split the line and put the elements into a list you will create. "
   ]
  },
  {
   "cell_type": "code",
   "execution_count": 6,
   "id": "bfaf7f6a",
   "metadata": {
    "scrolled": false
   },
   "outputs": [
    {
     "name": "stdout",
     "output_type": "stream",
     "text": [
      "product_name*mrp*price*pdp_url*brand_name*product_category*retailer*description*rating*review_count*style_attributes*total_sizes*available_size*color\n",
      "\n"
     ]
    },
    {
     "data": {
      "text/plain": [
       "['product_name',\n",
       " 'mrp',\n",
       " 'price',\n",
       " 'pdp_url',\n",
       " 'brand_name',\n",
       " 'product_category',\n",
       " 'retailer',\n",
       " 'description',\n",
       " 'rating',\n",
       " 'review_count',\n",
       " 'style_attributes',\n",
       " 'total_sizes',\n",
       " 'available_size',\n",
       " 'color\\n']"
      ]
     },
     "execution_count": 6,
     "metadata": {},
     "output_type": "execute_result"
    }
   ],
   "source": [
    "fhand = open('victoria.csv', 'r', encoding = 'UTF-8')\n",
    "\n",
    "for line in fhand:\n",
    "    print(line)\n",
    "    break\n",
    "    \n",
    "columns = line.split('*')\n",
    "columns"
   ]
  },
  {
   "cell_type": "markdown",
   "id": "8c950f14",
   "metadata": {},
   "source": [
    "**Check your list!**\n",
    "Is there an issue with the last element? \n",
    "\n",
    "Apply to your list a specific method to remove additional components. "
   ]
  },
  {
   "cell_type": "code",
   "execution_count": 7,
   "id": "4920000d",
   "metadata": {},
   "outputs": [],
   "source": [
    "columns[-1] = columns[-1].strip()"
   ]
  },
  {
   "cell_type": "code",
   "execution_count": 8,
   "id": "33ccb396",
   "metadata": {},
   "outputs": [
    {
     "data": {
      "text/plain": [
       "['product_name',\n",
       " 'mrp',\n",
       " 'price',\n",
       " 'pdp_url',\n",
       " 'brand_name',\n",
       " 'product_category',\n",
       " 'retailer',\n",
       " 'description',\n",
       " 'rating',\n",
       " 'review_count',\n",
       " 'style_attributes',\n",
       " 'total_sizes',\n",
       " 'available_size',\n",
       " 'color']"
      ]
     },
     "execution_count": 8,
     "metadata": {},
     "output_type": "execute_result"
    }
   ],
   "source": [
    "columns"
   ]
  },
  {
   "cell_type": "code",
   "execution_count": 9,
   "id": "24d7ac20",
   "metadata": {},
   "outputs": [],
   "source": [
    "columns = [string.strip() for string in columns] # make sure to remove all white spaces through list comprehension"
   ]
  },
  {
   "cell_type": "code",
   "execution_count": 10,
   "id": "500a0ac9",
   "metadata": {
    "scrolled": true
   },
   "outputs": [
    {
     "data": {
      "text/plain": [
       "['product_name',\n",
       " 'mrp',\n",
       " 'price',\n",
       " 'pdp_url',\n",
       " 'brand_name',\n",
       " 'product_category',\n",
       " 'retailer',\n",
       " 'description',\n",
       " 'rating',\n",
       " 'review_count',\n",
       " 'style_attributes',\n",
       " 'total_sizes',\n",
       " 'available_size',\n",
       " 'color']"
      ]
     },
     "execution_count": 10,
     "metadata": {},
     "output_type": "execute_result"
    }
   ],
   "source": [
    "columns"
   ]
  },
  {
   "cell_type": "markdown",
   "id": "27cfe799",
   "metadata": {
    "hidden": true
   },
   "source": [
    "### Step 2:\n",
    "Now let's work on the saved line\n",
    "\n",
    "- Count the number of elements inside \n",
    "- Create a list with the line (use the specific delimiter you identified)\n",
    "- Clean the last line ! \n",
    "\n",
    "**Use a different cell for each of these steps to see the content at each step.**"
   ]
  },
  {
   "cell_type": "code",
   "execution_count": 11,
   "id": "8d86fc5a",
   "metadata": {},
   "outputs": [
    {
     "name": "stdout",
     "output_type": "stream",
     "text": [
      "['Very Sexy Strappy Lace Thong Panty', '$14.50 ', '$14.50 ', 'https://www.victoriassecret.com/panties/shop-all-panties/strappy-lace-thong-panty-very-sexy?ProductID=328310&CatalogueType=OLS', \"Victoria's Secret\", 'Strappy Lace Thong Panty', 'Victoriassecret US', 'Lots of cheek peek, pretty lace, a strappy back—this sexy panty is so not subtle. Allover lace with front bow V-back with crisscross straps Low rise Minimal back coverage: lots of cheek peek Imported nylon/spandex', '', '', '', '\"[\"\"XS\"\", \"\"S\"\", \"\"M\"\", \"\"L\"\", \"\"XL\"\"]\"', 'S', 'fair orchid\\n']\n"
     ]
    },
    {
     "data": {
      "text/plain": [
       "14"
      ]
     },
     "execution_count": 11,
     "metadata": {},
     "output_type": "execute_result"
    }
   ],
   "source": [
    "one_line = one_line.split('*') # split transforms a string into a list\n",
    "\n",
    "print(one_line)\n",
    "len(one_line)\n"
   ]
  },
  {
   "cell_type": "markdown",
   "id": "741186d4",
   "metadata": {
    "hidden": true
   },
   "source": [
    "Clean last string. Create a small function to clean each element of the list."
   ]
  },
  {
   "cell_type": "code",
   "execution_count": 12,
   "id": "6604ea6c",
   "metadata": {},
   "outputs": [],
   "source": [
    "def clean(lst):\n",
    "    lst[-1] = lst[-1].strip()\n",
    "    return lst"
   ]
  },
  {
   "cell_type": "code",
   "execution_count": 13,
   "id": "2588116b",
   "metadata": {},
   "outputs": [
    {
     "name": "stdout",
     "output_type": "stream",
     "text": [
      "fair orchid\n",
      "\n"
     ]
    }
   ],
   "source": [
    "print(one_line[-1])"
   ]
  },
  {
   "cell_type": "markdown",
   "id": "5d5759f7",
   "metadata": {},
   "source": [
    "### Step 3:\n",
    "\n",
    "**Now:**\n",
    "- Check the variable price. Convert the value to float.\n",
    "- Create a function that takes a variable as argument and converts it into a float if a $ character appears in it, Nan if not. \n"
   ]
  },
  {
   "cell_type": "markdown",
   "id": "1b9a2715",
   "metadata": {
    "hidden": true
   },
   "source": [
    "First try to convert prices to numbers with command line on one example."
   ]
  },
  {
   "cell_type": "code",
   "execution_count": 14,
   "id": "2877ce98",
   "metadata": {},
   "outputs": [
    {
     "data": {
      "text/plain": [
       "14.5"
      ]
     },
     "execution_count": 14,
     "metadata": {},
     "output_type": "execute_result"
    }
   ],
   "source": [
    "float(one_line[1].strip('$'))"
   ]
  },
  {
   "cell_type": "markdown",
   "id": "2775fa44",
   "metadata": {},
   "source": [
    "Then create a function"
   ]
  },
  {
   "cell_type": "code",
   "execution_count": 15,
   "id": "98350b4b",
   "metadata": {},
   "outputs": [],
   "source": [
    "def convert_price(lst):\n",
    "    count = 1\n",
    "    for elem in lst[1:3]:\n",
    "        if type(lst[count]) == float : continue\n",
    "        if elem.startswith(\"$\"):\n",
    "            elem = float(elem.replace('$',''))\n",
    "        else: elem = np.nan\n",
    "        lst[count] = elem\n",
    "        count += 1\n",
    "    return lst"
   ]
  },
  {
   "cell_type": "markdown",
   "id": "e4a60aaa",
   "metadata": {},
   "source": [
    "### Step 4:\n",
    "\n",
    "Then we will insert NaNs when value are empty (= ' ')\n",
    "- Identify in which columns we have empty values \n",
    "- Create a function that takes a value and replaces empty values with NaN, and returns the value converted into float if not."
   ]
  },
  {
   "cell_type": "markdown",
   "id": "85638895",
   "metadata": {
    "hidden": true
   },
   "source": [
    "Like previously, try to insert NaNs on one example."
   ]
  },
  {
   "cell_type": "code",
   "execution_count": 16,
   "id": "70529309",
   "metadata": {},
   "outputs": [
    {
     "name": "stdout",
     "output_type": "stream",
     "text": [
      "empty value at index 8\n",
      "empty value at index 9\n",
      "empty value at index 10\n"
     ]
    }
   ],
   "source": [
    "count = 0\n",
    "for elem in one_line:\n",
    "    if elem == '':\n",
    "        elem = np.nan\n",
    "        print('empty value at index', count)\n",
    "    count += 1"
   ]
  },
  {
   "cell_type": "markdown",
   "id": "12c7282f",
   "metadata": {},
   "source": [
    "And then create a function to do so"
   ]
  },
  {
   "cell_type": "code",
   "execution_count": 17,
   "id": "b4b38b0f",
   "metadata": {},
   "outputs": [],
   "source": [
    "def empty_to_nan(lst):\n",
    "    for elem in lst:\n",
    "        if elem == '' : \n",
    "            elem = np.nan\n",
    "    return lst"
   ]
  },
  {
   "cell_type": "code",
   "execution_count": 18,
   "id": "87e5a6c4",
   "metadata": {},
   "outputs": [
    {
     "data": {
      "text/plain": [
       "['Very Sexy Strappy Lace Thong Panty',\n",
       " '$14.50 ',\n",
       " '$14.50 ',\n",
       " 'https://www.victoriassecret.com/panties/shop-all-panties/strappy-lace-thong-panty-very-sexy?ProductID=328310&CatalogueType=OLS',\n",
       " \"Victoria's Secret\",\n",
       " 'Strappy Lace Thong Panty',\n",
       " 'Victoriassecret US',\n",
       " 'Lots of cheek peek, pretty lace, a strappy back—this sexy panty is so not subtle. Allover lace with front bow V-back with crisscross straps Low rise Minimal back coverage: lots of cheek peek Imported nylon/spandex',\n",
       " '',\n",
       " '',\n",
       " '',\n",
       " '\"[\"\"XS\"\", \"\"S\"\", \"\"M\"\", \"\"L\"\", \"\"XL\"\"]\"',\n",
       " 'S',\n",
       " 'fair orchid\\n']"
      ]
     },
     "execution_count": 18,
     "metadata": {},
     "output_type": "execute_result"
    }
   ],
   "source": [
    "empty_to_nan(one_line)"
   ]
  },
  {
   "cell_type": "markdown",
   "id": "3648ce74",
   "metadata": {
    "hidden": true
   },
   "source": [
    "### Step 5:\n",
    "\n",
    "- Convert string of sizes into lists (remove all useless elements)\n",
    "First check with one example from your saved line\n",
    "\n",
    "- Create a function that takes one value from sizes in the line and converts it into a list of the elements (use RE)"
   ]
  },
  {
   "cell_type": "code",
   "execution_count": 19,
   "id": "be091def",
   "metadata": {},
   "outputs": [],
   "source": [
    "def strip_commas(lst):\n",
    "    count = 0\n",
    "    \n",
    "    for count in range(len(lst)):\n",
    "        if type(lst[count]) == float : continue\n",
    "        lst[count] = lst[count].replace('\\'', '')\n",
    "        lst[count] = lst[count].replace('\\\"', '')\n",
    "        lst[count] = lst[count].replace('[', '')\n",
    "        lst[count] = lst[count].replace(']', '')\n",
    "        lst[count] = lst[count].replace('', '')\n",
    "        \n",
    "        count += 1\n",
    "\n",
    "    return lst"
   ]
  },
  {
   "cell_type": "code",
   "execution_count": 20,
   "id": "530e0a46",
   "metadata": {},
   "outputs": [],
   "source": [
    "def strip_commas_re(l_string):\n",
    "    import regex as re\n",
    "    l_size = l_string.split(',')\n",
    "    return [re.sub('[^A-Z0-9]', '', size) for size in l_size]"
   ]
  },
  {
   "cell_type": "code",
   "execution_count": 21,
   "id": "9f651e1e",
   "metadata": {},
   "outputs": [
    {
     "data": {
      "text/plain": [
       "['XS', 'S', 'M', 'L', 'XL']"
      ]
     },
     "execution_count": 21,
     "metadata": {},
     "output_type": "execute_result"
    }
   ],
   "source": [
    "strip_commas_re(one_line[-3])"
   ]
  },
  {
   "cell_type": "code",
   "execution_count": 22,
   "id": "ac72b048",
   "metadata": {},
   "outputs": [
    {
     "data": {
      "text/plain": [
       "['XS', ' S', ' M', ' L', ' XL']"
      ]
     },
     "execution_count": 22,
     "metadata": {},
     "output_type": "execute_result"
    }
   ],
   "source": [
    "sizes = one_line[-3].split(',')\n",
    "\n",
    "sizes = strip_commas(sizes)\n",
    "\n",
    "sizes"
   ]
  },
  {
   "cell_type": "code",
   "execution_count": null,
   "id": "52f54d30",
   "metadata": {},
   "outputs": [],
   "source": []
  },
  {
   "cell_type": "markdown",
   "id": "04830df4",
   "metadata": {
    "hidden": true
   },
   "source": [
    "### Step 6:\n",
    "\n",
    "**Almost done!** \n",
    "- Create a function that uses all the previous defined function to clean and convert a raw argument which is a list. Take one argument as a list. Return a cleaned list.\n",
    "\n",
    "In another cell, apply this function to the saved line "
   ]
  },
  {
   "cell_type": "code",
   "execution_count": 23,
   "id": "eaf6fba3",
   "metadata": {},
   "outputs": [],
   "source": [
    "def call_functions(lst):\n",
    "    lst = clean(lst)\n",
    "    lst = strip_commas(lst)\n",
    "    lst = convert_price(lst)\n",
    "    lst = empty_to_nan(lst)\n",
    "\n",
    "    return lst"
   ]
  },
  {
   "cell_type": "code",
   "execution_count": 24,
   "id": "502657d2",
   "metadata": {},
   "outputs": [
    {
     "data": {
      "text/plain": [
       "['Very Sexy Strappy Lace Thong Panty',\n",
       " 14.5,\n",
       " 14.5,\n",
       " 'https://www.victoriassecret.com/panties/shop-all-panties/strappy-lace-thong-panty-very-sexy?ProductID=328310&CatalogueType=OLS',\n",
       " 'Victorias Secret',\n",
       " 'Strappy Lace Thong Panty',\n",
       " 'Victoriassecret US',\n",
       " 'Lots of cheek peek, pretty lace, a strappy back—this sexy panty is so not subtle. Allover lace with front bow V-back with crisscross straps Low rise Minimal back coverage: lots of cheek peek Imported nylon/spandex',\n",
       " '',\n",
       " '',\n",
       " '',\n",
       " 'XS, S, M, L, XL',\n",
       " 'S',\n",
       " 'fair orchid']"
      ]
     },
     "execution_count": 24,
     "metadata": {},
     "output_type": "execute_result"
    }
   ],
   "source": [
    "call_functions(one_line)"
   ]
  },
  {
   "cell_type": "markdown",
   "id": "6a35847a",
   "metadata": {},
   "source": [
    "----------"
   ]
  },
  {
   "cell_type": "markdown",
   "id": "c68f5ac5",
   "metadata": {},
   "source": [
    "# II. Data loading & manipulation "
   ]
  },
  {
   "cell_type": "markdown",
   "id": "e2dcd73a",
   "metadata": {
    "heading_collapsed": true
   },
   "source": [
    "## load full data and process it"
   ]
  },
  {
   "cell_type": "markdown",
   "id": "2b98772f",
   "metadata": {
    "hidden": true
   },
   "source": [
    "### Step 1: \n",
    "\n",
    "**Loading full data**\n",
    "\n",
    "Let's return to the `victoria.csv` dataset file from the beginning, and containing all data. \n"
   ]
  },
  {
   "cell_type": "markdown",
   "id": "8c898895",
   "metadata": {},
   "source": [
    "Let's create a dictionary containing all the lines from the csv file. The keys of this dictionary should be indexes which should start with 0\n",
    "\n",
    "Be careful of the first line which contains the column titles. You store this one with a key index \"columns\"."
   ]
  },
  {
   "cell_type": "code",
   "execution_count": 25,
   "id": "c61db3fb",
   "metadata": {
    "hidden": true
   },
   "outputs": [],
   "source": [
    "# Leave it like that \n",
    "import pandas as pd\n",
    "import numpy as np\n",
    "import os\n",
    "\n",
    "data_path = r'C:\\Users\\paolo\\Documents\\Emlyon\\First period\\Data cleaning and analysis from scratch\\data' \n",
    "\n",
    "# r means raw, allow us to use the dashes as we prefer. Always put the data and the code in different folders!\n",
    "\n",
    "os.chdir(data_path)"
   ]
  },
  {
   "cell_type": "code",
   "execution_count": 26,
   "id": "4ceaff09",
   "metadata": {},
   "outputs": [],
   "source": [
    "df_raw = dict()\n",
    "\n",
    "fhand = open('victoria.csv', 'r', encoding = 'UTF-8')\n",
    "\n",
    "count = -1\n",
    "\n",
    "for line in fhand:\n",
    "    row = line.split('*')\n",
    "    if count == -1: \n",
    "        df_raw['columns'] = row\n",
    "        count += 1\n",
    "        continue\n",
    "    df_raw[count] = row\n",
    "    count += 1"
   ]
  },
  {
   "cell_type": "code",
   "execution_count": 27,
   "id": "530662d9",
   "metadata": {},
   "outputs": [
    {
     "name": "stdout",
     "output_type": "stream",
     "text": [
      "['product_name', 'mrp', 'price', 'pdp_url', 'brand_name', 'product_category', 'retailer', 'description', 'rating', 'review_count', 'style_attributes', 'total_sizes', 'available_size', 'color\\n']\n",
      "['Very Sexy Strappy Lace Thong Panty', '$14.50 ', '$14.50 ', 'https://www.victoriassecret.com/panties/shop-all-panties/strappy-lace-thong-panty-very-sexy?ProductID=328310&CatalogueType=OLS', \"Victoria's Secret\", 'Strappy Lace Thong Panty', 'Victoriassecret US', 'Lots of cheek peek, pretty lace, a strappy back—this sexy panty is so not subtle. Allover lace with front bow V-back with crisscross straps Low rise Minimal back coverage: lots of cheek peek Imported nylon/spandex', '', '', '', '\"[\"\"XS\"\", \"\"S\"\", \"\"M\"\", \"\"L\"\", \"\"XL\"\"]\"', 'S', 'peach melba\\n']\n",
      "['Very Sexy Strappy Lace Thong Panty', '$14.50 ', '$14.50 ', 'https://www.victoriassecret.com/panties/shop-all-panties/strappy-lace-thong-panty-very-sexy?ProductID=328310&CatalogueType=OLS', \"Victoria's Secret\", 'Strappy Lace Thong Panty', 'Victoriassecret US', 'Lots of cheek peek, pretty lace, a strappy back—this sexy panty is so not subtle. Allover lace with front bow V-back with crisscross straps Low rise Minimal back coverage: lots of cheek peek Imported nylon/spandex', '', '', '', '\"[\"\"XS\"\", \"\"S\"\", \"\"M\"\", \"\"L\"\", \"\"XL\"\"]\"', 'S', 'black\\n']\n"
     ]
    }
   ],
   "source": [
    "print(df_raw['columns'])\n",
    "print(df_raw[0])\n",
    "print(df_raw[1])"
   ]
  },
  {
   "cell_type": "markdown",
   "id": "00072d81",
   "metadata": {},
   "source": [
    "Check the length of the dictionary. It should contain 453387 elements."
   ]
  },
  {
   "cell_type": "code",
   "execution_count": 28,
   "id": "6c582064",
   "metadata": {},
   "outputs": [
    {
     "data": {
      "text/plain": [
       "453387"
      ]
     },
     "execution_count": 28,
     "metadata": {},
     "output_type": "execute_result"
    }
   ],
   "source": [
    "len(df_raw)"
   ]
  },
  {
   "cell_type": "code",
   "execution_count": 29,
   "id": "c0c26463",
   "metadata": {},
   "outputs": [],
   "source": [
    "import copy\n",
    "raw_df = copy.deepcopy(df_raw)"
   ]
  },
  {
   "cell_type": "markdown",
   "id": "f7444047",
   "metadata": {},
   "source": [
    "Let's have a look at one specific element. Here the element 90000."
   ]
  },
  {
   "cell_type": "code",
   "execution_count": 30,
   "id": "707524bb",
   "metadata": {
    "hidden": true,
    "scrolled": true
   },
   "outputs": [
    {
     "data": {
      "text/plain": [
       "['product_name',\n",
       " 'mrp',\n",
       " 'price',\n",
       " 'pdp_url',\n",
       " 'brand_name',\n",
       " 'product_category',\n",
       " 'retailer',\n",
       " 'description',\n",
       " 'rating',\n",
       " 'review_count',\n",
       " 'style_attributes',\n",
       " 'total_sizes',\n",
       " 'available_size',\n",
       " 'color\\n']"
      ]
     },
     "execution_count": 30,
     "metadata": {},
     "output_type": "execute_result"
    }
   ],
   "source": [
    "df_raw['columns']"
   ]
  },
  {
   "cell_type": "markdown",
   "id": "f9e25e01",
   "metadata": {},
   "source": [
    "Also, check the `columns` index values"
   ]
  },
  {
   "cell_type": "markdown",
   "id": "d9f2c5a4",
   "metadata": {
    "hidden": true
   },
   "source": [
    "### Step 2: \n",
    "\n",
    "Clean and convert rows of your dictionary by applying your previous \"preprocessing\" function (see step 6 from previous section).\n",
    "\n",
    "Maybe (probably ;)) this not going to work correctly the first time. Check for errors and see which cases you forgot to take into account. \n",
    "You might have to create a new dictionary (df_proc for processed dictionary) to have a cleaned df_raw to use."
   ]
  },
  {
   "cell_type": "code",
   "execution_count": 31,
   "id": "87bdf920",
   "metadata": {},
   "outputs": [],
   "source": [
    "df_proc = {idx : call_functions(values) for idx, values in df_raw.items() if type(idx) == int}"
   ]
  },
  {
   "cell_type": "markdown",
   "id": "efe687c0",
   "metadata": {},
   "source": [
    "Verify that for the element 393544, non USD prices have been replace by nan."
   ]
  },
  {
   "cell_type": "code",
   "execution_count": 32,
   "id": "1561889b",
   "metadata": {},
   "outputs": [
    {
     "data": {
      "text/plain": [
       "['Easy Push-Up Bra',\n",
       " nan,\n",
       " nan,\n",
       " 'https://www.victoriassecret.com/bralettes/all-bralettes/easy-push-up-bra?ProductID=331621&CatalogueType=OLS',\n",
       " 'Victorias Secret',\n",
       " 'Easy Push-Up Bra',\n",
       " 'Victoriassecret US',\n",
       " 'Like magic: the lift you love without the wires, in an unbelievably soft and sleek shape. \\xa0 Lift & Lining Push-up padding Wireless cups Straps & Hooks Adjustable straps Pullover style Details & Fabric Racerback Long line Supersoft, lined sides for the smoothest shape Imported nylon/spandex',\n",
       " '4.5',\n",
       " '554.0',\n",
       " '',\n",
       " '32A, 32B, 32C, 32D, 32DD, 34A, 34B, 34C, 34D, 34DD, 36A, 36B, 36C, 36D, 36DD, 38A, 38B, 38C, 38D, 38DD',\n",
       " '34A',\n",
       " 'Sterling Pewter Lace']"
      ]
     },
     "execution_count": 32,
     "metadata": {},
     "output_type": "execute_result"
    }
   ],
   "source": [
    "df_proc[393544]"
   ]
  },
  {
   "cell_type": "markdown",
   "id": "2b8c79e8",
   "metadata": {
    "hidden": true
   },
   "source": [
    "Check rows with non USD currencies:\n",
    "- Count how many you have \n",
    "- and drop them \n",
    "\n",
    "The objective is to have a dictionary cleaned without those lines / raws"
   ]
  },
  {
   "cell_type": "code",
   "execution_count": 33,
   "id": "8fcac945",
   "metadata": {},
   "outputs": [
    {
     "name": "stdout",
     "output_type": "stream",
     "text": [
      "506\n"
     ]
    }
   ],
   "source": [
    "count = 0\n",
    "\n",
    "for row in df_proc.values():\n",
    "    if row[1] is np.nan or row[2] is np.nan : count += 1\n",
    "\n",
    "print(count)"
   ]
  },
  {
   "cell_type": "code",
   "execution_count": 34,
   "id": "d9251659",
   "metadata": {},
   "outputs": [],
   "source": [
    "df_proc_nan = {idx : row for idx, row in df_proc.items() if (row[1] is not np.nan or row[2] is not np.nan)}"
   ]
  },
  {
   "cell_type": "code",
   "execution_count": 35,
   "id": "4dc1b0fb",
   "metadata": {
    "hidden": true
   },
   "outputs": [],
   "source": [
    "# Verify the length of your dictionary\n",
    "# If no output, this means that the lenght of your df_proc is correct\n",
    "assert len(df_proc_nan) + 506 == 453386"
   ]
  },
  {
   "cell_type": "markdown",
   "id": "32098450",
   "metadata": {
    "heading_collapsed": true
   },
   "source": [
    "### Step 3: \n",
    "\n",
    "Compute min/max, means, stdev, medians, and quartiles of numerical columns in two ways\n",
    "- with numpy\n",
    "- with your own custom function"
   ]
  },
  {
   "cell_type": "code",
   "execution_count": 36,
   "id": "15afc332",
   "metadata": {
    "hidden": true,
    "scrolled": false
   },
   "outputs": [
    {
     "data": {
      "text/plain": [
       "['product_name',\n",
       " 'mrp',\n",
       " 'price',\n",
       " 'pdp_url',\n",
       " 'brand_name',\n",
       " 'product_category',\n",
       " 'retailer',\n",
       " 'description',\n",
       " 'rating',\n",
       " 'review_count',\n",
       " 'style_attributes',\n",
       " 'total_sizes',\n",
       " 'available_size',\n",
       " 'color']"
      ]
     },
     "execution_count": 36,
     "metadata": {},
     "output_type": "execute_result"
    }
   ],
   "source": [
    "columns"
   ]
  },
  {
   "cell_type": "code",
   "execution_count": 37,
   "id": "bda25202",
   "metadata": {},
   "outputs": [],
   "source": [
    "mrp = [row[1] for row in df_proc_nan.values()]   # .values() only returns values\n",
    "price = [row[2] for row in df_proc_nan.values()]"
   ]
  },
  {
   "cell_type": "code",
   "execution_count": 38,
   "id": "5ec443a1",
   "metadata": {},
   "outputs": [],
   "source": [
    "import math"
   ]
  },
  {
   "cell_type": "code",
   "execution_count": 39,
   "id": "bea920e3",
   "metadata": {},
   "outputs": [
    {
     "data": {
      "text/plain": [
       "(2.99, 98.0)"
      ]
     },
     "execution_count": 39,
     "metadata": {},
     "output_type": "execute_result"
    }
   ],
   "source": [
    "min(price), max(price)"
   ]
  },
  {
   "cell_type": "code",
   "execution_count": 40,
   "id": "715b476e",
   "metadata": {},
   "outputs": [
    {
     "data": {
      "text/plain": [
       "36.028994877230176"
      ]
     },
     "execution_count": 40,
     "metadata": {},
     "output_type": "execute_result"
    }
   ],
   "source": [
    "#mean\n",
    "np.mean(mrp)"
   ]
  },
  {
   "cell_type": "code",
   "execution_count": 41,
   "id": "f4f4ffbb",
   "metadata": {},
   "outputs": [
    {
     "data": {
      "text/plain": [
       "36.028994877193064"
      ]
     },
     "execution_count": 41,
     "metadata": {},
     "output_type": "execute_result"
    }
   ],
   "source": [
    "mrp_mean = sum(mrp)/len(mrp)\n",
    "mrp_mean"
   ]
  },
  {
   "cell_type": "code",
   "execution_count": 42,
   "id": "12765611",
   "metadata": {},
   "outputs": [
    {
     "data": {
      "text/plain": [
       "14.76286879996775"
      ]
     },
     "execution_count": 42,
     "metadata": {},
     "output_type": "execute_result"
    }
   ],
   "source": [
    "#stdev\n",
    "np.std(mrp)"
   ]
  },
  {
   "cell_type": "code",
   "execution_count": 43,
   "id": "44125965",
   "metadata": {},
   "outputs": [
    {
     "data": {
      "text/plain": [
       "14.762868799955655"
      ]
     },
     "execution_count": 43,
     "metadata": {},
     "output_type": "execute_result"
    }
   ],
   "source": [
    "std = math.sqrt(sum([(mrp[i] - mrp_mean)**2 for i in range(len(mrp))])/len(mrp))\n",
    "std"
   ]
  },
  {
   "cell_type": "code",
   "execution_count": 44,
   "id": "005dadb4",
   "metadata": {},
   "outputs": [
    {
     "data": {
      "text/plain": [
       "34.5"
      ]
     },
     "execution_count": 44,
     "metadata": {},
     "output_type": "execute_result"
    }
   ],
   "source": [
    "#median\n",
    "np.median(price)"
   ]
  },
  {
   "cell_type": "code",
   "execution_count": 45,
   "id": "ab055ea2",
   "metadata": {},
   "outputs": [
    {
     "data": {
      "text/plain": [
       "34.5"
      ]
     },
     "execution_count": 45,
     "metadata": {},
     "output_type": "execute_result"
    }
   ],
   "source": [
    "price.sort()\n",
    "n = len(price)\n",
    "if n%2 == 0:\n",
    "    median = (price[int(n/2)-1] + price[int(n/2)])/2\n",
    "else:\n",
    "    median = price[n/2]\n",
    "median"
   ]
  },
  {
   "cell_type": "code",
   "execution_count": 46,
   "id": "92226b6b",
   "metadata": {},
   "outputs": [
    {
     "data": {
      "text/plain": [
       "(29.5, 46.5)"
      ]
     },
     "execution_count": 46,
     "metadata": {},
     "output_type": "execute_result"
    }
   ],
   "source": [
    "#quartiles\n",
    "np.percentile(mrp, 25), np.percentile(mrp, 75)"
   ]
  },
  {
   "cell_type": "code",
   "execution_count": 47,
   "id": "82708f1c",
   "metadata": {
    "scrolled": true
   },
   "outputs": [
    {
     "data": {
      "text/plain": [
       "(29.5, 46.5)"
      ]
     },
     "execution_count": 47,
     "metadata": {},
     "output_type": "execute_result"
    }
   ],
   "source": [
    "mrp.sort()\n",
    "n = len(mrp)\n",
    "\n",
    "if n%2 == 0:\n",
    "    quartile = mrp[int(n/4)], mrp[int(n/4*3)]\n",
    "else:\n",
    "    quartile = (mrp[int(n/4)-1] + mrp[int(n/4)])/2, (mrp[int(n/4*3)-1] + mrp[int(n/4*3)])/2\n",
    "    \n",
    "quartile"
   ]
  },
  {
   "cell_type": "markdown",
   "id": "d5bf1a7f",
   "metadata": {},
   "source": [
    "# III. Factorisation\n"
   ]
  },
  {
   "cell_type": "markdown",
   "id": "2cc544b4",
   "metadata": {},
   "source": [
    "## Step 1:\n",
    "\n",
    "### Refactor statistics\n",
    "\n",
    "Create functions for each calculations done previously: \n",
    "- Extract the numerical columns\n",
    "- Calculate the median, the first and third quartiles (q1 and q3) and the interquartile interval (iqr = q3 - q1)\n",
    "- Calculate the mean (average) and the standard deviation\n",
    "- Compile all in one function to be called to compute a complete summary statistics for quantitative data : min, max, q1, q3, iqr, med, mean, standard deviation"
   ]
  },
  {
   "cell_type": "code",
   "execution_count": 48,
   "id": "e4aad048",
   "metadata": {},
   "outputs": [],
   "source": [
    "def minimum(lst):\n",
    "    return min(lst)"
   ]
  },
  {
   "cell_type": "code",
   "execution_count": 49,
   "id": "fc881561",
   "metadata": {},
   "outputs": [],
   "source": [
    "def maximum(lst):\n",
    "    return max(lst)"
   ]
  },
  {
   "cell_type": "code",
   "execution_count": 50,
   "id": "68430e11",
   "metadata": {},
   "outputs": [],
   "source": [
    "def median(lst):\n",
    "    lst.sort()\n",
    "    n = len(lst)\n",
    "    if n%2 == 0:\n",
    "        median = (lst[int(n/2)-1] + lst[int(n/2)])/2\n",
    "    else:\n",
    "        median = lst[int(n/2)]\n",
    "    return median"
   ]
  },
  {
   "cell_type": "code",
   "execution_count": 51,
   "id": "883cd0df",
   "metadata": {},
   "outputs": [],
   "source": [
    "def q1_q3(lst):\n",
    "    lst.sort()\n",
    "    n = len(lst)\n",
    "\n",
    "    if n%2 == 0:\n",
    "        quartile = lst[int(n/4)], lst[int(n/4*3)]\n",
    "    else:\n",
    "        quartile = (lst[int(n/4)-1] + lst[int(n/4)])/2, (lst[int(n/4*3)-1] + lst[int(n/4*3)])/2\n",
    "    return quartile"
   ]
  },
  {
   "cell_type": "code",
   "execution_count": 52,
   "id": "8efbb777",
   "metadata": {},
   "outputs": [],
   "source": [
    "def iqr(quartile):\n",
    "    return quartile[1]-quartile[0]"
   ]
  },
  {
   "cell_type": "code",
   "execution_count": 53,
   "id": "f4d0c8ba",
   "metadata": {},
   "outputs": [],
   "source": [
    "def mean(lst):\n",
    "    return sum(lst)/len(lst)"
   ]
  },
  {
   "cell_type": "code",
   "execution_count": 54,
   "id": "fae22833",
   "metadata": {},
   "outputs": [],
   "source": [
    "def std_dev(lst):\n",
    "    lst_mean = sum(lst)/len(lst)\n",
    "    return math.sqrt(sum([(lst[i] - lst_mean)**2 for i in range(len(lst))])/len(lst))"
   ]
  },
  {
   "cell_type": "markdown",
   "id": "a42acf86",
   "metadata": {},
   "source": [
    "Call the previous function\n",
    "and add some comments"
   ]
  },
  {
   "cell_type": "markdown",
   "id": "bda9b16f",
   "metadata": {},
   "source": [
    "Create a function which contains what you setup above. \n",
    "\n",
    "Your function will take one argument which is the column name from which you want to calculate \n",
    "the previous statistics.\n",
    "\n",
    "Alternatively, you may create a function providing a nice descriptive statistics of a given column in a given data frame (dictionary)"
   ]
  },
  {
   "cell_type": "code",
   "execution_count": 55,
   "id": "c430de20",
   "metadata": {},
   "outputs": [],
   "source": [
    "def summary(lst):\n",
    "    print('Statistical summary:\\n\\nMin:', minimum(lst))\n",
    "    print('\\nMax:', maximum(lst))\n",
    "    print('\\nMean:', mean(lst))\n",
    "    print('\\nMedian:', median(lst))\n",
    "    print('\\nStandard deviation:', std_dev(lst))\n",
    "    print('\\nQ1 and Q3:', q1_q3(lst))\n",
    "    qq = q1_q3(lst)\n",
    "    print('\\nIQR:', iqr(qq))"
   ]
  },
  {
   "cell_type": "code",
   "execution_count": 56,
   "id": "d104db86",
   "metadata": {},
   "outputs": [
    {
     "name": "stdout",
     "output_type": "stream",
     "text": [
      "Statistical summary:\n",
      "\n",
      "Min: 2.99\n",
      "\n",
      "Max: 98.0\n",
      "\n",
      "Mean: 32.33864317261112\n",
      "\n",
      "Median: 34.5\n",
      "\n",
      "Standard deviation: 15.657376624553708\n",
      "\n",
      "Q1 and Q3: (19.99, 42.5)\n",
      "\n",
      "IQR: 22.51\n"
     ]
    }
   ],
   "source": [
    "list_ = [1, 2, 3, 4, 5, 6, 7, 8, 9, 10, 11, 12]\n",
    "\n",
    "summary(price)"
   ]
  },
  {
   "cell_type": "markdown",
   "id": "00dc8ec8",
   "metadata": {},
   "source": [
    "Test your function with some columns"
   ]
  },
  {
   "cell_type": "markdown",
   "id": "4fcd9983",
   "metadata": {},
   "source": [
    "## Step 2: \n",
    "### Replace missing values"
   ]
  },
  {
   "cell_type": "markdown",
   "id": "a03122a6",
   "metadata": {},
   "source": [
    "We left out 506 raws, where `product_price` or `mrp` was not in USD currency.\n",
    "\n",
    "Also, all values in `style_attributes` column, and 315380 values in `review_count` column are missing.\n",
    "\n",
    "We can replace missing values by a chosen fixed value or by an estimated value. <br>\n",
    "We may add an \"inplace\" argument thus that if it is true, it will replace the missing values directly in the dataframe. <br>\n",
    "Otherwise, it will just output the imputed column.\n",
    "\n",
    "**Note:**\n",
    "We can pass a function as an argument"
   ]
  },
  {
   "cell_type": "code",
   "execution_count": 57,
   "id": "c4f785bb",
   "metadata": {},
   "outputs": [
    {
     "data": {
      "text/plain": [
       "['Dream Angels Mini Lace Bustier',\n",
       " 54.5,\n",
       " 54.5,\n",
       " 'https://www.victoriassecret.com/bras/shop-all-bras/mini-lace-bustier-dream-angels?ProductID=338028&CatalogueType=OLS',\n",
       " 'Victorias Secret',\n",
       " 'Mini Lace Bustier',\n",
       " 'Victoriassecret US',\n",
       " 'Sweet in lace, sexy in shape—this scalloped bustier doesn’t have a bad side. Lift & Lining Lightly lined for shape Underwire cups \\xa0 Straps & Hooks Removable straps Back closure 3 rows of hook-and-eye closures \\xa0 Details & Fabric Allover scalloped lace Front and side boning Elastic around waist Imported nylon/spandex',\n",
       " '',\n",
       " '',\n",
       " 'n/a',\n",
       " '32A, 32B, 32C, 32D, 32DD, 34A, 34B, 34C, 34D, 34DD, 36A, 36B, 36C, 36D, 36DD, 38A, 38B, 38C, 38D, 38DD',\n",
       " '38B',\n",
       " 'Coconut White Lace']"
      ]
     },
     "execution_count": 57,
     "metadata": {},
     "output_type": "execute_result"
    }
   ],
   "source": [
    "# replace empty values with n/a\n",
    "\n",
    "for row in df_proc_nan.values():\n",
    "    row[10] = 'n/a'\n",
    "df_proc_nan[1340]"
   ]
  },
  {
   "cell_type": "markdown",
   "id": "64221504",
   "metadata": {},
   "source": [
    "Now we replace non-USD `mrp` and `price` by medians (get back to df_raw since we dropped the rows)"
   ]
  },
  {
   "cell_type": "code",
   "execution_count": 64,
   "id": "bf955f42",
   "metadata": {},
   "outputs": [
    {
     "name": "stdout",
     "output_type": "stream",
     "text": [
      "mrp: 0 values replaced\n",
      "price: 0 values replaced\n"
     ]
    }
   ],
   "source": [
    "# replace empty values with mean \n",
    "\n",
    "median_mrp = median([row[1] for row in df_proc_nan.values()])\n",
    "\n",
    "median_price = median([row[2] for row in df_proc_nan.values()])\n",
    "\n",
    "count_mrp = 0\n",
    "\n",
    "count_price = 0\n",
    "\n",
    "\n",
    "for row in df_proc_nan.values():\n",
    "    if row[1] == np.nan or row[1] == '':\n",
    "        row[1] = median_mrp\n",
    "        print('found another mrp')\n",
    "        count_mrp += 1\n",
    "    elif row[2] == np.nan or row[1] == '':\n",
    "        row[2] = median_price\n",
    "        print('found price another')\n",
    "        count_price += 1\n",
    "    else: continue\n",
    "\n",
    "print('mrp:', count_mrp, 'values replaced')\n",
    "print('price:', count_price, 'values replaced')"
   ]
  },
  {
   "cell_type": "markdown",
   "id": "4ebc02eb",
   "metadata": {},
   "source": [
    "## Step 3: \n",
    "### Compute value_counts of categorical columns\n",
    "\n",
    "Test with your df_proc where product names are and how to access them.\n",
    "\n",
    "Then you can use the Counter module from Collections."
   ]
  },
  {
   "cell_type": "code",
   "execution_count": null,
   "id": "3dae728b",
   "metadata": {},
   "outputs": [],
   "source": []
  },
  {
   "cell_type": "code",
   "execution_count": null,
   "id": "c3616d11",
   "metadata": {},
   "outputs": [],
   "source": []
  },
  {
   "cell_type": "code",
   "execution_count": null,
   "id": "7066697b",
   "metadata": {},
   "outputs": [],
   "source": []
  },
  {
   "cell_type": "markdown",
   "id": "da7cf239",
   "metadata": {},
   "source": [
    "Compile all that into one or two functions. Test your function by calling it.\n",
    "\n",
    "Choose to have 2 arguments: \n",
    "- the column name,\n",
    "- the number of items to count (regarding the most commun items)"
   ]
  },
  {
   "cell_type": "code",
   "execution_count": null,
   "id": "3552e3c0",
   "metadata": {},
   "outputs": [],
   "source": []
  },
  {
   "cell_type": "code",
   "execution_count": null,
   "id": "0618325c",
   "metadata": {},
   "outputs": [],
   "source": []
  },
  {
   "cell_type": "markdown",
   "id": "c5a2df68",
   "metadata": {},
   "source": [
    "-----"
   ]
  },
  {
   "cell_type": "markdown",
   "id": "612d3b72",
   "metadata": {},
   "source": [
    "-----"
   ]
  },
  {
   "cell_type": "markdown",
   "id": "6866c0cd",
   "metadata": {},
   "source": [
    "# IV. Data lookup"
   ]
  },
  {
   "cell_type": "markdown",
   "id": "ca15bd3d",
   "metadata": {},
   "source": [
    "**The purpose of data science is to answer questions you ask yourself. This is where we go from now.**\n",
    "\n",
    "Using all the previous functions you have created, answer the different following questions. "
   ]
  },
  {
   "cell_type": "markdown",
   "id": "c32fe700",
   "metadata": {},
   "source": [
    "**Question 1:**\n",
    "\n",
    "Which product has the highest price? what are the indices of corresponding rows in `df_proc` and corresponding products?"
   ]
  },
  {
   "cell_type": "code",
   "execution_count": null,
   "id": "54e0608d",
   "metadata": {},
   "outputs": [],
   "source": []
  },
  {
   "cell_type": "code",
   "execution_count": null,
   "id": "5c91ef66",
   "metadata": {},
   "outputs": [],
   "source": []
  },
  {
   "cell_type": "markdown",
   "id": "11e780da",
   "metadata": {},
   "source": [
    "**Question 2:**\n",
    "\n",
    "What are the cheapest products with size 38A?\n"
   ]
  },
  {
   "cell_type": "code",
   "execution_count": null,
   "id": "67e07c3f",
   "metadata": {},
   "outputs": [],
   "source": []
  },
  {
   "cell_type": "code",
   "execution_count": null,
   "id": "cbd11740",
   "metadata": {},
   "outputs": [],
   "source": []
  },
  {
   "cell_type": "markdown",
   "id": "43323aee",
   "metadata": {},
   "source": [
    "**Question 3:**\n",
    "\n",
    "What are the cheapest products with available size 38A?"
   ]
  },
  {
   "cell_type": "code",
   "execution_count": null,
   "id": "635d05c2",
   "metadata": {},
   "outputs": [],
   "source": []
  },
  {
   "cell_type": "code",
   "execution_count": null,
   "id": "c5aac899",
   "metadata": {},
   "outputs": [],
   "source": []
  },
  {
   "cell_type": "markdown",
   "id": "9d746a38",
   "metadata": {},
   "source": [
    "**Question 4:**\n",
    "\n",
    "What are the cheapest 'sport bras' available in size 30?"
   ]
  },
  {
   "cell_type": "code",
   "execution_count": null,
   "id": "ba9e7f23",
   "metadata": {},
   "outputs": [],
   "source": []
  },
  {
   "cell_type": "code",
   "execution_count": null,
   "id": "84da0b75",
   "metadata": {},
   "outputs": [],
   "source": []
  },
  {
   "cell_type": "markdown",
   "id": "06b458d2",
   "metadata": {},
   "source": [
    "**Question 5:**\n",
    "\n",
    "What is the most expensive belt? and in which color is it available?"
   ]
  },
  {
   "cell_type": "code",
   "execution_count": null,
   "id": "28090a65",
   "metadata": {},
   "outputs": [],
   "source": []
  },
  {
   "cell_type": "code",
   "execution_count": null,
   "id": "4f9a8267",
   "metadata": {},
   "outputs": [],
   "source": []
  }
 ],
 "metadata": {
  "kernelspec": {
   "display_name": "Python 3 (ipykernel)",
   "language": "python",
   "name": "python3"
  },
  "language_info": {
   "codemirror_mode": {
    "name": "ipython",
    "version": 3
   },
   "file_extension": ".py",
   "mimetype": "text/x-python",
   "name": "python",
   "nbconvert_exporter": "python",
   "pygments_lexer": "ipython3",
   "version": "3.9.12"
  }
 },
 "nbformat": 4,
 "nbformat_minor": 5
}
