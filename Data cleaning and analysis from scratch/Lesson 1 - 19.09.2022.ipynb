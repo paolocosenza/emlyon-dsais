{
 "cells": [
  {
   "cell_type": "markdown",
   "id": "578948ce",
   "metadata": {},
   "source": [
    "# Data Cleaning and Analysis from Scratch \n"
   ]
  },
  {
   "cell_type": "markdown",
   "id": "ffef063b",
   "metadata": {},
   "source": [
    "Teachers: \n",
    "- Franck Jaotombo = jaotombo@em-lyon.com\n",
    "- (Jean Savinien: savinien@em-lyon.com)\n"
   ]
  },
  {
   "cell_type": "markdown",
   "id": "dd4cd9c4",
   "metadata": {},
   "source": [
    "### Useful links to keep in mind \n",
    "Some useful links to check for info/documentation regarding syntax and how-to tutorials to use or implement functions / methods: \n",
    "- Python documentation: https://www.python.org/doc/ & https://docs.python.org/fr/3/\n",
    "- Community forum : https://stackoverflow.com/\n",
    "- Fundamentals - Python for everybody: https://www.py4e.com/\n",
    "- And many other you can find on Google: \n",
    "GeeksforGeeks / AskPython / W3ressource / ...\n",
    "\n",
    "You also have some documentations available here :\n",
    "\n",
    "https://emlyon-my.sharepoint.com/:f:/g/personal/loeillet_em-lyon_com/EoWkqc-mI-5JnHmLhyuyuwoBZu815G1YgZ2sXkxtCYINEQ?e=mt61W8"
   ]
  },
  {
   "cell_type": "markdown",
   "id": "1f20fad4",
   "metadata": {},
   "source": [
    "### Some librairies importation for this Jupyter Notebook"
   ]
  },
  {
   "cell_type": "code",
   "execution_count": 1,
   "id": "ffbe2501",
   "metadata": {},
   "outputs": [],
   "source": [
    "# Leave it like that \n",
    "import pandas as pd\n",
    "import numpy as np\n",
    "import os"
   ]
  },
  {
   "cell_type": "code",
   "execution_count": 2,
   "id": "719fb935",
   "metadata": {},
   "outputs": [],
   "source": [
    "data_path = r'C:\\Users\\paolo\\Documents\\Emlyon\\First period\\Data cleaning and analysis from scratch\\data' \n",
    "\n",
    "# r means raw, allow us to use the dashes as we prefer. Always put the data and the code in different folders!"
   ]
  },
  {
   "cell_type": "code",
   "execution_count": 3,
   "id": "b3ee16c7",
   "metadata": {},
   "outputs": [],
   "source": [
    "os.chdir(data_path)"
   ]
  },
  {
   "cell_type": "markdown",
   "id": "fb157de2",
   "metadata": {},
   "source": [
    "-----"
   ]
  },
  {
   "cell_type": "markdown",
   "id": "8168f8a3",
   "metadata": {},
   "source": [
    "## Dataset of the bootcamp \n",
    "\n",
    "During this bootcamp, we are going to focus on one specific dataset from kaggle website.\n",
    "\n",
    "Create a kaggle account, export data files from https://www.kaggle.com/PromptCloudHQ/innerwear-data-from-victorias-secret-and-others and store them in a `data` folder on your computer.\n",
    "\n",
    "First of all : \n",
    "- Explore the meta-data of the dataset\n",
    "- Understand the global content of the dataset\n",
    "- Check for the different variables and their type"
   ]
  },
  {
   "cell_type": "markdown",
   "id": "023e4e3c",
   "metadata": {},
   "source": [
    "## Import and unzip data files"
   ]
  },
  {
   "cell_type": "markdown",
   "id": "78691e20",
   "metadata": {},
   "source": [
    "For this class, we will use a slightly modified version available here :\n",
    "https://github.com/jaotombo/data_science_from_scratch/tree/main/data\n",
    "<br>Download and unzip the `victoria` file into this course's data folder\n"
   ]
  },
  {
   "cell_type": "markdown",
   "id": "a8f7f8ff",
   "metadata": {},
   "source": [
    "# I. DATA PREPROCESSING "
   ]
  },
  {
   "cell_type": "markdown",
   "id": "dcaeb640",
   "metadata": {
    "heading_collapsed": true
   },
   "source": [
    "## Check a few data points\n",
    "\n",
    "Let's have a look at lines inside the csv file !"
   ]
  },
  {
   "cell_type": "markdown",
   "id": "1107b3c5",
   "metadata": {
    "hidden": true
   },
   "source": [
    "### Step 1:\n",
    "\n",
    "**Check a few lines** (the first 3 or 5 lines - enough to be able to check the content) of the data file `data/victoria.csv`, \n",
    "\n",
    "**Pick one line, and see how to process it.**\n",
    "\n",
    "Which means: Check how lines are structured\n",
    "- what kind of delimiter\n",
    "- which variables (column names)\n",
    "- which type of data (str, float, int, ...)\n",
    "- ... "
   ]
  },
  {
   "cell_type": "code",
   "execution_count": 4,
   "id": "2653d692",
   "metadata": {
    "scrolled": true
   },
   "outputs": [
    {
     "name": "stdout",
     "output_type": "stream",
     "text": [
      "product_name*mrp*price*pdp_url*brand_name*product_category*retailer*description*rating*review_count*style_attributes*total_sizes*available_size*color\n",
      "\n",
      "Very Sexy Strappy Lace Thong Panty*$14.50 *$14.50 *https://www.victoriassecret.com/panties/shop-all-panties/strappy-lace-thong-panty-very-sexy?ProductID=328310&CatalogueType=OLS*Victoria's Secret*Strappy Lace Thong Panty*Victoriassecret US*Lots of cheek peek, pretty lace, a strappy back—this sexy panty is so not subtle. Allover lace with front bow V-back with crisscross straps Low rise Minimal back coverage: lots of cheek peek Imported nylon/spandex****\"[\"\"XS\"\", \"\"S\"\", \"\"M\"\", \"\"L\"\", \"\"XL\"\"]\"*S*peach melba\n",
      "\n",
      "Very Sexy Strappy Lace Thong Panty*$14.50 *$14.50 *https://www.victoriassecret.com/panties/shop-all-panties/strappy-lace-thong-panty-very-sexy?ProductID=328310&CatalogueType=OLS*Victoria's Secret*Strappy Lace Thong Panty*Victoriassecret US*Lots of cheek peek, pretty lace, a strappy back—this sexy panty is so not subtle. Allover lace with front bow V-back with crisscross straps Low rise Minimal back coverage: lots of cheek peek Imported nylon/spandex****\"[\"\"XS\"\", \"\"S\"\", \"\"M\"\", \"\"L\"\", \"\"XL\"\"]\"*S*black\n",
      "\n",
      "Very Sexy Strappy Lace Thong Panty*$14.50 *$14.50 *https://www.victoriassecret.com/panties/shop-all-panties/strappy-lace-thong-panty-very-sexy?ProductID=328310&CatalogueType=OLS*Victoria's Secret*Strappy Lace Thong Panty*Victoriassecret US*Lots of cheek peek, pretty lace, a strappy back—this sexy panty is so not subtle. Allover lace with front bow V-back with crisscross straps Low rise Minimal back coverage: lots of cheek peek Imported nylon/spandex****\"[\"\"XS\"\", \"\"S\"\", \"\"M\"\", \"\"L\"\", \"\"XL\"\"]\"*S*plum dust\n",
      "\n",
      "Very Sexy Strappy Lace Thong Panty*$14.50 *$14.50 *https://www.victoriassecret.com/panties/shop-all-panties/strappy-lace-thong-panty-very-sexy?ProductID=328310&CatalogueType=OLS*Victoria's Secret*Strappy Lace Thong Panty*Victoriassecret US*Lots of cheek peek, pretty lace, a strappy back—this sexy panty is so not subtle. Allover lace with front bow V-back with crisscross straps Low rise Minimal back coverage: lots of cheek peek Imported nylon/spandex****\"[\"\"XS\"\", \"\"S\"\", \"\"M\"\", \"\"L\"\", \"\"XL\"\"]\"*S*ensign blue\n",
      "\n"
     ]
    }
   ],
   "source": [
    "fhand = open('victoria.csv', 'r', encoding = 'UTF-8')\n",
    "\n",
    "count = 0\n",
    "\n",
    "for line in fhand :\n",
    "    if count < 5 :\n",
    "        print(line)\n",
    "        count += 1\n",
    "    else : break"
   ]
  },
  {
   "cell_type": "markdown",
   "id": "db4598e8",
   "metadata": {
    "hidden": true
   },
   "source": [
    "### Step 2:\n",
    "\n",
    "Save one line for later analysis in one variable"
   ]
  },
  {
   "cell_type": "code",
   "execution_count": 5,
   "id": "fb8cd1a4",
   "metadata": {
    "scrolled": true
   },
   "outputs": [
    {
     "name": "stdout",
     "output_type": "stream",
     "text": [
      "Very Sexy Strappy Lace Thong Panty*$14.50 *$14.50 *https://www.victoriassecret.com/panties/shop-all-panties/strappy-lace-thong-panty-very-sexy?ProductID=328310&CatalogueType=OLS*Victoria's Secret*Strappy Lace Thong Panty*Victoriassecret US*Lots of cheek peek, pretty lace, a strappy back—this sexy panty is so not subtle. Allover lace with front bow V-back with crisscross straps Low rise Minimal back coverage: lots of cheek peek Imported nylon/spandex****\"[\"\"XS\"\", \"\"S\"\", \"\"M\"\", \"\"L\"\", \"\"XL\"\"]\"*S*fair orchid\n",
      "\n"
     ]
    }
   ],
   "source": [
    "one_line = line\n",
    "print(one_line)"
   ]
  },
  {
   "cell_type": "markdown",
   "id": "3bc053a0",
   "metadata": {
    "heading_collapsed": true
   },
   "source": [
    "## Experiment with one line to define data preprocessing"
   ]
  },
  {
   "cell_type": "markdown",
   "id": "08dade18",
   "metadata": {
    "hidden": true
   },
   "source": [
    "### Step 1:\n",
    "Store column names into a list. \n",
    "\n",
    "Return to your previous cell used for the reading of files and extract the head of the file. \n",
    "\n",
    "Then, split the line and put the elements into a list you will create. "
   ]
  },
  {
   "cell_type": "code",
   "execution_count": 6,
   "id": "bfaf7f6a",
   "metadata": {
    "scrolled": false
   },
   "outputs": [
    {
     "name": "stdout",
     "output_type": "stream",
     "text": [
      "product_name*mrp*price*pdp_url*brand_name*product_category*retailer*description*rating*review_count*style_attributes*total_sizes*available_size*color\n",
      "\n"
     ]
    },
    {
     "data": {
      "text/plain": [
       "['product_name',\n",
       " 'mrp',\n",
       " 'price',\n",
       " 'pdp_url',\n",
       " 'brand_name',\n",
       " 'product_category',\n",
       " 'retailer',\n",
       " 'description',\n",
       " 'rating',\n",
       " 'review_count',\n",
       " 'style_attributes',\n",
       " 'total_sizes',\n",
       " 'available_size',\n",
       " 'color\\n']"
      ]
     },
     "execution_count": 6,
     "metadata": {},
     "output_type": "execute_result"
    }
   ],
   "source": [
    "fhand = open('victoria.csv', 'r', encoding = 'UTF-8')\n",
    "\n",
    "for line in fhand:\n",
    "    print(line)\n",
    "    break\n",
    "    \n",
    "columns = line.split('*')\n",
    "columns"
   ]
  },
  {
   "cell_type": "markdown",
   "id": "8c950f14",
   "metadata": {},
   "source": [
    "**Check your list!**\n",
    "Is there an issue with the last element? \n",
    "\n",
    "Apply to your list a specific method to remove additional components. "
   ]
  },
  {
   "cell_type": "code",
   "execution_count": 7,
   "id": "4920000d",
   "metadata": {},
   "outputs": [],
   "source": [
    "columns[-1] = columns[-1].strip()"
   ]
  },
  {
   "cell_type": "code",
   "execution_count": 8,
   "id": "33ccb396",
   "metadata": {},
   "outputs": [
    {
     "data": {
      "text/plain": [
       "['product_name',\n",
       " 'mrp',\n",
       " 'price',\n",
       " 'pdp_url',\n",
       " 'brand_name',\n",
       " 'product_category',\n",
       " 'retailer',\n",
       " 'description',\n",
       " 'rating',\n",
       " 'review_count',\n",
       " 'style_attributes',\n",
       " 'total_sizes',\n",
       " 'available_size',\n",
       " 'color']"
      ]
     },
     "execution_count": 8,
     "metadata": {},
     "output_type": "execute_result"
    }
   ],
   "source": [
    "columns"
   ]
  },
  {
   "cell_type": "code",
   "execution_count": 9,
   "id": "24d7ac20",
   "metadata": {},
   "outputs": [],
   "source": [
    "columns = [string.strip() for string in columns] # make sure to remove all white spaces through list comprehension"
   ]
  },
  {
   "cell_type": "code",
   "execution_count": 10,
   "id": "500a0ac9",
   "metadata": {
    "scrolled": true
   },
   "outputs": [
    {
     "data": {
      "text/plain": [
       "['product_name',\n",
       " 'mrp',\n",
       " 'price',\n",
       " 'pdp_url',\n",
       " 'brand_name',\n",
       " 'product_category',\n",
       " 'retailer',\n",
       " 'description',\n",
       " 'rating',\n",
       " 'review_count',\n",
       " 'style_attributes',\n",
       " 'total_sizes',\n",
       " 'available_size',\n",
       " 'color']"
      ]
     },
     "execution_count": 10,
     "metadata": {},
     "output_type": "execute_result"
    }
   ],
   "source": [
    "columns"
   ]
  },
  {
   "cell_type": "markdown",
   "id": "27cfe799",
   "metadata": {
    "hidden": true
   },
   "source": [
    "### Step 2:\n",
    "Now let's work on the saved line\n",
    "\n",
    "- Count the number of elements inside \n",
    "- Create a list with the line (use the specific delimiter you identified)\n",
    "- Clean the last line ! \n",
    "\n",
    "**Use a different cell for each of these steps to see the content at each step.**"
   ]
  },
  {
   "cell_type": "code",
   "execution_count": 11,
   "id": "8d86fc5a",
   "metadata": {},
   "outputs": [
    {
     "name": "stdout",
     "output_type": "stream",
     "text": [
      "['Very Sexy Strappy Lace Thong Panty', '$14.50 ', '$14.50 ', 'https://www.victoriassecret.com/panties/shop-all-panties/strappy-lace-thong-panty-very-sexy?ProductID=328310&CatalogueType=OLS', \"Victoria's Secret\", 'Strappy Lace Thong Panty', 'Victoriassecret US', 'Lots of cheek peek, pretty lace, a strappy back—this sexy panty is so not subtle. Allover lace with front bow V-back with crisscross straps Low rise Minimal back coverage: lots of cheek peek Imported nylon/spandex', '', '', '', '\"[\"\"XS\"\", \"\"S\"\", \"\"M\"\", \"\"L\"\", \"\"XL\"\"]\"', 'S', 'fair orchid\\n']\n"
     ]
    },
    {
     "data": {
      "text/plain": [
       "14"
      ]
     },
     "execution_count": 11,
     "metadata": {},
     "output_type": "execute_result"
    }
   ],
   "source": [
    "one_line = one_line.split('*') # split transforms a string into a list\n",
    "\n",
    "print(one_line)\n",
    "len(one_line)\n"
   ]
  },
  {
   "cell_type": "markdown",
   "id": "741186d4",
   "metadata": {
    "hidden": true
   },
   "source": [
    "Clean last string. Create a small function to clean each element of the list."
   ]
  },
  {
   "cell_type": "code",
   "execution_count": 12,
   "id": "6604ea6c",
   "metadata": {},
   "outputs": [],
   "source": [
    "def clean(lst):\n",
    "    lst[-1] = lst[-1].strip()\n",
    "    return lst"
   ]
  },
  {
   "cell_type": "code",
   "execution_count": 13,
   "id": "2588116b",
   "metadata": {},
   "outputs": [
    {
     "name": "stdout",
     "output_type": "stream",
     "text": [
      "fair orchid\n",
      "\n"
     ]
    }
   ],
   "source": [
    "print(one_line[-1])"
   ]
  },
  {
   "cell_type": "markdown",
   "id": "5d5759f7",
   "metadata": {},
   "source": [
    "### Step 3:\n",
    "\n",
    "**Now:**\n",
    "- Check the variable price. Convert the value to float.\n",
    "- Create a function that takes a variable as argument and converts it into a float if a $ character appears in it, Nan if not. \n"
   ]
  },
  {
   "cell_type": "markdown",
   "id": "1b9a2715",
   "metadata": {
    "hidden": true
   },
   "source": [
    "First try to convert prices to numbers with command line on one example."
   ]
  },
  {
   "cell_type": "code",
   "execution_count": 14,
   "id": "2877ce98",
   "metadata": {},
   "outputs": [
    {
     "data": {
      "text/plain": [
       "14.5"
      ]
     },
     "execution_count": 14,
     "metadata": {},
     "output_type": "execute_result"
    }
   ],
   "source": [
    "float(one_line[1].strip('$'))"
   ]
  },
  {
   "cell_type": "markdown",
   "id": "2775fa44",
   "metadata": {},
   "source": [
    "Then create a function"
   ]
  },
  {
   "cell_type": "code",
   "execution_count": 15,
   "id": "98350b4b",
   "metadata": {},
   "outputs": [],
   "source": [
    "def convert_price(lst):\n",
    "    count = 0\n",
    "    for elem in lst:\n",
    "        if type(lst[count]) == float : continue\n",
    "        if \"$\" in elem:\n",
    "            elem = float(elem.replace('$',''))\n",
    "        lst[count] = elem\n",
    "        count += 1\n",
    "    return lst"
   ]
  },
  {
   "cell_type": "markdown",
   "id": "e4a60aaa",
   "metadata": {},
   "source": [
    "### Step 4:\n",
    "\n",
    "Then we will insert NaNs when value are empty (= ' ')\n",
    "- Identify in which columns we have empty values \n",
    "- Create a function that takes a value and replaces empty values with NaN, and returns the value converted into float if not."
   ]
  },
  {
   "cell_type": "markdown",
   "id": "85638895",
   "metadata": {
    "hidden": true
   },
   "source": [
    "Like previously, try to insert NaNs on one example."
   ]
  },
  {
   "cell_type": "code",
   "execution_count": 16,
   "id": "70529309",
   "metadata": {},
   "outputs": [
    {
     "name": "stdout",
     "output_type": "stream",
     "text": [
      "empty value at index 8\n",
      "empty value at index 9\n",
      "empty value at index 10\n"
     ]
    }
   ],
   "source": [
    "count = 0\n",
    "for elem in one_line:\n",
    "    if elem == '':\n",
    "        elem = np.nan\n",
    "        print('empty value at index', count)\n",
    "    count += 1"
   ]
  },
  {
   "cell_type": "markdown",
   "id": "12c7282f",
   "metadata": {},
   "source": [
    "And then create a function to do so"
   ]
  },
  {
   "cell_type": "code",
   "execution_count": 17,
   "id": "b4b38b0f",
   "metadata": {},
   "outputs": [],
   "source": [
    "def empty_to_nan(lst):\n",
    "    for elem in lst:\n",
    "        if elem == '' : \n",
    "            elem = np.nan\n",
    "    return lst"
   ]
  },
  {
   "cell_type": "code",
   "execution_count": 18,
   "id": "87e5a6c4",
   "metadata": {},
   "outputs": [
    {
     "data": {
      "text/plain": [
       "['Very Sexy Strappy Lace Thong Panty',\n",
       " '$14.50 ',\n",
       " '$14.50 ',\n",
       " 'https://www.victoriassecret.com/panties/shop-all-panties/strappy-lace-thong-panty-very-sexy?ProductID=328310&CatalogueType=OLS',\n",
       " \"Victoria's Secret\",\n",
       " 'Strappy Lace Thong Panty',\n",
       " 'Victoriassecret US',\n",
       " 'Lots of cheek peek, pretty lace, a strappy back—this sexy panty is so not subtle. Allover lace with front bow V-back with crisscross straps Low rise Minimal back coverage: lots of cheek peek Imported nylon/spandex',\n",
       " '',\n",
       " '',\n",
       " '',\n",
       " '\"[\"\"XS\"\", \"\"S\"\", \"\"M\"\", \"\"L\"\", \"\"XL\"\"]\"',\n",
       " 'S',\n",
       " 'fair orchid\\n']"
      ]
     },
     "execution_count": 18,
     "metadata": {},
     "output_type": "execute_result"
    }
   ],
   "source": [
    "empty_to_nan(one_line)"
   ]
  },
  {
   "cell_type": "markdown",
   "id": "3648ce74",
   "metadata": {
    "hidden": true
   },
   "source": [
    "### Step 5:\n",
    "\n",
    "- Convert string of sizes into lists (remove all useless elements)\n",
    "First check with one example from your saved line\n",
    "\n",
    "- Create a function that takes one value from sizes in the line and converts it into a list of the elements (use RE)"
   ]
  },
  {
   "cell_type": "code",
   "execution_count": 19,
   "id": "be091def",
   "metadata": {},
   "outputs": [],
   "source": [
    "def strip_commas(lst):\n",
    "    count = 0\n",
    "    \n",
    "    for count in range(len(lst)):\n",
    "        if type(lst[count]) == float : continue\n",
    "        lst[count] = lst[count].replace('\\'', '')\n",
    "        lst[count] = lst[count].replace('\\\"', '')\n",
    "        lst[count] = lst[count].replace('[', '')\n",
    "        lst[count] = lst[count].replace(']', '')\n",
    "        \n",
    "        count += 1\n",
    "\n",
    "    return lst"
   ]
  },
  {
   "cell_type": "code",
   "execution_count": 20,
   "id": "ac72b048",
   "metadata": {},
   "outputs": [
    {
     "data": {
      "text/plain": [
       "['XS', ' S', ' M', ' L', ' XL']"
      ]
     },
     "execution_count": 20,
     "metadata": {},
     "output_type": "execute_result"
    }
   ],
   "source": [
    "sizes = one_line[-3].split(',')\n",
    "\n",
    "sizes = strip_commas(sizes)\n",
    "\n",
    "sizes"
   ]
  },
  {
   "cell_type": "markdown",
   "id": "04830df4",
   "metadata": {
    "hidden": true
   },
   "source": [
    "### Step 6:\n",
    "\n",
    "**Almost done!** \n",
    "- Create a function that uses all the previous defined function to clean and convert a raw argument which is a list. Take one argument as a list. Return a cleaned list.\n",
    "\n",
    "In another cell, apply this function to the saved line "
   ]
  },
  {
   "cell_type": "code",
   "execution_count": 25,
   "id": "eaf6fba3",
   "metadata": {},
   "outputs": [],
   "source": [
    "def call_functions(lst):\n",
    "    lst = clean(lst)\n",
    "    lst = strip_commas(lst)\n",
    "    lst = convert_price(lst)\n",
    "    lst = empty_to_nan(lst)\n",
    "\n",
    "    return lst"
   ]
  },
  {
   "cell_type": "code",
   "execution_count": 26,
   "id": "502657d2",
   "metadata": {},
   "outputs": [
    {
     "data": {
      "text/plain": [
       "['Very Sexy Strappy Lace Thong Panty',\n",
       " 14.5,\n",
       " 14.5,\n",
       " 'https://www.victoriassecret.com/panties/shop-all-panties/strappy-lace-thong-panty-very-sexy?ProductID=328310&CatalogueType=OLS',\n",
       " 'Victorias Secret',\n",
       " 'Strappy Lace Thong Panty',\n",
       " 'Victoriassecret US',\n",
       " 'Lots of cheek peek, pretty lace, a strappy back—this sexy panty is so not subtle. Allover lace with front bow V-back with crisscross straps Low rise Minimal back coverage: lots of cheek peek Imported nylon/spandex',\n",
       " '',\n",
       " '',\n",
       " '',\n",
       " 'XS, S, M, L, XL',\n",
       " 'S',\n",
       " 'fair orchid']"
      ]
     },
     "execution_count": 26,
     "metadata": {},
     "output_type": "execute_result"
    }
   ],
   "source": [
    "call_functions(one_line)"
   ]
  },
  {
   "cell_type": "markdown",
   "id": "ff532272",
   "metadata": {},
   "source": [
    "# II. Data loading & manipulation "
   ]
  },
  {
   "cell_type": "markdown",
   "id": "ff19c502",
   "metadata": {
    "heading_collapsed": true
   },
   "source": [
    "## load full data and process it"
   ]
  },
  {
   "cell_type": "markdown",
   "id": "ff4d39dd",
   "metadata": {
    "hidden": true
   },
   "source": [
    "### Step 1: \n",
    "\n",
    "**Loading full data**\n",
    "\n",
    "Let's return to the `victoria.csv` dataset file from the beginning, and containing all data. \n"
   ]
  },
  {
   "cell_type": "markdown",
   "id": "7c0f909c",
   "metadata": {},
   "source": [
    "Let's create a dictionary containing all the lines from the csv file. The keys of this dictionary should be indexes which should start with 0\n",
    "\n",
    "Be careful of the first line which contains the column titles. You store this one with a key index \"columns\"."
   ]
  },
  {
   "cell_type": "code",
   "execution_count": 23,
   "id": "958d6c8c",
   "metadata": {
    "hidden": true
   },
   "outputs": [],
   "source": [
    "df_raw = dict()"
   ]
  },
  {
   "cell_type": "code",
   "execution_count": null,
   "id": "b6f17b26",
   "metadata": {},
   "outputs": [],
   "source": []
  },
  {
   "cell_type": "markdown",
   "id": "01a474bd",
   "metadata": {},
   "source": [
    "Check the length of the dictionary. It should contain 453387 elements."
   ]
  },
  {
   "cell_type": "code",
   "execution_count": null,
   "id": "77548f2d",
   "metadata": {},
   "outputs": [],
   "source": []
  },
  {
   "cell_type": "markdown",
   "id": "86d9abb8",
   "metadata": {},
   "source": [
    "Let's have a look at one specific element. Here the element 90000."
   ]
  },
  {
   "cell_type": "code",
   "execution_count": 24,
   "id": "f5c56569",
   "metadata": {
    "hidden": true,
    "scrolled": true
   },
   "outputs": [
    {
     "ename": "KeyError",
     "evalue": "90000",
     "output_type": "error",
     "traceback": [
      "\u001b[1;31m---------------------------------------------------------------------------\u001b[0m",
      "\u001b[1;31mKeyError\u001b[0m                                  Traceback (most recent call last)",
      "Input \u001b[1;32mIn [24]\u001b[0m, in \u001b[0;36m<cell line: 1>\u001b[1;34m()\u001b[0m\n\u001b[1;32m----> 1\u001b[0m \u001b[43mdf_raw\u001b[49m\u001b[43m[\u001b[49m\u001b[38;5;241;43m90000\u001b[39;49m\u001b[43m]\u001b[49m\n",
      "\u001b[1;31mKeyError\u001b[0m: 90000"
     ]
    }
   ],
   "source": [
    "df_raw[90000]"
   ]
  },
  {
   "cell_type": "markdown",
   "id": "13a31871",
   "metadata": {},
   "source": [
    "Also, check the `columns` index values"
   ]
  },
  {
   "cell_type": "markdown",
   "id": "cbb139e1",
   "metadata": {
    "hidden": true
   },
   "source": [
    "### Step 2: \n",
    "\n",
    "Clean and convert rows of your dictionary by applying your previous \"preprocessing\" function (see step 6 from previous section).\n",
    "\n",
    "Maybe (probably ;)) this not going to work correctly the first time. Check for errors and see which cases you forgot to take into account. \n",
    "You might have to create a new dictionary (df_proc for processed dictionary) to have a cleaned df_raw to use."
   ]
  },
  {
   "cell_type": "code",
   "execution_count": null,
   "id": "441eba7e",
   "metadata": {},
   "outputs": [],
   "source": []
  },
  {
   "cell_type": "markdown",
   "id": "cdcacb1d",
   "metadata": {},
   "source": [
    "Verify that for the element 393544, non USD prices have been replace by nan."
   ]
  },
  {
   "cell_type": "code",
   "execution_count": null,
   "id": "5d628186",
   "metadata": {},
   "outputs": [],
   "source": []
  },
  {
   "cell_type": "markdown",
   "id": "6148de54",
   "metadata": {
    "hidden": true
   },
   "source": [
    "Check rows with non USD currencies:\n",
    "- Count how many you have \n",
    "- and drop them \n",
    "\n",
    "The objective is to have a dictionary cleaned without those lines / raws"
   ]
  },
  {
   "cell_type": "code",
   "execution_count": null,
   "id": "4bce8e14",
   "metadata": {},
   "outputs": [],
   "source": []
  },
  {
   "cell_type": "code",
   "execution_count": null,
   "id": "31152154",
   "metadata": {},
   "outputs": [],
   "source": []
  },
  {
   "cell_type": "code",
   "execution_count": null,
   "id": "732a42f5",
   "metadata": {
    "hidden": true
   },
   "outputs": [],
   "source": [
    "# Verify the length of your dictionary\n",
    "# If no output, this means that the lenght of your df_proc is correct\n",
    "assert len(df_proc) + 506 == 453386"
   ]
  },
  {
   "cell_type": "markdown",
   "id": "27bd05b3",
   "metadata": {
    "heading_collapsed": true
   },
   "source": [
    "### Step 3: \n",
    "\n",
    "Compute min/max, means, stdev, medians, and quartiles of numerical columns in two ways\n",
    "- with numpy\n",
    "- with your own custom function"
   ]
  },
  {
   "cell_type": "code",
   "execution_count": null,
   "id": "106de083",
   "metadata": {
    "hidden": true,
    "scrolled": false
   },
   "outputs": [],
   "source": [
    "columns"
   ]
  },
  {
   "cell_type": "code",
   "execution_count": null,
   "id": "6ae4e294",
   "metadata": {},
   "outputs": [],
   "source": [
    "import math"
   ]
  },
  {
   "cell_type": "code",
   "execution_count": null,
   "id": "f041eb52",
   "metadata": {},
   "outputs": [],
   "source": [
    "# check for missing or incorrectly converted values\n"
   ]
  },
  {
   "cell_type": "code",
   "execution_count": null,
   "id": "e33d583b",
   "metadata": {},
   "outputs": [],
   "source": []
  },
  {
   "cell_type": "code",
   "execution_count": null,
   "id": "61e8957f",
   "metadata": {},
   "outputs": [],
   "source": []
  },
  {
   "cell_type": "code",
   "execution_count": null,
   "id": "b5d9bbcc",
   "metadata": {},
   "outputs": [],
   "source": []
  },
  {
   "cell_type": "markdown",
   "id": "fb4e8ec2",
   "metadata": {},
   "source": [
    "----------"
   ]
  },
  {
   "cell_type": "markdown",
   "id": "6a35847a",
   "metadata": {},
   "source": [
    "----------"
   ]
  },
  {
   "cell_type": "markdown",
   "id": "d5bf1a7f",
   "metadata": {},
   "source": [
    "# III. Factorisation\n"
   ]
  },
  {
   "cell_type": "markdown",
   "id": "2cc544b4",
   "metadata": {},
   "source": [
    "## Step 1:\n",
    "\n",
    "### Refactor statistics\n",
    "\n",
    "Create functions for each calculations done previously: \n",
    "- Extract the numerical columns\n",
    "- Calculate the median, the first and third quartiles (q1 and q3) and the interquartile interval (iqr = q3 - q1)\n",
    "- Calculate the mean (average) and the standard deviation\n",
    "- Compile all in one function to be called to compute a complete summary statistics for quantitative data : min, max, q1, q3, iqr, med, mean, standard deviation"
   ]
  },
  {
   "cell_type": "code",
   "execution_count": null,
   "id": "68430e11",
   "metadata": {},
   "outputs": [],
   "source": []
  },
  {
   "cell_type": "markdown",
   "id": "a42acf86",
   "metadata": {},
   "source": [
    "Call the previous function\n",
    "and add some comments"
   ]
  },
  {
   "cell_type": "code",
   "execution_count": null,
   "id": "d104db86",
   "metadata": {},
   "outputs": [],
   "source": []
  },
  {
   "cell_type": "markdown",
   "id": "bda9b16f",
   "metadata": {},
   "source": [
    "Create a function which contains what you setup above. \n",
    "\n",
    "Your function will take one argument which is the column name from which you want to calculate \n",
    "the previous statistics.\n",
    "\n",
    "Alternatively, you may create a function providing a nice descriptive statistics of a given column in a given data frame (dictionary)"
   ]
  },
  {
   "cell_type": "code",
   "execution_count": null,
   "id": "c430de20",
   "metadata": {},
   "outputs": [],
   "source": []
  },
  {
   "cell_type": "markdown",
   "id": "00dc8ec8",
   "metadata": {},
   "source": [
    "Test your function with some columns"
   ]
  },
  {
   "cell_type": "code",
   "execution_count": null,
   "id": "a7a5dddd",
   "metadata": {},
   "outputs": [],
   "source": []
  },
  {
   "cell_type": "code",
   "execution_count": null,
   "id": "eeddcce6",
   "metadata": {},
   "outputs": [],
   "source": []
  },
  {
   "cell_type": "code",
   "execution_count": null,
   "id": "c3e294eb",
   "metadata": {},
   "outputs": [],
   "source": []
  },
  {
   "cell_type": "code",
   "execution_count": null,
   "id": "71502313",
   "metadata": {},
   "outputs": [],
   "source": []
  },
  {
   "cell_type": "code",
   "execution_count": null,
   "id": "12a12bd2",
   "metadata": {},
   "outputs": [],
   "source": []
  },
  {
   "cell_type": "code",
   "execution_count": null,
   "id": "4a919150",
   "metadata": {},
   "outputs": [],
   "source": []
  },
  {
   "cell_type": "markdown",
   "id": "4fcd9983",
   "metadata": {},
   "source": [
    "## Step 2: \n",
    "### Replace missing values"
   ]
  },
  {
   "cell_type": "markdown",
   "id": "a03122a6",
   "metadata": {},
   "source": [
    "We left out 506 raws, where `product_price` or `mrp` was not in USD currency.\n",
    "\n",
    "Also, all values in `style_attributes` column, and 315380 values in `review_count` column are missing.\n",
    "\n",
    "We can replace missing values by a chosen fixed value or by an estimated value. <br>\n",
    "We may add an \"inplace\" argument thus that if it is true, it will replace the missing values directly in the dataframe. <br>\n",
    "Otherwise, it will just output the imputed column.\n",
    "\n",
    "**Note:**\n",
    "We can pass a function as an argument"
   ]
  },
  {
   "cell_type": "code",
   "execution_count": null,
   "id": "15cdc625",
   "metadata": {},
   "outputs": [],
   "source": []
  },
  {
   "cell_type": "code",
   "execution_count": null,
   "id": "52477227",
   "metadata": {},
   "outputs": [],
   "source": []
  },
  {
   "cell_type": "code",
   "execution_count": null,
   "id": "c4f785bb",
   "metadata": {},
   "outputs": [],
   "source": []
  },
  {
   "cell_type": "code",
   "execution_count": null,
   "id": "c99ff862",
   "metadata": {},
   "outputs": [],
   "source": []
  },
  {
   "cell_type": "code",
   "execution_count": null,
   "id": "bc471f0a",
   "metadata": {},
   "outputs": [],
   "source": []
  },
  {
   "cell_type": "markdown",
   "id": "64221504",
   "metadata": {},
   "source": [
    "Now we replace non-USD `mrp` and `price` by medians (get back to df_raw since we dropped the rows)"
   ]
  },
  {
   "cell_type": "code",
   "execution_count": null,
   "id": "bf955f42",
   "metadata": {},
   "outputs": [],
   "source": []
  },
  {
   "cell_type": "code",
   "execution_count": null,
   "id": "fb9255d8",
   "metadata": {},
   "outputs": [],
   "source": []
  },
  {
   "cell_type": "code",
   "execution_count": null,
   "id": "7aa026c6",
   "metadata": {},
   "outputs": [],
   "source": []
  },
  {
   "cell_type": "markdown",
   "id": "4ebc02eb",
   "metadata": {},
   "source": [
    "## Step 3: \n",
    "### Compute value_counts of categorical columns\n",
    "\n",
    "Test with your df_proc where product names are and how to access them.\n",
    "\n",
    "Then you can use the Counter module from Collections."
   ]
  },
  {
   "cell_type": "code",
   "execution_count": null,
   "id": "3dae728b",
   "metadata": {},
   "outputs": [],
   "source": []
  },
  {
   "cell_type": "code",
   "execution_count": null,
   "id": "c3616d11",
   "metadata": {},
   "outputs": [],
   "source": []
  },
  {
   "cell_type": "code",
   "execution_count": null,
   "id": "7066697b",
   "metadata": {},
   "outputs": [],
   "source": []
  },
  {
   "cell_type": "markdown",
   "id": "da7cf239",
   "metadata": {},
   "source": [
    "Compile all that into one or two functions. Test your function by calling it.\n",
    "\n",
    "Choose to have 2 arguments: \n",
    "- the column name,\n",
    "- the number of items to count (regarding the most commun items)"
   ]
  },
  {
   "cell_type": "code",
   "execution_count": null,
   "id": "3552e3c0",
   "metadata": {},
   "outputs": [],
   "source": []
  },
  {
   "cell_type": "code",
   "execution_count": null,
   "id": "0618325c",
   "metadata": {},
   "outputs": [],
   "source": []
  },
  {
   "cell_type": "markdown",
   "id": "c5a2df68",
   "metadata": {},
   "source": [
    "-----"
   ]
  },
  {
   "cell_type": "markdown",
   "id": "612d3b72",
   "metadata": {},
   "source": [
    "-----"
   ]
  },
  {
   "cell_type": "markdown",
   "id": "6866c0cd",
   "metadata": {},
   "source": [
    "# IV. Data lookup"
   ]
  },
  {
   "cell_type": "markdown",
   "id": "ca15bd3d",
   "metadata": {},
   "source": [
    "**The purpose of data science is to answer questions you ask yourself. This is where we go from now.**\n",
    "\n",
    "Using all the previous functions you have created, answer the different following questions. "
   ]
  },
  {
   "cell_type": "markdown",
   "id": "c32fe700",
   "metadata": {},
   "source": [
    "**Question 1:**\n",
    "\n",
    "Which product has the highest price? what are the indices of corresponding rows in `df_proc` and corresponding products?"
   ]
  },
  {
   "cell_type": "code",
   "execution_count": null,
   "id": "54e0608d",
   "metadata": {},
   "outputs": [],
   "source": []
  },
  {
   "cell_type": "code",
   "execution_count": null,
   "id": "5c91ef66",
   "metadata": {},
   "outputs": [],
   "source": []
  },
  {
   "cell_type": "markdown",
   "id": "11e780da",
   "metadata": {},
   "source": [
    "**Question 2:**\n",
    "\n",
    "What are the cheapest products with size 38A?\n"
   ]
  },
  {
   "cell_type": "code",
   "execution_count": null,
   "id": "67e07c3f",
   "metadata": {},
   "outputs": [],
   "source": []
  },
  {
   "cell_type": "code",
   "execution_count": null,
   "id": "cbd11740",
   "metadata": {},
   "outputs": [],
   "source": []
  },
  {
   "cell_type": "markdown",
   "id": "43323aee",
   "metadata": {},
   "source": [
    "**Question 3:**\n",
    "\n",
    "What are the cheapest products with available size 38A?"
   ]
  },
  {
   "cell_type": "code",
   "execution_count": null,
   "id": "635d05c2",
   "metadata": {},
   "outputs": [],
   "source": []
  },
  {
   "cell_type": "code",
   "execution_count": null,
   "id": "c5aac899",
   "metadata": {},
   "outputs": [],
   "source": []
  },
  {
   "cell_type": "markdown",
   "id": "9d746a38",
   "metadata": {},
   "source": [
    "**Question 4:**\n",
    "\n",
    "What are the cheapest 'sport bras' available in size 30?"
   ]
  },
  {
   "cell_type": "code",
   "execution_count": null,
   "id": "ba9e7f23",
   "metadata": {},
   "outputs": [],
   "source": []
  },
  {
   "cell_type": "code",
   "execution_count": null,
   "id": "84da0b75",
   "metadata": {},
   "outputs": [],
   "source": []
  },
  {
   "cell_type": "markdown",
   "id": "06b458d2",
   "metadata": {},
   "source": [
    "**Question 5:**\n",
    "\n",
    "What is the most expensive belt? and in which color is it available?"
   ]
  },
  {
   "cell_type": "code",
   "execution_count": null,
   "id": "28090a65",
   "metadata": {},
   "outputs": [],
   "source": []
  },
  {
   "cell_type": "code",
   "execution_count": null,
   "id": "4f9a8267",
   "metadata": {},
   "outputs": [],
   "source": []
  }
 ],
 "metadata": {
  "kernelspec": {
   "display_name": "Python 3 (ipykernel)",
   "language": "python",
   "name": "python3"
  },
  "language_info": {
   "codemirror_mode": {
    "name": "ipython",
    "version": 3
   },
   "file_extension": ".py",
   "mimetype": "text/x-python",
   "name": "python",
   "nbconvert_exporter": "python",
   "pygments_lexer": "ipython3",
   "version": "3.9.12"
  }
 },
 "nbformat": 4,
 "nbformat_minor": 5
}
